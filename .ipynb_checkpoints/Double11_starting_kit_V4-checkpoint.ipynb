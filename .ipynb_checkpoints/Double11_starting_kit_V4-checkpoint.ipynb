{
 "cells": [
  {
   "cell_type": "markdown",
   "metadata": {},
   "source": [
    "#  <center style=\"color:#00925B\"> DataCamp Project - Double11 </center>\n",
    "\n",
    "### Authors  : Ling JIN - Mxingxing DU - Rui YUAN - Mariam BARRY - Yu LI - Yanlin DU\n",
    "\n",
    " M2 DataScience - Université ParisScalay\n",
    " \n",
    "Professors :  Alexandre GRAMFORT & Balazs KEGL\n"
   ]
  },
  {
   "cell_type": "markdown",
   "metadata": {},
   "source": [
    "#  <span style=\"color:#00925B\"> Introduction  </span>  >>>ToDo\n",
    "\n",
    "- General introduction about Double 11 (news, reports) compared to Black Friday (Ling)\n",
    "- Why do we choose this project? (Yu Li)\n",
    "\n",
    "### Background & Motivations \n",
    "\n",
    "Merchants sometimes run big promotions (e.g., discounts or cash coupons) on particular dates (e.g., Boxing-day Sales, \"Black Friday\" or \"Double 11 (Nov 11th)”, in order to attract a large number of new buyers. **\"Double 11 (Nov 11th)” was created by Tmall.com in 2009. On November 11th, 2017, the total sales of one day reached 168.2 billion with about 40% increase compared to sales in 2016. 225 countries from all over the world participated in this shopping carnival.**\n",
    "\n",
    "Unfortunately, many of the attracted buyers are one-time deal hunters, and these promotions may have little long lasting impact on sales. **What's more, Tmall.com as the creator of Chinese shopping carnival \"Double 11 (Nov 11th)” is threatening by other e-commercial companies like Jingdong, Suning. As more and more customers involving in this shopping festival and more and more competitions appearing in the market, Tmall.com has to reinforce user loyalty to avoid customer loss.** \n",
    "\n",
    "To alleviate this problem, it is important for merchants to identify who can be converted into repeated buyers. By targeting on these potential loyal customers, merchants can greatly reduce the promotion cost and enhance the return on investment (ROI). It is well known that in the field of online advertising, customer targeting is extremely challenging, especially for fresh buyers. However, with the long-term user behavior log accumulated by Tmall.com, we may be able to solve this problem.\n",
    "\n",
    "We provide a set of merchants and their corresponding new buyers acquired during the promotion on the \"Double 11\" day. Your task is to predict which new buyers for given merchants will become loyal customers in the future. In other words, you need to predict the probability that these new buyers would purchase items from the same merchants again within 6 months.\n",
    "\n",
    ">>> Check/Modify as you wish. I hav ejust Copy past from the website-Mariam >>\n",
    "\n",
    "### Objective\n",
    "\n",
    "The aim of to predict  >>> \n",
    "\n",
    "**By analysing and modeling on customers' behavior dataset, Tmall.com aims to target potential repeated buyers in order to increase user loyalty and cut promotion expenses. This case is a binary classification problem. The output will be the probability of a loyal client. The result may lead to a scoring of clients' profiles for each store, thus each store can better choose target clients. **\n",
    "\n",
    "### Hypotheses\n",
    "**- Potential loyal clients will reperchase at least once in the next six month. Suppose that merchandises continue to make promotions during the year, precise and accurate target loyal clients can garantee revenues and even stimulate more their interest of shopping. What's more, for the rest of the one-time deal buyers, merchantises can adjust promotion strategies which is different from that for loyal clients, such as giving coupons for the next purchase.\n",
    "\n",
    "** - promotion cost (Yu Li) Suppose that for a round of promotion, the cost doesn't variate with number of clients applied to. It depends only on different kinds of promotions.**\n",
    "\n",
    "\n",
    "### Data \n",
    "\n",
    "The data set contains anonymized users' shopping logs in the past 6 months before and on the \"Double 11\" day,and the label information indicating whether they are repeated buyers. Due to privacy issue, data is sampled in a biased way, so the statistical result on this data set would deviate from the actual of Tmall.com. But it will not affect the applicability of the solution. The files for the training and testing data sets can be found in \"data_format2.zip\".Details of the data format can be found in the table below.\n",
    "\n",
    "Source : https://tianchi.aliyun.com/getStart/information.htm?spm=5176.100067.5678.2.274d6bb1eahGbL&raceId=231576\n",
    "\n",
    "### Metrics\n",
    "\n",
    "** - cost: TP profits; TN forbid useless investment; FP useless promotion; FN potential loss of clients**\n",
    "** Most importance concerns for merchandises are to keep loyal clients, so accuracy is more important. **\n"
   ]
  },
  {
   "cell_type": "markdown",
   "metadata": {},
   "source": [
    "# <span style=\"color:#00925B\"> OUTLINE - What is expected for this project ? Complete Starting_Kit.. </span>\n",
    "\n",
    "0. Let's finish this Sh*t...\n",
    "\n",
    "**1. Describe a good & motivating business case, should be easy to undertand**\n",
    "    - Can chek The Busniess Model in Canvas for more ideas\n",
    "    - Double 11 comparing to BlackFriday, Alibaba..\n",
    "    \n",
    "\n",
    "**2. Do a first DataVIZ on raw/cleaned data to gave some info about dataset /!\\**\n",
    "    - First DataSampling - What is the best way ? Criterion ? Random/Uniform over days ?\n",
    "    - Ask the right questions - What to we want to oulier ? >> Make Specific dataviz\n",
    "    - Do some Stats : Total, Unique, Top values of each features\n",
    "    - Example of questons : For each customer, compute the frequence of visit merchant shop, Focus on Top freuqence ?\n",
    "\n",
    "**3. Build a Baseline Model (not very performant) so that the score can be improved by others**\n",
    "    -  Decide : What is the target ? Binary/Proba ? Which performance Metric ? \n",
    "    -  We might need to MERGE the 3 data sets into 1 table to make with 1 train data\n",
    "    -  Need to make data tidy ? Exploit the 3 dataset ?\n",
    "    -  Provide a first dataset/model which give an acceptable score\n",
    "    -  We can improve the model with more feature engineering and try to get a good score, it is optional\n",
    "    \n",
    "**4. Build RAMP WORKFLOW - **\n",
    "\n",
    "- code FeaturesExtractor.py, \n",
    "- Classifier.py, \n",
    "- Problems.py\n",
    "- Make it all work together and submit it on Ramp.\n",
    "\n",
    "\n",
    "https://en.wikipedia.org/wiki/Business_Model_Canvas\n"
   ]
  },
  {
   "cell_type": "code",
   "execution_count": null,
   "metadata": {
    "collapsed": true
   },
   "outputs": [],
   "source": []
  },
  {
   "cell_type": "code",
   "execution_count": null,
   "metadata": {
    "collapsed": true
   },
   "outputs": [],
   "source": []
  },
  {
   "cell_type": "code",
   "execution_count": null,
   "metadata": {
    "collapsed": true
   },
   "outputs": [],
   "source": []
  },
  {
   "cell_type": "markdown",
   "metadata": {},
   "source": [
    "### Load librairies"
   ]
  },
  {
   "cell_type": "code",
   "execution_count": 1,
   "metadata": {
    "collapsed": true
   },
   "outputs": [],
   "source": [
    "import pandas as pd\n",
    "import numpy as np\n",
    "import matplotlib.pyplot as plt\n",
    "import unicodedata\n",
    "%matplotlib inline\n",
    "import datetime\n",
    "from sklearn.model_selection import train_test_split"
   ]
  },
  {
   "cell_type": "markdown",
   "metadata": {},
   "source": [
    "##  Data Exploration"
   ]
  },
  {
   "cell_type": "markdown",
   "metadata": {},
   "source": [
    "### Load data"
   ]
  },
  {
   "cell_type": "code",
   "execution_count": 2,
   "metadata": {
    "collapsed": true
   },
   "outputs": [],
   "source": [
    "train_filename_format = 'data_format1/train_format1.csv'\n",
    "train_filename_user = 'data_format1/user_info_format1.csv'\n",
    "train_filename_logs = 'data_format1/user_log_format1.csv'\n",
    "data_train = pd.read_csv(train_filename_format, sep=',')\n",
    "data_train_user = pd.read_csv(train_filename_user, sep=',')\n",
    "data_train_logs = pd.read_csv(train_filename_logs, sep=',')"
   ]
  },
  {
   "cell_type": "code",
   "execution_count": 19,
   "metadata": {
    "collapsed": true
   },
   "outputs": [],
   "source": [
    "test_filename_format = 'data_format2/test_format2.csv'\n",
    "data_test = pd.read_csv(test_filename_format, sep=',')"
   ]
  },
  {
   "cell_type": "code",
   "execution_count": 47,
   "metadata": {
    "collapsed": true
   },
   "outputs": [],
   "source": [
    "data_sample = pd.read_csv('data_format1/sample.csv')"
   ]
  },
  {
   "cell_type": "code",
   "execution_count": 55,
   "metadata": {
    "collapsed": true
   },
   "outputs": [],
   "source": [
    "data_count_duplicate = data_sample.groupby(['user_id', 'merchant_id', 'item_id', 'category_id', 'brand_id', 'time_stamp', 'action_type'])['label'].count().values"
   ]
  },
  {
   "cell_type": "code",
   "execution_count": 85,
   "metadata": {},
   "outputs": [
    {
     "data": {
      "text/plain": [
       "Index(['user_id', 'age_range', 'gender', 'merchant_id', 'label', 'item_id',\n",
       "       'category_id', 'brand_id', 'time_stamp', 'action_type', 'num_act'],\n",
       "      dtype='object')"
      ]
     },
     "execution_count": 85,
     "metadata": {},
     "output_type": "execute_result"
    }
   ],
   "source": [
    "data_sample.columns"
   ]
  },
  {
   "cell_type": "markdown",
   "metadata": {},
   "source": [
    "### groupby size"
   ]
  },
  {
   "cell_type": "code",
   "execution_count": 86,
   "metadata": {
    "collapsed": true
   },
   "outputs": [],
   "source": [
    "data_sample_new = data_sample.groupby(['user_id', 'age_range', 'gender', 'merchant_id', 'label', 'item_id',\n",
    "       'category_id', 'brand_id', 'time_stamp', 'action_type']).size().reset_index()"
   ]
  },
  {
   "cell_type": "code",
   "execution_count": 87,
   "metadata": {
    "collapsed": true
   },
   "outputs": [],
   "source": [
    "data_sample_new.rename(columns={0: 'count_duplicate'}, inplace=True)"
   ]
  },
  {
   "cell_type": "code",
   "execution_count": 88,
   "metadata": {
    "collapsed": true
   },
   "outputs": [
    {
     "data": {
      "text/html": [
       "<div>\n",
       "<style scoped>\n",
       "    .dataframe tbody tr th:only-of-type {\n",
       "        vertical-align: middle;\n",
       "    }\n",
       "\n",
       "    .dataframe tbody tr th {\n",
       "        vertical-align: top;\n",
       "    }\n",
       "\n",
       "    .dataframe thead th {\n",
       "        text-align: right;\n",
       "    }\n",
       "</style>\n",
       "<table border=\"1\" class=\"dataframe\">\n",
       "  <thead>\n",
       "    <tr style=\"text-align: right;\">\n",
       "      <th></th>\n",
       "      <th>user_id</th>\n",
       "      <th>age_range</th>\n",
       "      <th>gender</th>\n",
       "      <th>merchant_id</th>\n",
       "      <th>label</th>\n",
       "      <th>item_id</th>\n",
       "      <th>category_id</th>\n",
       "      <th>brand_id</th>\n",
       "      <th>time_stamp</th>\n",
       "      <th>action_type</th>\n",
       "      <th>count_duplicate</th>\n",
       "    </tr>\n",
       "  </thead>\n",
       "  <tbody>\n",
       "    <tr>\n",
       "      <th>0</th>\n",
       "      <td>132</td>\n",
       "      <td>3.0</td>\n",
       "      <td>0.0</td>\n",
       "      <td>4129</td>\n",
       "      <td>0</td>\n",
       "      <td>16548</td>\n",
       "      <td>602</td>\n",
       "      <td>5491</td>\n",
       "      <td>1111</td>\n",
       "      <td>2</td>\n",
       "      <td>1</td>\n",
       "    </tr>\n",
       "    <tr>\n",
       "      <th>1</th>\n",
       "      <td>132</td>\n",
       "      <td>3.0</td>\n",
       "      <td>0.0</td>\n",
       "      <td>4129</td>\n",
       "      <td>0</td>\n",
       "      <td>120573</td>\n",
       "      <td>1213</td>\n",
       "      <td>5491</td>\n",
       "      <td>1111</td>\n",
       "      <td>2</td>\n",
       "      <td>1</td>\n",
       "    </tr>\n",
       "    <tr>\n",
       "      <th>2</th>\n",
       "      <td>132</td>\n",
       "      <td>3.0</td>\n",
       "      <td>0.0</td>\n",
       "      <td>4129</td>\n",
       "      <td>0</td>\n",
       "      <td>297796</td>\n",
       "      <td>602</td>\n",
       "      <td>5491</td>\n",
       "      <td>1111</td>\n",
       "      <td>2</td>\n",
       "      <td>1</td>\n",
       "    </tr>\n",
       "    <tr>\n",
       "      <th>3</th>\n",
       "      <td>141</td>\n",
       "      <td>4.0</td>\n",
       "      <td>0.0</td>\n",
       "      <td>114</td>\n",
       "      <td>0</td>\n",
       "      <td>943740</td>\n",
       "      <td>320</td>\n",
       "      <td>4327</td>\n",
       "      <td>1111</td>\n",
       "      <td>0</td>\n",
       "      <td>4</td>\n",
       "    </tr>\n",
       "    <tr>\n",
       "      <th>4</th>\n",
       "      <td>141</td>\n",
       "      <td>4.0</td>\n",
       "      <td>0.0</td>\n",
       "      <td>114</td>\n",
       "      <td>0</td>\n",
       "      <td>943740</td>\n",
       "      <td>320</td>\n",
       "      <td>4327</td>\n",
       "      <td>1111</td>\n",
       "      <td>2</td>\n",
       "      <td>1</td>\n",
       "    </tr>\n",
       "    <tr>\n",
       "      <th>5</th>\n",
       "      <td>141</td>\n",
       "      <td>4.0</td>\n",
       "      <td>0.0</td>\n",
       "      <td>114</td>\n",
       "      <td>0</td>\n",
       "      <td>1080313</td>\n",
       "      <td>320</td>\n",
       "      <td>4327</td>\n",
       "      <td>1111</td>\n",
       "      <td>0</td>\n",
       "      <td>3</td>\n",
       "    </tr>\n",
       "    <tr>\n",
       "      <th>6</th>\n",
       "      <td>141</td>\n",
       "      <td>4.0</td>\n",
       "      <td>0.0</td>\n",
       "      <td>114</td>\n",
       "      <td>0</td>\n",
       "      <td>1080313</td>\n",
       "      <td>320</td>\n",
       "      <td>4327</td>\n",
       "      <td>1111</td>\n",
       "      <td>2</td>\n",
       "      <td>1</td>\n",
       "    </tr>\n",
       "    <tr>\n",
       "      <th>7</th>\n",
       "      <td>147</td>\n",
       "      <td>3.0</td>\n",
       "      <td>1.0</td>\n",
       "      <td>4760</td>\n",
       "      <td>0</td>\n",
       "      <td>235329</td>\n",
       "      <td>1611</td>\n",
       "      <td>247</td>\n",
       "      <td>1111</td>\n",
       "      <td>0</td>\n",
       "      <td>3</td>\n",
       "    </tr>\n",
       "    <tr>\n",
       "      <th>8</th>\n",
       "      <td>147</td>\n",
       "      <td>3.0</td>\n",
       "      <td>1.0</td>\n",
       "      <td>4760</td>\n",
       "      <td>0</td>\n",
       "      <td>235329</td>\n",
       "      <td>1611</td>\n",
       "      <td>247</td>\n",
       "      <td>1111</td>\n",
       "      <td>2</td>\n",
       "      <td>1</td>\n",
       "    </tr>\n",
       "    <tr>\n",
       "      <th>9</th>\n",
       "      <td>153</td>\n",
       "      <td>2.0</td>\n",
       "      <td>1.0</td>\n",
       "      <td>4705</td>\n",
       "      <td>0</td>\n",
       "      <td>746615</td>\n",
       "      <td>614</td>\n",
       "      <td>2891</td>\n",
       "      <td>1111</td>\n",
       "      <td>0</td>\n",
       "      <td>1</td>\n",
       "    </tr>\n",
       "    <tr>\n",
       "      <th>10</th>\n",
       "      <td>153</td>\n",
       "      <td>2.0</td>\n",
       "      <td>1.0</td>\n",
       "      <td>4705</td>\n",
       "      <td>0</td>\n",
       "      <td>746615</td>\n",
       "      <td>614</td>\n",
       "      <td>2891</td>\n",
       "      <td>1111</td>\n",
       "      <td>2</td>\n",
       "      <td>1</td>\n",
       "    </tr>\n",
       "    <tr>\n",
       "      <th>11</th>\n",
       "      <td>153</td>\n",
       "      <td>2.0</td>\n",
       "      <td>1.0</td>\n",
       "      <td>4705</td>\n",
       "      <td>0</td>\n",
       "      <td>995016</td>\n",
       "      <td>1090</td>\n",
       "      <td>2891</td>\n",
       "      <td>1111</td>\n",
       "      <td>0</td>\n",
       "      <td>4</td>\n",
       "    </tr>\n",
       "    <tr>\n",
       "      <th>12</th>\n",
       "      <td>153</td>\n",
       "      <td>2.0</td>\n",
       "      <td>1.0</td>\n",
       "      <td>4705</td>\n",
       "      <td>0</td>\n",
       "      <td>995016</td>\n",
       "      <td>1090</td>\n",
       "      <td>2891</td>\n",
       "      <td>1111</td>\n",
       "      <td>2</td>\n",
       "      <td>1</td>\n",
       "    </tr>\n",
       "    <tr>\n",
       "      <th>13</th>\n",
       "      <td>156</td>\n",
       "      <td>4.0</td>\n",
       "      <td>0.0</td>\n",
       "      <td>4097</td>\n",
       "      <td>0</td>\n",
       "      <td>381631</td>\n",
       "      <td>1130</td>\n",
       "      <td>7715</td>\n",
       "      <td>1111</td>\n",
       "      <td>2</td>\n",
       "      <td>1</td>\n",
       "    </tr>\n",
       "    <tr>\n",
       "      <th>14</th>\n",
       "      <td>159</td>\n",
       "      <td>2.0</td>\n",
       "      <td>0.0</td>\n",
       "      <td>564</td>\n",
       "      <td>0</td>\n",
       "      <td>760222</td>\n",
       "      <td>656</td>\n",
       "      <td>272</td>\n",
       "      <td>1111</td>\n",
       "      <td>0</td>\n",
       "      <td>1</td>\n",
       "    </tr>\n",
       "    <tr>\n",
       "      <th>15</th>\n",
       "      <td>159</td>\n",
       "      <td>2.0</td>\n",
       "      <td>0.0</td>\n",
       "      <td>564</td>\n",
       "      <td>0</td>\n",
       "      <td>760222</td>\n",
       "      <td>656</td>\n",
       "      <td>272</td>\n",
       "      <td>1111</td>\n",
       "      <td>2</td>\n",
       "      <td>1</td>\n",
       "    </tr>\n",
       "    <tr>\n",
       "      <th>16</th>\n",
       "      <td>159</td>\n",
       "      <td>2.0</td>\n",
       "      <td>0.0</td>\n",
       "      <td>3742</td>\n",
       "      <td>0</td>\n",
       "      <td>441290</td>\n",
       "      <td>1577</td>\n",
       "      <td>5037</td>\n",
       "      <td>1111</td>\n",
       "      <td>0</td>\n",
       "      <td>2</td>\n",
       "    </tr>\n",
       "    <tr>\n",
       "      <th>17</th>\n",
       "      <td>159</td>\n",
       "      <td>2.0</td>\n",
       "      <td>0.0</td>\n",
       "      <td>3742</td>\n",
       "      <td>0</td>\n",
       "      <td>441290</td>\n",
       "      <td>1577</td>\n",
       "      <td>5037</td>\n",
       "      <td>1111</td>\n",
       "      <td>2</td>\n",
       "      <td>1</td>\n",
       "    </tr>\n",
       "    <tr>\n",
       "      <th>18</th>\n",
       "      <td>162</td>\n",
       "      <td>6.0</td>\n",
       "      <td>0.0</td>\n",
       "      <td>798</td>\n",
       "      <td>0</td>\n",
       "      <td>367466</td>\n",
       "      <td>218</td>\n",
       "      <td>385</td>\n",
       "      <td>1111</td>\n",
       "      <td>2</td>\n",
       "      <td>1</td>\n",
       "    </tr>\n",
       "    <tr>\n",
       "      <th>19</th>\n",
       "      <td>171</td>\n",
       "      <td>4.0</td>\n",
       "      <td>1.0</td>\n",
       "      <td>4472</td>\n",
       "      <td>0</td>\n",
       "      <td>932644</td>\n",
       "      <td>1188</td>\n",
       "      <td>7283</td>\n",
       "      <td>1106</td>\n",
       "      <td>0</td>\n",
       "      <td>1</td>\n",
       "    </tr>\n",
       "    <tr>\n",
       "      <th>20</th>\n",
       "      <td>171</td>\n",
       "      <td>4.0</td>\n",
       "      <td>1.0</td>\n",
       "      <td>4472</td>\n",
       "      <td>0</td>\n",
       "      <td>932644</td>\n",
       "      <td>1188</td>\n",
       "      <td>7283</td>\n",
       "      <td>1111</td>\n",
       "      <td>0</td>\n",
       "      <td>1</td>\n",
       "    </tr>\n",
       "    <tr>\n",
       "      <th>21</th>\n",
       "      <td>171</td>\n",
       "      <td>4.0</td>\n",
       "      <td>1.0</td>\n",
       "      <td>4472</td>\n",
       "      <td>0</td>\n",
       "      <td>932644</td>\n",
       "      <td>1188</td>\n",
       "      <td>7283</td>\n",
       "      <td>1111</td>\n",
       "      <td>2</td>\n",
       "      <td>1</td>\n",
       "    </tr>\n",
       "    <tr>\n",
       "      <th>22</th>\n",
       "      <td>174</td>\n",
       "      <td>3.0</td>\n",
       "      <td>1.0</td>\n",
       "      <td>3163</td>\n",
       "      <td>0</td>\n",
       "      <td>437216</td>\n",
       "      <td>407</td>\n",
       "      <td>3881</td>\n",
       "      <td>629</td>\n",
       "      <td>0</td>\n",
       "      <td>2</td>\n",
       "    </tr>\n",
       "    <tr>\n",
       "      <th>23</th>\n",
       "      <td>174</td>\n",
       "      <td>3.0</td>\n",
       "      <td>1.0</td>\n",
       "      <td>3163</td>\n",
       "      <td>0</td>\n",
       "      <td>698879</td>\n",
       "      <td>407</td>\n",
       "      <td>3881</td>\n",
       "      <td>1111</td>\n",
       "      <td>0</td>\n",
       "      <td>1</td>\n",
       "    </tr>\n",
       "    <tr>\n",
       "      <th>24</th>\n",
       "      <td>174</td>\n",
       "      <td>3.0</td>\n",
       "      <td>1.0</td>\n",
       "      <td>3163</td>\n",
       "      <td>0</td>\n",
       "      <td>698879</td>\n",
       "      <td>407</td>\n",
       "      <td>3881</td>\n",
       "      <td>1111</td>\n",
       "      <td>2</td>\n",
       "      <td>1</td>\n",
       "    </tr>\n",
       "    <tr>\n",
       "      <th>25</th>\n",
       "      <td>180</td>\n",
       "      <td>4.0</td>\n",
       "      <td>0.0</td>\n",
       "      <td>4976</td>\n",
       "      <td>0</td>\n",
       "      <td>22801</td>\n",
       "      <td>1591</td>\n",
       "      <td>6143</td>\n",
       "      <td>1110</td>\n",
       "      <td>0</td>\n",
       "      <td>1</td>\n",
       "    </tr>\n",
       "    <tr>\n",
       "      <th>26</th>\n",
       "      <td>180</td>\n",
       "      <td>4.0</td>\n",
       "      <td>0.0</td>\n",
       "      <td>4976</td>\n",
       "      <td>0</td>\n",
       "      <td>78548</td>\n",
       "      <td>389</td>\n",
       "      <td>6143</td>\n",
       "      <td>1110</td>\n",
       "      <td>0</td>\n",
       "      <td>1</td>\n",
       "    </tr>\n",
       "    <tr>\n",
       "      <th>27</th>\n",
       "      <td>180</td>\n",
       "      <td>4.0</td>\n",
       "      <td>0.0</td>\n",
       "      <td>4976</td>\n",
       "      <td>0</td>\n",
       "      <td>89953</td>\n",
       "      <td>389</td>\n",
       "      <td>6143</td>\n",
       "      <td>1110</td>\n",
       "      <td>0</td>\n",
       "      <td>1</td>\n",
       "    </tr>\n",
       "    <tr>\n",
       "      <th>28</th>\n",
       "      <td>180</td>\n",
       "      <td>4.0</td>\n",
       "      <td>0.0</td>\n",
       "      <td>4976</td>\n",
       "      <td>0</td>\n",
       "      <td>316319</td>\n",
       "      <td>389</td>\n",
       "      <td>6143</td>\n",
       "      <td>1110</td>\n",
       "      <td>0</td>\n",
       "      <td>1</td>\n",
       "    </tr>\n",
       "    <tr>\n",
       "      <th>29</th>\n",
       "      <td>180</td>\n",
       "      <td>4.0</td>\n",
       "      <td>0.0</td>\n",
       "      <td>4976</td>\n",
       "      <td>0</td>\n",
       "      <td>842831</td>\n",
       "      <td>389</td>\n",
       "      <td>6143</td>\n",
       "      <td>1110</td>\n",
       "      <td>0</td>\n",
       "      <td>3</td>\n",
       "    </tr>\n",
       "    <tr>\n",
       "      <th>...</th>\n",
       "      <td>...</td>\n",
       "      <td>...</td>\n",
       "      <td>...</td>\n",
       "      <td>...</td>\n",
       "      <td>...</td>\n",
       "      <td>...</td>\n",
       "      <td>...</td>\n",
       "      <td>...</td>\n",
       "      <td>...</td>\n",
       "      <td>...</td>\n",
       "      <td>...</td>\n",
       "    </tr>\n",
       "    <tr>\n",
       "      <th>164776</th>\n",
       "      <td>424113</td>\n",
       "      <td>0.0</td>\n",
       "      <td>0.0</td>\n",
       "      <td>3205</td>\n",
       "      <td>0</td>\n",
       "      <td>275918</td>\n",
       "      <td>489</td>\n",
       "      <td>2270</td>\n",
       "      <td>1110</td>\n",
       "      <td>0</td>\n",
       "      <td>1</td>\n",
       "    </tr>\n",
       "    <tr>\n",
       "      <th>164777</th>\n",
       "      <td>424113</td>\n",
       "      <td>0.0</td>\n",
       "      <td>0.0</td>\n",
       "      <td>3205</td>\n",
       "      <td>0</td>\n",
       "      <td>403074</td>\n",
       "      <td>1142</td>\n",
       "      <td>2270</td>\n",
       "      <td>1110</td>\n",
       "      <td>3</td>\n",
       "      <td>1</td>\n",
       "    </tr>\n",
       "    <tr>\n",
       "      <th>164778</th>\n",
       "      <td>424113</td>\n",
       "      <td>0.0</td>\n",
       "      <td>0.0</td>\n",
       "      <td>3205</td>\n",
       "      <td>0</td>\n",
       "      <td>413046</td>\n",
       "      <td>1129</td>\n",
       "      <td>2270</td>\n",
       "      <td>1011</td>\n",
       "      <td>0</td>\n",
       "      <td>1</td>\n",
       "    </tr>\n",
       "    <tr>\n",
       "      <th>164779</th>\n",
       "      <td>424113</td>\n",
       "      <td>0.0</td>\n",
       "      <td>0.0</td>\n",
       "      <td>3205</td>\n",
       "      <td>0</td>\n",
       "      <td>413046</td>\n",
       "      <td>1129</td>\n",
       "      <td>2270</td>\n",
       "      <td>1011</td>\n",
       "      <td>3</td>\n",
       "      <td>1</td>\n",
       "    </tr>\n",
       "    <tr>\n",
       "      <th>164780</th>\n",
       "      <td>424113</td>\n",
       "      <td>0.0</td>\n",
       "      <td>0.0</td>\n",
       "      <td>3205</td>\n",
       "      <td>0</td>\n",
       "      <td>413046</td>\n",
       "      <td>1129</td>\n",
       "      <td>2270</td>\n",
       "      <td>1110</td>\n",
       "      <td>0</td>\n",
       "      <td>1</td>\n",
       "    </tr>\n",
       "    <tr>\n",
       "      <th>164781</th>\n",
       "      <td>424113</td>\n",
       "      <td>0.0</td>\n",
       "      <td>0.0</td>\n",
       "      <td>3205</td>\n",
       "      <td>0</td>\n",
       "      <td>413046</td>\n",
       "      <td>1129</td>\n",
       "      <td>2270</td>\n",
       "      <td>1110</td>\n",
       "      <td>3</td>\n",
       "      <td>1</td>\n",
       "    </tr>\n",
       "    <tr>\n",
       "      <th>164782</th>\n",
       "      <td>424113</td>\n",
       "      <td>0.0</td>\n",
       "      <td>0.0</td>\n",
       "      <td>3205</td>\n",
       "      <td>0</td>\n",
       "      <td>414697</td>\n",
       "      <td>1129</td>\n",
       "      <td>2270</td>\n",
       "      <td>1110</td>\n",
       "      <td>0</td>\n",
       "      <td>1</td>\n",
       "    </tr>\n",
       "    <tr>\n",
       "      <th>164783</th>\n",
       "      <td>424113</td>\n",
       "      <td>0.0</td>\n",
       "      <td>0.0</td>\n",
       "      <td>3205</td>\n",
       "      <td>0</td>\n",
       "      <td>607347</td>\n",
       "      <td>1129</td>\n",
       "      <td>2270</td>\n",
       "      <td>1110</td>\n",
       "      <td>0</td>\n",
       "      <td>1</td>\n",
       "    </tr>\n",
       "    <tr>\n",
       "      <th>164784</th>\n",
       "      <td>424113</td>\n",
       "      <td>0.0</td>\n",
       "      <td>0.0</td>\n",
       "      <td>3205</td>\n",
       "      <td>0</td>\n",
       "      <td>641422</td>\n",
       "      <td>1129</td>\n",
       "      <td>2270</td>\n",
       "      <td>1110</td>\n",
       "      <td>3</td>\n",
       "      <td>1</td>\n",
       "    </tr>\n",
       "    <tr>\n",
       "      <th>164785</th>\n",
       "      <td>424113</td>\n",
       "      <td>0.0</td>\n",
       "      <td>0.0</td>\n",
       "      <td>3205</td>\n",
       "      <td>0</td>\n",
       "      <td>723097</td>\n",
       "      <td>1142</td>\n",
       "      <td>2270</td>\n",
       "      <td>1110</td>\n",
       "      <td>3</td>\n",
       "      <td>1</td>\n",
       "    </tr>\n",
       "    <tr>\n",
       "      <th>164786</th>\n",
       "      <td>424113</td>\n",
       "      <td>0.0</td>\n",
       "      <td>0.0</td>\n",
       "      <td>3205</td>\n",
       "      <td>0</td>\n",
       "      <td>758374</td>\n",
       "      <td>1129</td>\n",
       "      <td>2270</td>\n",
       "      <td>1010</td>\n",
       "      <td>0</td>\n",
       "      <td>1</td>\n",
       "    </tr>\n",
       "    <tr>\n",
       "      <th>164787</th>\n",
       "      <td>424113</td>\n",
       "      <td>0.0</td>\n",
       "      <td>0.0</td>\n",
       "      <td>3205</td>\n",
       "      <td>0</td>\n",
       "      <td>758374</td>\n",
       "      <td>1129</td>\n",
       "      <td>2270</td>\n",
       "      <td>1110</td>\n",
       "      <td>0</td>\n",
       "      <td>4</td>\n",
       "    </tr>\n",
       "    <tr>\n",
       "      <th>164788</th>\n",
       "      <td>424113</td>\n",
       "      <td>0.0</td>\n",
       "      <td>0.0</td>\n",
       "      <td>3205</td>\n",
       "      <td>0</td>\n",
       "      <td>758374</td>\n",
       "      <td>1129</td>\n",
       "      <td>2270</td>\n",
       "      <td>1110</td>\n",
       "      <td>3</td>\n",
       "      <td>1</td>\n",
       "    </tr>\n",
       "    <tr>\n",
       "      <th>164789</th>\n",
       "      <td>424113</td>\n",
       "      <td>0.0</td>\n",
       "      <td>0.0</td>\n",
       "      <td>3205</td>\n",
       "      <td>0</td>\n",
       "      <td>830436</td>\n",
       "      <td>1129</td>\n",
       "      <td>2270</td>\n",
       "      <td>1110</td>\n",
       "      <td>3</td>\n",
       "      <td>1</td>\n",
       "    </tr>\n",
       "    <tr>\n",
       "      <th>164790</th>\n",
       "      <td>424113</td>\n",
       "      <td>0.0</td>\n",
       "      <td>0.0</td>\n",
       "      <td>3205</td>\n",
       "      <td>0</td>\n",
       "      <td>998103</td>\n",
       "      <td>1129</td>\n",
       "      <td>2270</td>\n",
       "      <td>1110</td>\n",
       "      <td>3</td>\n",
       "      <td>1</td>\n",
       "    </tr>\n",
       "    <tr>\n",
       "      <th>164791</th>\n",
       "      <td>424113</td>\n",
       "      <td>0.0</td>\n",
       "      <td>0.0</td>\n",
       "      <td>3205</td>\n",
       "      <td>0</td>\n",
       "      <td>1004467</td>\n",
       "      <td>489</td>\n",
       "      <td>2270</td>\n",
       "      <td>1110</td>\n",
       "      <td>0</td>\n",
       "      <td>1</td>\n",
       "    </tr>\n",
       "    <tr>\n",
       "      <th>164792</th>\n",
       "      <td>424128</td>\n",
       "      <td>4.0</td>\n",
       "      <td>0.0</td>\n",
       "      <td>361</td>\n",
       "      <td>0</td>\n",
       "      <td>454937</td>\n",
       "      <td>276</td>\n",
       "      <td>5735</td>\n",
       "      <td>1030</td>\n",
       "      <td>0</td>\n",
       "      <td>2</td>\n",
       "    </tr>\n",
       "    <tr>\n",
       "      <th>164793</th>\n",
       "      <td>424128</td>\n",
       "      <td>4.0</td>\n",
       "      <td>0.0</td>\n",
       "      <td>361</td>\n",
       "      <td>0</td>\n",
       "      <td>454937</td>\n",
       "      <td>276</td>\n",
       "      <td>5735</td>\n",
       "      <td>1030</td>\n",
       "      <td>3</td>\n",
       "      <td>1</td>\n",
       "    </tr>\n",
       "    <tr>\n",
       "      <th>164794</th>\n",
       "      <td>424128</td>\n",
       "      <td>4.0</td>\n",
       "      <td>0.0</td>\n",
       "      <td>361</td>\n",
       "      <td>0</td>\n",
       "      <td>454937</td>\n",
       "      <td>276</td>\n",
       "      <td>5735</td>\n",
       "      <td>1111</td>\n",
       "      <td>0</td>\n",
       "      <td>1</td>\n",
       "    </tr>\n",
       "    <tr>\n",
       "      <th>164795</th>\n",
       "      <td>424128</td>\n",
       "      <td>4.0</td>\n",
       "      <td>0.0</td>\n",
       "      <td>361</td>\n",
       "      <td>0</td>\n",
       "      <td>454937</td>\n",
       "      <td>276</td>\n",
       "      <td>5735</td>\n",
       "      <td>1111</td>\n",
       "      <td>2</td>\n",
       "      <td>1</td>\n",
       "    </tr>\n",
       "    <tr>\n",
       "      <th>164796</th>\n",
       "      <td>424128</td>\n",
       "      <td>4.0</td>\n",
       "      <td>0.0</td>\n",
       "      <td>361</td>\n",
       "      <td>0</td>\n",
       "      <td>552700</td>\n",
       "      <td>276</td>\n",
       "      <td>5735</td>\n",
       "      <td>1111</td>\n",
       "      <td>0</td>\n",
       "      <td>1</td>\n",
       "    </tr>\n",
       "    <tr>\n",
       "      <th>164797</th>\n",
       "      <td>424131</td>\n",
       "      <td>4.0</td>\n",
       "      <td>0.0</td>\n",
       "      <td>1340</td>\n",
       "      <td>0</td>\n",
       "      <td>61338</td>\n",
       "      <td>387</td>\n",
       "      <td>1981</td>\n",
       "      <td>1028</td>\n",
       "      <td>0</td>\n",
       "      <td>3</td>\n",
       "    </tr>\n",
       "    <tr>\n",
       "      <th>164798</th>\n",
       "      <td>424131</td>\n",
       "      <td>4.0</td>\n",
       "      <td>0.0</td>\n",
       "      <td>1340</td>\n",
       "      <td>0</td>\n",
       "      <td>401284</td>\n",
       "      <td>662</td>\n",
       "      <td>1981</td>\n",
       "      <td>1111</td>\n",
       "      <td>0</td>\n",
       "      <td>2</td>\n",
       "    </tr>\n",
       "    <tr>\n",
       "      <th>164799</th>\n",
       "      <td>424131</td>\n",
       "      <td>4.0</td>\n",
       "      <td>0.0</td>\n",
       "      <td>1340</td>\n",
       "      <td>0</td>\n",
       "      <td>401284</td>\n",
       "      <td>662</td>\n",
       "      <td>1981</td>\n",
       "      <td>1111</td>\n",
       "      <td>2</td>\n",
       "      <td>1</td>\n",
       "    </tr>\n",
       "    <tr>\n",
       "      <th>164800</th>\n",
       "      <td>424131</td>\n",
       "      <td>4.0</td>\n",
       "      <td>0.0</td>\n",
       "      <td>1340</td>\n",
       "      <td>0</td>\n",
       "      <td>539687</td>\n",
       "      <td>834</td>\n",
       "      <td>1981</td>\n",
       "      <td>1111</td>\n",
       "      <td>0</td>\n",
       "      <td>2</td>\n",
       "    </tr>\n",
       "    <tr>\n",
       "      <th>164801</th>\n",
       "      <td>424131</td>\n",
       "      <td>4.0</td>\n",
       "      <td>0.0</td>\n",
       "      <td>1340</td>\n",
       "      <td>0</td>\n",
       "      <td>539687</td>\n",
       "      <td>834</td>\n",
       "      <td>1981</td>\n",
       "      <td>1111</td>\n",
       "      <td>2</td>\n",
       "      <td>1</td>\n",
       "    </tr>\n",
       "    <tr>\n",
       "      <th>164802</th>\n",
       "      <td>424131</td>\n",
       "      <td>4.0</td>\n",
       "      <td>0.0</td>\n",
       "      <td>1340</td>\n",
       "      <td>0</td>\n",
       "      <td>886351</td>\n",
       "      <td>1577</td>\n",
       "      <td>1981</td>\n",
       "      <td>1111</td>\n",
       "      <td>0</td>\n",
       "      <td>2</td>\n",
       "    </tr>\n",
       "    <tr>\n",
       "      <th>164803</th>\n",
       "      <td>424131</td>\n",
       "      <td>4.0</td>\n",
       "      <td>0.0</td>\n",
       "      <td>3042</td>\n",
       "      <td>0</td>\n",
       "      <td>29227</td>\n",
       "      <td>420</td>\n",
       "      <td>1579</td>\n",
       "      <td>1105</td>\n",
       "      <td>0</td>\n",
       "      <td>1</td>\n",
       "    </tr>\n",
       "    <tr>\n",
       "      <th>164804</th>\n",
       "      <td>424131</td>\n",
       "      <td>4.0</td>\n",
       "      <td>0.0</td>\n",
       "      <td>3042</td>\n",
       "      <td>0</td>\n",
       "      <td>29227</td>\n",
       "      <td>420</td>\n",
       "      <td>1579</td>\n",
       "      <td>1111</td>\n",
       "      <td>0</td>\n",
       "      <td>1</td>\n",
       "    </tr>\n",
       "    <tr>\n",
       "      <th>164805</th>\n",
       "      <td>424131</td>\n",
       "      <td>4.0</td>\n",
       "      <td>0.0</td>\n",
       "      <td>3042</td>\n",
       "      <td>0</td>\n",
       "      <td>29227</td>\n",
       "      <td>420</td>\n",
       "      <td>1579</td>\n",
       "      <td>1111</td>\n",
       "      <td>2</td>\n",
       "      <td>1</td>\n",
       "    </tr>\n",
       "  </tbody>\n",
       "</table>\n",
       "<p>164806 rows × 11 columns</p>\n",
       "</div>"
      ],
      "text/plain": [
       "        user_id  age_range  gender  merchant_id  label  item_id  category_id  \\\n",
       "0           132        3.0     0.0         4129      0    16548          602   \n",
       "1           132        3.0     0.0         4129      0   120573         1213   \n",
       "2           132        3.0     0.0         4129      0   297796          602   \n",
       "3           141        4.0     0.0          114      0   943740          320   \n",
       "4           141        4.0     0.0          114      0   943740          320   \n",
       "5           141        4.0     0.0          114      0  1080313          320   \n",
       "6           141        4.0     0.0          114      0  1080313          320   \n",
       "7           147        3.0     1.0         4760      0   235329         1611   \n",
       "8           147        3.0     1.0         4760      0   235329         1611   \n",
       "9           153        2.0     1.0         4705      0   746615          614   \n",
       "10          153        2.0     1.0         4705      0   746615          614   \n",
       "11          153        2.0     1.0         4705      0   995016         1090   \n",
       "12          153        2.0     1.0         4705      0   995016         1090   \n",
       "13          156        4.0     0.0         4097      0   381631         1130   \n",
       "14          159        2.0     0.0          564      0   760222          656   \n",
       "15          159        2.0     0.0          564      0   760222          656   \n",
       "16          159        2.0     0.0         3742      0   441290         1577   \n",
       "17          159        2.0     0.0         3742      0   441290         1577   \n",
       "18          162        6.0     0.0          798      0   367466          218   \n",
       "19          171        4.0     1.0         4472      0   932644         1188   \n",
       "20          171        4.0     1.0         4472      0   932644         1188   \n",
       "21          171        4.0     1.0         4472      0   932644         1188   \n",
       "22          174        3.0     1.0         3163      0   437216          407   \n",
       "23          174        3.0     1.0         3163      0   698879          407   \n",
       "24          174        3.0     1.0         3163      0   698879          407   \n",
       "25          180        4.0     0.0         4976      0    22801         1591   \n",
       "26          180        4.0     0.0         4976      0    78548          389   \n",
       "27          180        4.0     0.0         4976      0    89953          389   \n",
       "28          180        4.0     0.0         4976      0   316319          389   \n",
       "29          180        4.0     0.0         4976      0   842831          389   \n",
       "...         ...        ...     ...          ...    ...      ...          ...   \n",
       "164776   424113        0.0     0.0         3205      0   275918          489   \n",
       "164777   424113        0.0     0.0         3205      0   403074         1142   \n",
       "164778   424113        0.0     0.0         3205      0   413046         1129   \n",
       "164779   424113        0.0     0.0         3205      0   413046         1129   \n",
       "164780   424113        0.0     0.0         3205      0   413046         1129   \n",
       "164781   424113        0.0     0.0         3205      0   413046         1129   \n",
       "164782   424113        0.0     0.0         3205      0   414697         1129   \n",
       "164783   424113        0.0     0.0         3205      0   607347         1129   \n",
       "164784   424113        0.0     0.0         3205      0   641422         1129   \n",
       "164785   424113        0.0     0.0         3205      0   723097         1142   \n",
       "164786   424113        0.0     0.0         3205      0   758374         1129   \n",
       "164787   424113        0.0     0.0         3205      0   758374         1129   \n",
       "164788   424113        0.0     0.0         3205      0   758374         1129   \n",
       "164789   424113        0.0     0.0         3205      0   830436         1129   \n",
       "164790   424113        0.0     0.0         3205      0   998103         1129   \n",
       "164791   424113        0.0     0.0         3205      0  1004467          489   \n",
       "164792   424128        4.0     0.0          361      0   454937          276   \n",
       "164793   424128        4.0     0.0          361      0   454937          276   \n",
       "164794   424128        4.0     0.0          361      0   454937          276   \n",
       "164795   424128        4.0     0.0          361      0   454937          276   \n",
       "164796   424128        4.0     0.0          361      0   552700          276   \n",
       "164797   424131        4.0     0.0         1340      0    61338          387   \n",
       "164798   424131        4.0     0.0         1340      0   401284          662   \n",
       "164799   424131        4.0     0.0         1340      0   401284          662   \n",
       "164800   424131        4.0     0.0         1340      0   539687          834   \n",
       "164801   424131        4.0     0.0         1340      0   539687          834   \n",
       "164802   424131        4.0     0.0         1340      0   886351         1577   \n",
       "164803   424131        4.0     0.0         3042      0    29227          420   \n",
       "164804   424131        4.0     0.0         3042      0    29227          420   \n",
       "164805   424131        4.0     0.0         3042      0    29227          420   \n",
       "\n",
       "        brand_id  time_stamp  action_type  count_duplicate  \n",
       "0           5491        1111            2                1  \n",
       "1           5491        1111            2                1  \n",
       "2           5491        1111            2                1  \n",
       "3           4327        1111            0                4  \n",
       "4           4327        1111            2                1  \n",
       "5           4327        1111            0                3  \n",
       "6           4327        1111            2                1  \n",
       "7            247        1111            0                3  \n",
       "8            247        1111            2                1  \n",
       "9           2891        1111            0                1  \n",
       "10          2891        1111            2                1  \n",
       "11          2891        1111            0                4  \n",
       "12          2891        1111            2                1  \n",
       "13          7715        1111            2                1  \n",
       "14           272        1111            0                1  \n",
       "15           272        1111            2                1  \n",
       "16          5037        1111            0                2  \n",
       "17          5037        1111            2                1  \n",
       "18           385        1111            2                1  \n",
       "19          7283        1106            0                1  \n",
       "20          7283        1111            0                1  \n",
       "21          7283        1111            2                1  \n",
       "22          3881         629            0                2  \n",
       "23          3881        1111            0                1  \n",
       "24          3881        1111            2                1  \n",
       "25          6143        1110            0                1  \n",
       "26          6143        1110            0                1  \n",
       "27          6143        1110            0                1  \n",
       "28          6143        1110            0                1  \n",
       "29          6143        1110            0                3  \n",
       "...          ...         ...          ...              ...  \n",
       "164776      2270        1110            0                1  \n",
       "164777      2270        1110            3                1  \n",
       "164778      2270        1011            0                1  \n",
       "164779      2270        1011            3                1  \n",
       "164780      2270        1110            0                1  \n",
       "164781      2270        1110            3                1  \n",
       "164782      2270        1110            0                1  \n",
       "164783      2270        1110            0                1  \n",
       "164784      2270        1110            3                1  \n",
       "164785      2270        1110            3                1  \n",
       "164786      2270        1010            0                1  \n",
       "164787      2270        1110            0                4  \n",
       "164788      2270        1110            3                1  \n",
       "164789      2270        1110            3                1  \n",
       "164790      2270        1110            3                1  \n",
       "164791      2270        1110            0                1  \n",
       "164792      5735        1030            0                2  \n",
       "164793      5735        1030            3                1  \n",
       "164794      5735        1111            0                1  \n",
       "164795      5735        1111            2                1  \n",
       "164796      5735        1111            0                1  \n",
       "164797      1981        1028            0                3  \n",
       "164798      1981        1111            0                2  \n",
       "164799      1981        1111            2                1  \n",
       "164800      1981        1111            0                2  \n",
       "164801      1981        1111            2                1  \n",
       "164802      1981        1111            0                2  \n",
       "164803      1579        1105            0                1  \n",
       "164804      1579        1111            0                1  \n",
       "164805      1579        1111            2                1  \n",
       "\n",
       "[164806 rows x 11 columns]"
      ]
     },
     "execution_count": 88,
     "metadata": {},
     "output_type": "execute_result"
    }
   ],
   "source": [
    "data_sample_new"
   ]
  },
  {
   "cell_type": "code",
   "execution_count": 89,
   "metadata": {
    "collapsed": true
   },
   "outputs": [],
   "source": [
    "data_sample_new.to_csv('sample_final.csv')"
   ]
  },
  {
   "cell_type": "markdown",
   "metadata": {},
   "source": [
    "### Select 20% user"
   ]
  },
  {
   "cell_type": "code",
   "execution_count": 4,
   "metadata": {
    "collapsed": true
   },
   "outputs": [],
   "source": [
    "user_sample = np.random.choice(np.unique(data_train_user['user_id']), \n",
    "                               int(0.2*len(np.unique(data_train_user['user_id']))), replace=False)"
   ]
  },
  {
   "cell_type": "code",
   "execution_count": 5,
   "metadata": {
    "collapsed": true
   },
   "outputs": [],
   "source": [
    "def sample_data(data, data_logs, data_user, user_sample):\n",
    "    data.columns = ['user_id', 'seller_id', 'label']\n",
    "    data_sample = data[data['user_id'].isin(user_sample)].reset_index(drop=True)\n",
    "    data_user_sample = data_user[data_user['user_id'].isin(user_sample)].reset_index(drop=True)\n",
    "    data_logs_sample = data_logs[data_logs['user_id'].isin(user_sample)].reset_index(drop=True)\n",
    "    sample_data = pd.merge(data_logs_sample, data_user_sample, on='user_id')\n",
    "    sample_data = pd.merge(sample_data, data_sample, on=['user_id', 'seller_id'])\n",
    "    return sample_data.drop_duplicates()"
   ]
  },
  {
   "cell_type": "code",
   "execution_count": 6,
   "metadata": {
    "collapsed": true
   },
   "outputs": [],
   "source": [
    "data_new = sample_data(data_train, data_train_logs, data_train_user, user_sample)"
   ]
  },
  {
   "cell_type": "code",
   "execution_count": 20,
   "metadata": {
    "collapsed": true
   },
   "outputs": [],
   "source": [
    "data_new_new = data_new.drop_duplicates()"
   ]
  },
  {
   "cell_type": "markdown",
   "metadata": {},
   "source": [
    "### Split training and test data"
   ]
  },
  {
   "cell_type": "code",
   "execution_count": 114,
   "metadata": {
    "collapsed": true
   },
   "outputs": [],
   "source": [
    "X_train, X_test, y_train, y_test = train_test_split(data_sample_new.loc[:, data_sample_new.columns != 'label'], data_sample_new['label'], test_size=0.1, shuffle=True, \n",
    "                                                    random_state=42, stratify=np.array(data_sample_new['label']))"
   ]
  },
  {
   "cell_type": "code",
   "execution_count": 115,
   "metadata": {
    "collapsed": true
   },
   "outputs": [],
   "source": [
    "X_train['label'] = y_train.copy()"
   ]
  },
  {
   "cell_type": "code",
   "execution_count": 116,
   "metadata": {},
   "outputs": [
    {
     "data": {
      "text/plain": [
       "(148325, 11)"
      ]
     },
     "execution_count": 116,
     "metadata": {},
     "output_type": "execute_result"
    }
   ],
   "source": [
    "X_train.shape"
   ]
  },
  {
   "cell_type": "code",
   "execution_count": 117,
   "metadata": {},
   "outputs": [
    {
     "data": {
      "text/plain": [
       "(16481, 10)"
      ]
     },
     "execution_count": 117,
     "metadata": {},
     "output_type": "execute_result"
    }
   ],
   "source": [
    "X_test.shape"
   ]
  },
  {
   "cell_type": "code",
   "execution_count": 118,
   "metadata": {},
   "outputs": [
    {
     "data": {
      "text/html": [
       "<div>\n",
       "<style scoped>\n",
       "    .dataframe tbody tr th:only-of-type {\n",
       "        vertical-align: middle;\n",
       "    }\n",
       "\n",
       "    .dataframe tbody tr th {\n",
       "        vertical-align: top;\n",
       "    }\n",
       "\n",
       "    .dataframe thead th {\n",
       "        text-align: right;\n",
       "    }\n",
       "</style>\n",
       "<table border=\"1\" class=\"dataframe\">\n",
       "  <thead>\n",
       "    <tr style=\"text-align: right;\">\n",
       "      <th></th>\n",
       "      <th>user_id</th>\n",
       "      <th>age_range</th>\n",
       "      <th>gender</th>\n",
       "      <th>merchant_id</th>\n",
       "      <th>item_id</th>\n",
       "      <th>category_id</th>\n",
       "      <th>brand_id</th>\n",
       "      <th>time_stamp</th>\n",
       "      <th>action_type</th>\n",
       "      <th>count_duplicate</th>\n",
       "    </tr>\n",
       "  </thead>\n",
       "  <tbody>\n",
       "    <tr>\n",
       "      <th>110461</th>\n",
       "      <td>284040</td>\n",
       "      <td>3.0</td>\n",
       "      <td>0.0</td>\n",
       "      <td>4847</td>\n",
       "      <td>680510</td>\n",
       "      <td>748</td>\n",
       "      <td>4276</td>\n",
       "      <td>1111</td>\n",
       "      <td>0</td>\n",
       "      <td>1</td>\n",
       "    </tr>\n",
       "    <tr>\n",
       "      <th>14088</th>\n",
       "      <td>34758</td>\n",
       "      <td>3.0</td>\n",
       "      <td>1.0</td>\n",
       "      <td>4950</td>\n",
       "      <td>320608</td>\n",
       "      <td>528</td>\n",
       "      <td>7633</td>\n",
       "      <td>1110</td>\n",
       "      <td>0</td>\n",
       "      <td>1</td>\n",
       "    </tr>\n",
       "    <tr>\n",
       "      <th>142126</th>\n",
       "      <td>362952</td>\n",
       "      <td>3.0</td>\n",
       "      <td>0.0</td>\n",
       "      <td>4859</td>\n",
       "      <td>755730</td>\n",
       "      <td>766</td>\n",
       "      <td>2124</td>\n",
       "      <td>1111</td>\n",
       "      <td>2</td>\n",
       "      <td>1</td>\n",
       "    </tr>\n",
       "    <tr>\n",
       "      <th>101592</th>\n",
       "      <td>259725</td>\n",
       "      <td>3.0</td>\n",
       "      <td>0.0</td>\n",
       "      <td>503</td>\n",
       "      <td>226595</td>\n",
       "      <td>351</td>\n",
       "      <td>4143</td>\n",
       "      <td>1111</td>\n",
       "      <td>2</td>\n",
       "      <td>1</td>\n",
       "    </tr>\n",
       "    <tr>\n",
       "      <th>13419</th>\n",
       "      <td>33450</td>\n",
       "      <td>2.0</td>\n",
       "      <td>1.0</td>\n",
       "      <td>2172</td>\n",
       "      <td>28764</td>\n",
       "      <td>664</td>\n",
       "      <td>2231</td>\n",
       "      <td>1110</td>\n",
       "      <td>0</td>\n",
       "      <td>1</td>\n",
       "    </tr>\n",
       "  </tbody>\n",
       "</table>\n",
       "</div>"
      ],
      "text/plain": [
       "        user_id  age_range  gender  merchant_id  item_id  category_id  \\\n",
       "110461   284040        3.0     0.0         4847   680510          748   \n",
       "14088     34758        3.0     1.0         4950   320608          528   \n",
       "142126   362952        3.0     0.0         4859   755730          766   \n",
       "101592   259725        3.0     0.0          503   226595          351   \n",
       "13419     33450        2.0     1.0         2172    28764          664   \n",
       "\n",
       "        brand_id  time_stamp  action_type  count_duplicate  \n",
       "110461      4276        1111            0                1  \n",
       "14088       7633        1110            0                1  \n",
       "142126      2124        1111            2                1  \n",
       "101592      4143        1111            2                1  \n",
       "13419       2231        1110            0                1  "
      ]
     },
     "execution_count": 118,
     "metadata": {},
     "output_type": "execute_result"
    }
   ],
   "source": [
    "X_test.head()"
   ]
  },
  {
   "cell_type": "code",
   "execution_count": 119,
   "metadata": {
    "collapsed": true
   },
   "outputs": [],
   "source": [
    "X_test['label'] = y_test.copy()"
   ]
  },
  {
   "cell_type": "code",
   "execution_count": 120,
   "metadata": {
    "collapsed": true
   },
   "outputs": [],
   "source": [
    "X_train.to_csv('train_sample.csv', index=False)\n",
    "X_test.to_csv('test_sample.csv',  index=False)"
   ]
  },
  {
   "cell_type": "markdown",
   "metadata": {},
   "source": [
    "### Submission test"
   ]
  },
  {
   "cell_type": "code",
   "execution_count": 34,
   "metadata": {
    "collapsed": true
   },
   "outputs": [
    {
     "ename": "NameError",
     "evalue": "name 'pd' is not defined",
     "output_type": "error",
     "traceback": [
      "\u001b[0;31m---------------------------------------------------------------------------\u001b[0m",
      "\u001b[0;31mNameError\u001b[0m                                 Traceback (most recent call last)",
      "\u001b[0;32m<ipython-input-34-5e3f04f17cdf>\u001b[0m in \u001b[0;36m<module>\u001b[0;34m()\u001b[0m\n\u001b[1;32m      1\u001b[0m \u001b[0mtrain_filename_format\u001b[0m \u001b[0;34m=\u001b[0m \u001b[0;34m'data_format2/train.csv'\u001b[0m\u001b[0;34m\u001b[0m\u001b[0m\n\u001b[0;32m----> 2\u001b[0;31m \u001b[0mdata_train\u001b[0m \u001b[0;34m=\u001b[0m \u001b[0mpd\u001b[0m\u001b[0;34m.\u001b[0m\u001b[0mread_csv\u001b[0m\u001b[0;34m(\u001b[0m\u001b[0mtrain_filename_format\u001b[0m\u001b[0;34m,\u001b[0m \u001b[0msep\u001b[0m\u001b[0;34m=\u001b[0m\u001b[0;34m','\u001b[0m\u001b[0;34m)\u001b[0m\u001b[0;34m\u001b[0m\u001b[0m\n\u001b[0m",
      "\u001b[0;31mNameError\u001b[0m: name 'pd' is not defined"
     ]
    }
   ],
   "source": [
    "train_filename_format = 'data_format2/train.csv'\n",
    "data_train = pd.read_csv(train_filename_format, sep=',')"
   ]
  },
  {
   "cell_type": "code",
   "execution_count": 122,
   "metadata": {
    "collapsed": true
   },
   "outputs": [],
   "source": [
    "test_filename_format = 'data_format2/test.csv'\n",
    "data_test = pd.read_csv(test_filename_format, sep=',')"
   ]
  },
  {
   "cell_type": "code",
   "execution_count": null,
   "metadata": {
    "collapsed": true
   },
   "outputs": [],
   "source": []
  },
  {
   "cell_type": "code",
   "execution_count": null,
   "metadata": {
    "collapsed": true
   },
   "outputs": [],
   "source": [
    "data_train"
   ]
  },
  {
   "cell_type": "code",
   "execution_count": 53,
   "metadata": {},
   "outputs": [
    {
     "name": "stdout",
     "output_type": "stream",
     "text": [
      "Overwriting submissions/starting_kit/classifier.py\n"
     ]
    }
   ],
   "source": [
    "%%file submissions/starting_kit/classifier.py\n",
    "from sklearn.base import BaseEstimator\n",
    "from sklearn.ensemble import RandomForestClassifier\n",
    "\n",
    "\n",
    "class Classifier(BaseEstimator):\n",
    "    def __init__(self):\n",
    "        pass\n",
    "\n",
    "    def fit(self, X, y):\n",
    "        self.clf = RandomForestClassifier(\n",
    "            n_estimators=2, max_leaf_nodes=2, random_state=61)\n",
    "        self.clf.fit(X, y)\n",
    "\n",
    "    def predict(self, X):\n",
    "        return self.clf.predict(X)\n",
    "\n",
    "    def predict_proba(self, X):\n",
    "        return self.clf.predict_proba(X)"
   ]
  },
  {
   "cell_type": "code",
   "execution_count": 54,
   "metadata": {
    "scrolled": true
   },
   "outputs": [
    {
     "name": "stdout",
     "output_type": "stream",
     "text": [
      "Overwriting submissions/starting_kit/feature_extractor.py\n"
     ]
    }
   ],
   "source": [
    "%%file submissions/starting_kit/feature_extractor.py\n",
    "class FeatureExtractor():\n",
    "    def __init__(self):\n",
    "        pass\n",
    "\n",
    "    def fit(self, X_df, y):\n",
    "        pass\n",
    "\n",
    "    def transform(self, X_df):\n",
    "        '''\n",
    "        Feature engineering: you can do your own feature engineering here \n",
    "        '''\n",
    "        activity_count = X_df['activity_log'].apply(lambda x: x.count('#') + 1)\n",
    "        X_df['activity_count'] = activity_count.copy()\n",
    "        X = X_df.drop(['activity_log'], axis=1).fillna(0.0)\n",
    "        return X.values\n"
   ]
  },
  {
   "cell_type": "code",
   "execution_count": 55,
   "metadata": {
    "collapsed": true
   },
   "outputs": [
    {
     "name": "stdout",
     "output_type": "stream",
     "text": [
      "\u001b[38;5;178m\u001b[1mTesting Taobao: Repeat Buyers Prediction\u001b[0m\n",
      "\u001b[38;5;178m\u001b[1mReading train and test files from ./data ...\u001b[0m\n",
      "\u001b[38;5;178m\u001b[1mReading cv ...\u001b[0m\n",
      "\u001b[38;5;178m\u001b[1mTraining ./submissions/starting_kit ...\u001b[0m\n",
      "./submissions/starting_kit/feature_extractor.py:13: SettingWithCopyWarning: \n",
      "A value is trying to be set on a copy of a slice from a DataFrame.\n",
      "Try using .loc[row_indexer,col_indexer] = value instead\n",
      "\n",
      "See the caveats in the documentation: http://pandas.pydata.org/pandas-docs/stable/indexing.html#indexing-view-versus-copy\n",
      "  X_df['activity_count'] = activity_count.copy()\n",
      "\u001b[38;5;178m\u001b[1mCV fold 0\u001b[0m\n",
      "/Users/lingjin/anaconda3/lib/python3.5/site-packages/sklearn/metrics/classification.py:1135: UndefinedMetricWarning: F-score is ill-defined and being set to 0.0 in labels with no predicted samples.\n",
      "  'precision', 'predicted', average, warn_for)\n",
      "\t\u001b[38;5;178m\u001b[1mscore    acc  f1_70    nll  roc_auc\u001b[0m\n",
      "\t\u001b[38;5;10m\u001b[1mtrain\u001b[0m  \u001b[38;5;10m\u001b[1m0.938\u001b[0m    \u001b[38;5;150m0.5\u001b[0m  \u001b[38;5;150m0.232\u001b[0m    \u001b[38;5;150m0.5\u001b[0m17\n",
      "\t\u001b[38;5;12m\u001b[1mvalid\u001b[0m  \u001b[38;5;12m\u001b[1m0.938\u001b[0m    \u001b[38;5;105m0.5\u001b[0m  \u001b[38;5;105m0.232\u001b[0m    \u001b[38;5;105m0.5\u001b[0m11\n",
      "\t\u001b[38;5;1m\u001b[1mtest\u001b[0m   \u001b[38;5;1m\u001b[1m0.938\u001b[0m    \u001b[38;5;218m0.5\u001b[0m  \u001b[38;5;218m0.232\u001b[0m    \u001b[38;5;218m0.5\u001b[0m12\n",
      "./submissions/starting_kit/feature_extractor.py:13: SettingWithCopyWarning: \n",
      "A value is trying to be set on a copy of a slice from a DataFrame.\n",
      "Try using .loc[row_indexer,col_indexer] = value instead\n",
      "\n",
      "See the caveats in the documentation: http://pandas.pydata.org/pandas-docs/stable/indexing.html#indexing-view-versus-copy\n",
      "  X_df['activity_count'] = activity_count.copy()\n",
      "\u001b[38;5;178m\u001b[1mCV fold 1\u001b[0m\n",
      "/Users/lingjin/anaconda3/lib/python3.5/site-packages/sklearn/metrics/classification.py:1135: UndefinedMetricWarning: F-score is ill-defined and being set to 0.0 in labels with no predicted samples.\n",
      "  'precision', 'predicted', average, warn_for)\n",
      "\t\u001b[38;5;178m\u001b[1mscore    acc  f1_70    nll  roc_auc\u001b[0m\n",
      "\t\u001b[38;5;10m\u001b[1mtrain\u001b[0m  \u001b[38;5;10m\u001b[1m0.938\u001b[0m    \u001b[38;5;150m0.5\u001b[0m  \u001b[38;5;150m0.232\u001b[0m    \u001b[38;5;150m0.5\u001b[0m37\n",
      "\t\u001b[38;5;12m\u001b[1mvalid\u001b[0m  \u001b[38;5;12m\u001b[1m0.938\u001b[0m    \u001b[38;5;105m0.5\u001b[0m  \u001b[38;5;105m0.232\u001b[0m    \u001b[38;5;105m0.5\u001b[0m37\n",
      "\t\u001b[38;5;1m\u001b[1mtest\u001b[0m   \u001b[38;5;1m\u001b[1m0.938\u001b[0m    \u001b[38;5;218m0.5\u001b[0m  \u001b[38;5;218m0.232\u001b[0m    \u001b[38;5;218m0.5\u001b[0m03\n",
      "./submissions/starting_kit/feature_extractor.py:13: SettingWithCopyWarning: \n",
      "A value is trying to be set on a copy of a slice from a DataFrame.\n",
      "Try using .loc[row_indexer,col_indexer] = value instead\n",
      "\n",
      "See the caveats in the documentation: http://pandas.pydata.org/pandas-docs/stable/indexing.html#indexing-view-versus-copy\n",
      "  X_df['activity_count'] = activity_count.copy()\n",
      "\u001b[38;5;178m\u001b[1mCV fold 2\u001b[0m\n",
      "/Users/lingjin/anaconda3/lib/python3.5/site-packages/sklearn/metrics/classification.py:1135: UndefinedMetricWarning: F-score is ill-defined and being set to 0.0 in labels with no predicted samples.\n",
      "  'precision', 'predicted', average, warn_for)\n",
      "\t\u001b[38;5;178m\u001b[1mscore    acc  f1_70    nll  roc_auc\u001b[0m\n",
      "\t\u001b[38;5;10m\u001b[1mtrain\u001b[0m  \u001b[38;5;10m\u001b[1m0.938\u001b[0m    \u001b[38;5;150m0.5\u001b[0m  \u001b[38;5;150m0.232\u001b[0m    \u001b[38;5;150m0.5\u001b[0m20\n",
      "\t\u001b[38;5;12m\u001b[1mvalid\u001b[0m  \u001b[38;5;12m\u001b[1m0.938\u001b[0m    \u001b[38;5;105m0.5\u001b[0m  \u001b[38;5;105m0.232\u001b[0m    \u001b[38;5;105m0.5\u001b[0m21\n",
      "\t\u001b[38;5;1m\u001b[1mtest\u001b[0m   \u001b[38;5;1m\u001b[1m0.938\u001b[0m    \u001b[38;5;218m0.5\u001b[0m  \u001b[38;5;218m0.232\u001b[0m    \u001b[38;5;218m0.498\u001b[0m\n",
      "./submissions/starting_kit/feature_extractor.py:13: SettingWithCopyWarning: \n",
      "A value is trying to be set on a copy of a slice from a DataFrame.\n",
      "Try using .loc[row_indexer,col_indexer] = value instead\n",
      "\n",
      "See the caveats in the documentation: http://pandas.pydata.org/pandas-docs/stable/indexing.html#indexing-view-versus-copy\n",
      "  X_df['activity_count'] = activity_count.copy()\n",
      "\u001b[38;5;178m\u001b[1mCV fold 3\u001b[0m\n",
      "/Users/lingjin/anaconda3/lib/python3.5/site-packages/sklearn/metrics/classification.py:1135: UndefinedMetricWarning: F-score is ill-defined and being set to 0.0 in labels with no predicted samples.\n",
      "  'precision', 'predicted', average, warn_for)\n",
      "\t\u001b[38;5;178m\u001b[1mscore    acc  f1_70    nll  roc_auc\u001b[0m\n",
      "\t\u001b[38;5;10m\u001b[1mtrain\u001b[0m  \u001b[38;5;10m\u001b[1m0.938\u001b[0m    \u001b[38;5;150m0.5\u001b[0m  \u001b[38;5;150m0.232\u001b[0m    \u001b[38;5;150m0.5\u001b[0m35\n",
      "\t\u001b[38;5;12m\u001b[1mvalid\u001b[0m  \u001b[38;5;12m\u001b[1m0.938\u001b[0m    \u001b[38;5;105m0.5\u001b[0m  \u001b[38;5;105m0.232\u001b[0m    \u001b[38;5;105m0.5\u001b[0m46\n",
      "\t\u001b[38;5;1m\u001b[1mtest\u001b[0m   \u001b[38;5;1m\u001b[1m0.938\u001b[0m    \u001b[38;5;218m0.5\u001b[0m  \u001b[38;5;218m0.232\u001b[0m    \u001b[38;5;218m0.496\u001b[0m\n",
      "./submissions/starting_kit/feature_extractor.py:13: SettingWithCopyWarning: \n",
      "A value is trying to be set on a copy of a slice from a DataFrame.\n",
      "Try using .loc[row_indexer,col_indexer] = value instead\n",
      "\n",
      "See the caveats in the documentation: http://pandas.pydata.org/pandas-docs/stable/indexing.html#indexing-view-versus-copy\n",
      "  X_df['activity_count'] = activity_count.copy()\n",
      "\u001b[38;5;178m\u001b[1mCV fold 4\u001b[0m\n",
      "/Users/lingjin/anaconda3/lib/python3.5/site-packages/sklearn/metrics/classification.py:1135: UndefinedMetricWarning: F-score is ill-defined and being set to 0.0 in labels with no predicted samples.\n",
      "  'precision', 'predicted', average, warn_for)\n",
      "\t\u001b[38;5;178m\u001b[1mscore    acc  f1_70    nll  roc_auc\u001b[0m\n",
      "\t\u001b[38;5;10m\u001b[1mtrain\u001b[0m  \u001b[38;5;10m\u001b[1m0.938\u001b[0m    \u001b[38;5;150m0.5\u001b[0m  \u001b[38;5;150m0.232\u001b[0m    \u001b[38;5;150m0.5\u001b[0m37\n",
      "\t\u001b[38;5;12m\u001b[1mvalid\u001b[0m  \u001b[38;5;12m\u001b[1m0.938\u001b[0m    \u001b[38;5;105m0.5\u001b[0m  \u001b[38;5;105m0.232\u001b[0m    \u001b[38;5;105m0.5\u001b[0m35\n",
      "\t\u001b[38;5;1m\u001b[1mtest\u001b[0m   \u001b[38;5;1m\u001b[1m0.938\u001b[0m    \u001b[38;5;218m0.5\u001b[0m  \u001b[38;5;218m0.232\u001b[0m    \u001b[38;5;218m0.496\u001b[0m\n",
      "./submissions/starting_kit/feature_extractor.py:13: SettingWithCopyWarning: \n",
      "A value is trying to be set on a copy of a slice from a DataFrame.\n",
      "Try using .loc[row_indexer,col_indexer] = value instead\n",
      "\n",
      "See the caveats in the documentation: http://pandas.pydata.org/pandas-docs/stable/indexing.html#indexing-view-versus-copy\n",
      "  X_df['activity_count'] = activity_count.copy()\n",
      "\u001b[38;5;178m\u001b[1mCV fold 5\u001b[0m\n",
      "/Users/lingjin/anaconda3/lib/python3.5/site-packages/sklearn/metrics/classification.py:1135: UndefinedMetricWarning: F-score is ill-defined and being set to 0.0 in labels with no predicted samples.\n",
      "  'precision', 'predicted', average, warn_for)\n",
      "\t\u001b[38;5;178m\u001b[1mscore    acc  f1_70    nll  roc_auc\u001b[0m\n",
      "\t\u001b[38;5;10m\u001b[1mtrain\u001b[0m  \u001b[38;5;10m\u001b[1m0.938\u001b[0m    \u001b[38;5;150m0.5\u001b[0m  \u001b[38;5;150m0.232\u001b[0m    \u001b[38;5;150m0.5\u001b[0m30\n",
      "\t\u001b[38;5;12m\u001b[1mvalid\u001b[0m  \u001b[38;5;12m\u001b[1m0.938\u001b[0m    \u001b[38;5;105m0.5\u001b[0m  \u001b[38;5;105m0.232\u001b[0m    \u001b[38;5;105m0.5\u001b[0m30\n",
      "\t\u001b[38;5;1m\u001b[1mtest\u001b[0m   \u001b[38;5;1m\u001b[1m0.938\u001b[0m    \u001b[38;5;218m0.5\u001b[0m  \u001b[38;5;218m0.232\u001b[0m    \u001b[38;5;218m0.495\u001b[0m\n",
      "./submissions/starting_kit/feature_extractor.py:13: SettingWithCopyWarning: \n",
      "A value is trying to be set on a copy of a slice from a DataFrame.\n",
      "Try using .loc[row_indexer,col_indexer] = value instead\n",
      "\n",
      "See the caveats in the documentation: http://pandas.pydata.org/pandas-docs/stable/indexing.html#indexing-view-versus-copy\n",
      "  X_df['activity_count'] = activity_count.copy()\n",
      "\u001b[38;5;178m\u001b[1mCV fold 6\u001b[0m\n",
      "/Users/lingjin/anaconda3/lib/python3.5/site-packages/sklearn/metrics/classification.py:1135: UndefinedMetricWarning: F-score is ill-defined and being set to 0.0 in labels with no predicted samples.\n",
      "  'precision', 'predicted', average, warn_for)\n",
      "\t\u001b[38;5;178m\u001b[1mscore    acc  f1_70    nll  roc_auc\u001b[0m\n",
      "\t\u001b[38;5;10m\u001b[1mtrain\u001b[0m  \u001b[38;5;10m\u001b[1m0.938\u001b[0m    \u001b[38;5;150m0.5\u001b[0m  \u001b[38;5;150m0.232\u001b[0m    \u001b[38;5;150m0.5\u001b[0m26\n",
      "\t\u001b[38;5;12m\u001b[1mvalid\u001b[0m  \u001b[38;5;12m\u001b[1m0.938\u001b[0m    \u001b[38;5;105m0.5\u001b[0m  \u001b[38;5;105m0.232\u001b[0m    \u001b[38;5;105m0.5\u001b[0m37\n",
      "\t\u001b[38;5;1m\u001b[1mtest\u001b[0m   \u001b[38;5;1m\u001b[1m0.938\u001b[0m    \u001b[38;5;218m0.5\u001b[0m  \u001b[38;5;218m0.232\u001b[0m    \u001b[38;5;218m0.490\u001b[0m\n",
      "./submissions/starting_kit/feature_extractor.py:13: SettingWithCopyWarning: \n",
      "A value is trying to be set on a copy of a slice from a DataFrame.\n",
      "Try using .loc[row_indexer,col_indexer] = value instead\n",
      "\n",
      "See the caveats in the documentation: http://pandas.pydata.org/pandas-docs/stable/indexing.html#indexing-view-versus-copy\n",
      "  X_df['activity_count'] = activity_count.copy()\n",
      "\u001b[38;5;178m\u001b[1mCV fold 7\u001b[0m\n",
      "/Users/lingjin/anaconda3/lib/python3.5/site-packages/sklearn/metrics/classification.py:1135: UndefinedMetricWarning: F-score is ill-defined and being set to 0.0 in labels with no predicted samples.\n",
      "  'precision', 'predicted', average, warn_for)\n",
      "\t\u001b[38;5;178m\u001b[1mscore    acc  f1_70    nll  roc_auc\u001b[0m\n",
      "\t\u001b[38;5;10m\u001b[1mtrain\u001b[0m  \u001b[38;5;10m\u001b[1m0.938\u001b[0m    \u001b[38;5;150m0.5\u001b[0m  \u001b[38;5;150m0.232\u001b[0m    \u001b[38;5;150m0.5\u001b[0m31\n",
      "\t\u001b[38;5;12m\u001b[1mvalid\u001b[0m  \u001b[38;5;12m\u001b[1m0.938\u001b[0m    \u001b[38;5;105m0.5\u001b[0m  \u001b[38;5;105m0.232\u001b[0m    \u001b[38;5;105m0.5\u001b[0m30\n",
      "\t\u001b[38;5;1m\u001b[1mtest\u001b[0m   \u001b[38;5;1m\u001b[1m0.938\u001b[0m    \u001b[38;5;218m0.5\u001b[0m  \u001b[38;5;218m0.233\u001b[0m    \u001b[38;5;218m0.488\u001b[0m\n",
      "\u001b[38;5;178m\u001b[1m----------------------------\u001b[0m\n",
      "\u001b[38;5;178m\u001b[1mMean CV scores\u001b[0m\n",
      "\u001b[38;5;178m\u001b[1m----------------------------\u001b[0m\n"
     ]
    },
    {
     "name": "stdout",
     "output_type": "stream",
     "text": [
      "\t\u001b[38;5;178m\u001b[1mscore          acc      f1_70             nll         roc_auc\u001b[0m\n",
      "\t\u001b[38;5;10m\u001b[1mtrain\u001b[0m  \u001b[38;5;10m\u001b[1m0.938\u001b[0m \u001b[38;5;150m\u001b[38;5;150m\u001b[38;5;150m\u001b[38;5;150m±\u001b[0m\u001b[0m\u001b[0m\u001b[0m \u001b[38;5;150m\u001b[38;5;150m0.0\u001b[0m\u001b[0m  \u001b[38;5;150m0.5\u001b[0m \u001b[38;5;150m\u001b[38;5;150m\u001b[38;5;150m\u001b[38;5;150m±\u001b[0m\u001b[0m\u001b[0m\u001b[0m \u001b[38;5;150m\u001b[38;5;150m0.0\u001b[0m\u001b[0m  \u001b[38;5;150m0.232\u001b[0m \u001b[38;5;150m\u001b[38;5;150m\u001b[38;5;150m\u001b[38;5;150m±\u001b[0m\u001b[0m\u001b[0m\u001b[0m \u001b[38;5;150m\u001b[38;5;150m0.0\u001b[0m\u001b[0m001  \u001b[38;5;150m0.5\u001b[0m29 \u001b[38;5;150m\u001b[38;5;150m\u001b[38;5;150m\u001b[38;5;150m±\u001b[0m\u001b[0m\u001b[0m\u001b[0m \u001b[38;5;150m\u001b[38;5;150m0.0\u001b[0m\u001b[0m071\n",
      "\t\u001b[38;5;12m\u001b[1mvalid\u001b[0m  \u001b[38;5;12m\u001b[1m0.938\u001b[0m \u001b[38;5;105m\u001b[38;5;105m\u001b[38;5;105m\u001b[38;5;105m±\u001b[0m\u001b[0m\u001b[0m\u001b[0m \u001b[38;5;105m\u001b[38;5;105m0.0\u001b[0m\u001b[0m  \u001b[38;5;105m0.5\u001b[0m \u001b[38;5;105m\u001b[38;5;105m\u001b[38;5;105m\u001b[38;5;105m±\u001b[0m\u001b[0m\u001b[0m\u001b[0m \u001b[38;5;105m\u001b[38;5;105m0.0\u001b[0m\u001b[0m  \u001b[38;5;105m0.232\u001b[0m \u001b[38;5;105m\u001b[38;5;105m\u001b[38;5;105m\u001b[38;5;105m±\u001b[0m\u001b[0m\u001b[0m\u001b[0m \u001b[38;5;105m\u001b[38;5;105m0.0\u001b[0m\u001b[0m002  \u001b[38;5;105m0.5\u001b[0m31 \u001b[38;5;105m\u001b[38;5;105m\u001b[38;5;105m\u001b[38;5;105m±\u001b[0m\u001b[0m\u001b[0m\u001b[0m \u001b[38;5;105m\u001b[38;5;105m0.0\u001b[0m\u001b[0m102\n",
      "\t\u001b[38;5;1m\u001b[1mtest\u001b[0m   \u001b[38;5;1m\u001b[1m0.938\u001b[0m \u001b[38;5;218m\u001b[38;5;218m\u001b[38;5;218m\u001b[38;5;218m±\u001b[0m\u001b[0m\u001b[0m\u001b[0m \u001b[38;5;218m\u001b[38;5;218m0.0\u001b[0m\u001b[0m  \u001b[38;5;218m0.5\u001b[0m \u001b[38;5;218m\u001b[38;5;218m\u001b[38;5;218m\u001b[38;5;218m±\u001b[0m\u001b[0m\u001b[0m\u001b[0m \u001b[38;5;218m\u001b[38;5;218m0.0\u001b[0m\u001b[0m  \u001b[38;5;218m0.232\u001b[0m \u001b[38;5;218m\u001b[38;5;218m\u001b[38;5;218m\u001b[38;5;218m±\u001b[0m\u001b[0m\u001b[0m\u001b[0m \u001b[38;5;218m\u001b[38;5;218m0.0\u001b[0m\u001b[0m001   \u001b[38;5;218m0.497\u001b[0m \u001b[38;5;218m\u001b[38;5;218m\u001b[38;5;218m\u001b[38;5;218m±\u001b[0m\u001b[0m\u001b[0m\u001b[0m \u001b[38;5;218m\u001b[38;5;218m0.0\u001b[0m\u001b[0m07\n",
      "\u001b[38;5;178m\u001b[1m----------------------------\u001b[0m\n",
      "\u001b[38;5;178m\u001b[1mBagged scores\u001b[0m\n",
      "\u001b[38;5;178m\u001b[1m----------------------------\u001b[0m\n",
      "\t\u001b[38;5;178m\u001b[1mscore    acc\u001b[0m\n",
      "\t\u001b[38;5;12m\u001b[1mvalid\u001b[0m  \u001b[38;5;12m\u001b[1m0.938\u001b[0m\n",
      "\t\u001b[38;5;1m\u001b[1mtest\u001b[0m   \u001b[38;5;1m\u001b[1m0.938\u001b[0m\n"
     ]
    }
   ],
   "source": [
    "!ramp_test_submission "
   ]
  },
  {
   "cell_type": "markdown",
   "metadata": {},
   "source": [
    "## Check each file head "
   ]
  },
  {
   "cell_type": "code",
   "execution_count": 5,
   "metadata": {
    "collapsed": true
   },
   "outputs": [
    {
     "data": {
      "text/html": [
       "<div>\n",
       "<style>\n",
       "    .dataframe thead tr:only-child th {\n",
       "        text-align: right;\n",
       "    }\n",
       "\n",
       "    .dataframe thead th {\n",
       "        text-align: left;\n",
       "    }\n",
       "\n",
       "    .dataframe tbody tr th {\n",
       "        vertical-align: top;\n",
       "    }\n",
       "</style>\n",
       "<table border=\"1\" class=\"dataframe\">\n",
       "  <thead>\n",
       "    <tr style=\"text-align: right;\">\n",
       "      <th></th>\n",
       "      <th>merchant_id</th>\n",
       "      <th>label</th>\n",
       "    </tr>\n",
       "    <tr>\n",
       "      <th>user_id</th>\n",
       "      <th></th>\n",
       "      <th></th>\n",
       "    </tr>\n",
       "  </thead>\n",
       "  <tbody>\n",
       "    <tr>\n",
       "      <th>34176</th>\n",
       "      <td>3906</td>\n",
       "      <td>0</td>\n",
       "    </tr>\n",
       "    <tr>\n",
       "      <th>34176</th>\n",
       "      <td>121</td>\n",
       "      <td>0</td>\n",
       "    </tr>\n",
       "    <tr>\n",
       "      <th>34176</th>\n",
       "      <td>4356</td>\n",
       "      <td>1</td>\n",
       "    </tr>\n",
       "    <tr>\n",
       "      <th>34176</th>\n",
       "      <td>2217</td>\n",
       "      <td>0</td>\n",
       "    </tr>\n",
       "    <tr>\n",
       "      <th>230784</th>\n",
       "      <td>4818</td>\n",
       "      <td>0</td>\n",
       "    </tr>\n",
       "  </tbody>\n",
       "</table>\n",
       "</div>"
      ],
      "text/plain": [
       "         merchant_id  label\n",
       "user_id                    \n",
       "34176           3906      0\n",
       "34176            121      0\n",
       "34176           4356      1\n",
       "34176           2217      0\n",
       "230784          4818      0"
      ]
     },
     "execution_count": 5,
     "metadata": {},
     "output_type": "execute_result"
    }
   ],
   "source": [
    "data_train.head()"
   ]
  },
  {
   "cell_type": "code",
   "execution_count": 6,
   "metadata": {},
   "outputs": [
    {
     "data": {
      "text/html": [
       "<div>\n",
       "<style>\n",
       "    .dataframe thead tr:only-child th {\n",
       "        text-align: right;\n",
       "    }\n",
       "\n",
       "    .dataframe thead th {\n",
       "        text-align: left;\n",
       "    }\n",
       "\n",
       "    .dataframe tbody tr th {\n",
       "        vertical-align: top;\n",
       "    }\n",
       "</style>\n",
       "<table border=\"1\" class=\"dataframe\">\n",
       "  <thead>\n",
       "    <tr style=\"text-align: right;\">\n",
       "      <th></th>\n",
       "      <th>merchant_id</th>\n",
       "      <th>label</th>\n",
       "    </tr>\n",
       "  </thead>\n",
       "  <tbody>\n",
       "    <tr>\n",
       "      <th>count</th>\n",
       "      <td>260864.000000</td>\n",
       "      <td>260864.000000</td>\n",
       "    </tr>\n",
       "    <tr>\n",
       "      <th>mean</th>\n",
       "      <td>2540.292363</td>\n",
       "      <td>0.061151</td>\n",
       "    </tr>\n",
       "    <tr>\n",
       "      <th>std</th>\n",
       "      <td>1451.207514</td>\n",
       "      <td>0.239607</td>\n",
       "    </tr>\n",
       "    <tr>\n",
       "      <th>min</th>\n",
       "      <td>2.000000</td>\n",
       "      <td>0.000000</td>\n",
       "    </tr>\n",
       "    <tr>\n",
       "      <th>25%</th>\n",
       "      <td>1340.000000</td>\n",
       "      <td>0.000000</td>\n",
       "    </tr>\n",
       "    <tr>\n",
       "      <th>50%</th>\n",
       "      <td>2482.000000</td>\n",
       "      <td>0.000000</td>\n",
       "    </tr>\n",
       "    <tr>\n",
       "      <th>75%</th>\n",
       "      <td>3898.000000</td>\n",
       "      <td>0.000000</td>\n",
       "    </tr>\n",
       "    <tr>\n",
       "      <th>max</th>\n",
       "      <td>4993.000000</td>\n",
       "      <td>1.000000</td>\n",
       "    </tr>\n",
       "  </tbody>\n",
       "</table>\n",
       "</div>"
      ],
      "text/plain": [
       "         merchant_id          label\n",
       "count  260864.000000  260864.000000\n",
       "mean     2540.292363       0.061151\n",
       "std      1451.207514       0.239607\n",
       "min         2.000000       0.000000\n",
       "25%      1340.000000       0.000000\n",
       "50%      2482.000000       0.000000\n",
       "75%      3898.000000       0.000000\n",
       "max      4993.000000       1.000000"
      ]
     },
     "execution_count": 6,
     "metadata": {},
     "output_type": "execute_result"
    }
   ],
   "source": [
    "data_train.describe()"
   ]
  },
  {
   "cell_type": "code",
   "execution_count": 9,
   "metadata": {},
   "outputs": [
    {
     "data": {
      "text/html": [
       "<div>\n",
       "<style>\n",
       "    .dataframe thead tr:only-child th {\n",
       "        text-align: right;\n",
       "    }\n",
       "\n",
       "    .dataframe thead th {\n",
       "        text-align: left;\n",
       "    }\n",
       "\n",
       "    .dataframe tbody tr th {\n",
       "        vertical-align: top;\n",
       "    }\n",
       "</style>\n",
       "<table border=\"1\" class=\"dataframe\">\n",
       "  <thead>\n",
       "    <tr style=\"text-align: right;\">\n",
       "      <th></th>\n",
       "      <th>merchant_id</th>\n",
       "      <th>label</th>\n",
       "    </tr>\n",
       "  </thead>\n",
       "  <tbody>\n",
       "    <tr>\n",
       "      <th>count</th>\n",
       "      <td>260864.000000</td>\n",
       "      <td>260864.000000</td>\n",
       "    </tr>\n",
       "    <tr>\n",
       "      <th>mean</th>\n",
       "      <td>2540.292363</td>\n",
       "      <td>0.061151</td>\n",
       "    </tr>\n",
       "    <tr>\n",
       "      <th>std</th>\n",
       "      <td>1451.207514</td>\n",
       "      <td>0.239607</td>\n",
       "    </tr>\n",
       "    <tr>\n",
       "      <th>min</th>\n",
       "      <td>2.000000</td>\n",
       "      <td>0.000000</td>\n",
       "    </tr>\n",
       "    <tr>\n",
       "      <th>25%</th>\n",
       "      <td>1340.000000</td>\n",
       "      <td>0.000000</td>\n",
       "    </tr>\n",
       "    <tr>\n",
       "      <th>50%</th>\n",
       "      <td>2482.000000</td>\n",
       "      <td>0.000000</td>\n",
       "    </tr>\n",
       "    <tr>\n",
       "      <th>75%</th>\n",
       "      <td>3898.000000</td>\n",
       "      <td>0.000000</td>\n",
       "    </tr>\n",
       "    <tr>\n",
       "      <th>max</th>\n",
       "      <td>4993.000000</td>\n",
       "      <td>1.000000</td>\n",
       "    </tr>\n",
       "  </tbody>\n",
       "</table>\n",
       "</div>"
      ],
      "text/plain": [
       "         merchant_id          label\n",
       "count  260864.000000  260864.000000\n",
       "mean     2540.292363       0.061151\n",
       "std      1451.207514       0.239607\n",
       "min         2.000000       0.000000\n",
       "25%      1340.000000       0.000000\n",
       "50%      2482.000000       0.000000\n",
       "75%      3898.000000       0.000000\n",
       "max      4993.000000       1.000000"
      ]
     },
     "execution_count": 9,
     "metadata": {},
     "output_type": "execute_result"
    }
   ],
   "source": [
    "data_train.describe()"
   ]
  },
  {
   "cell_type": "code",
   "execution_count": 26,
   "metadata": {},
   "outputs": [
    {
     "data": {
      "text/html": [
       "<div>\n",
       "<style>\n",
       "    .dataframe thead tr:only-child th {\n",
       "        text-align: right;\n",
       "    }\n",
       "\n",
       "    .dataframe thead th {\n",
       "        text-align: left;\n",
       "    }\n",
       "\n",
       "    .dataframe tbody tr th {\n",
       "        vertical-align: top;\n",
       "    }\n",
       "</style>\n",
       "<table border=\"1\" class=\"dataframe\">\n",
       "  <thead>\n",
       "    <tr style=\"text-align: right;\">\n",
       "      <th></th>\n",
       "      <th>age_range</th>\n",
       "      <th>gender</th>\n",
       "    </tr>\n",
       "    <tr>\n",
       "      <th>user_id</th>\n",
       "      <th></th>\n",
       "      <th></th>\n",
       "    </tr>\n",
       "  </thead>\n",
       "  <tbody>\n",
       "    <tr>\n",
       "      <th>376517</th>\n",
       "      <td>6.0</td>\n",
       "      <td>1.0</td>\n",
       "    </tr>\n",
       "    <tr>\n",
       "      <th>234512</th>\n",
       "      <td>5.0</td>\n",
       "      <td>0.0</td>\n",
       "    </tr>\n",
       "    <tr>\n",
       "      <th>344532</th>\n",
       "      <td>5.0</td>\n",
       "      <td>0.0</td>\n",
       "    </tr>\n",
       "    <tr>\n",
       "      <th>186135</th>\n",
       "      <td>5.0</td>\n",
       "      <td>0.0</td>\n",
       "    </tr>\n",
       "    <tr>\n",
       "      <th>30230</th>\n",
       "      <td>5.0</td>\n",
       "      <td>0.0</td>\n",
       "    </tr>\n",
       "  </tbody>\n",
       "</table>\n",
       "</div>"
      ],
      "text/plain": [
       "         age_range  gender\n",
       "user_id                   \n",
       "376517         6.0     1.0\n",
       "234512         5.0     0.0\n",
       "344532         5.0     0.0\n",
       "186135         5.0     0.0\n",
       "30230          5.0     0.0"
      ]
     },
     "execution_count": 26,
     "metadata": {},
     "output_type": "execute_result"
    }
   ],
   "source": [
    "data_train_user.head()"
   ]
  },
  {
   "cell_type": "code",
   "execution_count": 8,
   "metadata": {},
   "outputs": [
    {
     "data": {
      "text/html": [
       "<div>\n",
       "<style>\n",
       "    .dataframe thead tr:only-child th {\n",
       "        text-align: right;\n",
       "    }\n",
       "\n",
       "    .dataframe thead th {\n",
       "        text-align: left;\n",
       "    }\n",
       "\n",
       "    .dataframe tbody tr th {\n",
       "        vertical-align: top;\n",
       "    }\n",
       "</style>\n",
       "<table border=\"1\" class=\"dataframe\">\n",
       "  <thead>\n",
       "    <tr style=\"text-align: right;\">\n",
       "      <th></th>\n",
       "      <th>item_id</th>\n",
       "      <th>cat_id</th>\n",
       "      <th>seller_id</th>\n",
       "      <th>brand_id</th>\n",
       "      <th>time_stamp</th>\n",
       "      <th>action_type</th>\n",
       "    </tr>\n",
       "    <tr>\n",
       "      <th>user_id</th>\n",
       "      <th></th>\n",
       "      <th></th>\n",
       "      <th></th>\n",
       "      <th></th>\n",
       "      <th></th>\n",
       "      <th></th>\n",
       "    </tr>\n",
       "  </thead>\n",
       "  <tbody>\n",
       "    <tr>\n",
       "      <th>328862</th>\n",
       "      <td>323294</td>\n",
       "      <td>833</td>\n",
       "      <td>2882</td>\n",
       "      <td>2661.0</td>\n",
       "      <td>829</td>\n",
       "      <td>0</td>\n",
       "    </tr>\n",
       "    <tr>\n",
       "      <th>328862</th>\n",
       "      <td>844400</td>\n",
       "      <td>1271</td>\n",
       "      <td>2882</td>\n",
       "      <td>2661.0</td>\n",
       "      <td>829</td>\n",
       "      <td>0</td>\n",
       "    </tr>\n",
       "    <tr>\n",
       "      <th>328862</th>\n",
       "      <td>575153</td>\n",
       "      <td>1271</td>\n",
       "      <td>2882</td>\n",
       "      <td>2661.0</td>\n",
       "      <td>829</td>\n",
       "      <td>0</td>\n",
       "    </tr>\n",
       "    <tr>\n",
       "      <th>328862</th>\n",
       "      <td>996875</td>\n",
       "      <td>1271</td>\n",
       "      <td>2882</td>\n",
       "      <td>2661.0</td>\n",
       "      <td>829</td>\n",
       "      <td>0</td>\n",
       "    </tr>\n",
       "    <tr>\n",
       "      <th>328862</th>\n",
       "      <td>1086186</td>\n",
       "      <td>1271</td>\n",
       "      <td>1253</td>\n",
       "      <td>1049.0</td>\n",
       "      <td>829</td>\n",
       "      <td>0</td>\n",
       "    </tr>\n",
       "  </tbody>\n",
       "</table>\n",
       "</div>"
      ],
      "text/plain": [
       "         item_id  cat_id  seller_id  brand_id  time_stamp  action_type\n",
       "user_id                                                               \n",
       "328862    323294     833       2882    2661.0         829            0\n",
       "328862    844400    1271       2882    2661.0         829            0\n",
       "328862    575153    1271       2882    2661.0         829            0\n",
       "328862    996875    1271       2882    2661.0         829            0\n",
       "328862   1086186    1271       1253    1049.0         829            0"
      ]
     },
     "execution_count": 8,
     "metadata": {},
     "output_type": "execute_result"
    }
   ],
   "source": [
    "data_train_logs.head()"
   ]
  },
  {
   "cell_type": "code",
   "execution_count": null,
   "metadata": {
    "collapsed": true
   },
   "outputs": [],
   "source": []
  },
  {
   "cell_type": "code",
   "execution_count": 10,
   "metadata": {},
   "outputs": [
    {
     "data": {
      "text/html": [
       "<div>\n",
       "<style>\n",
       "    .dataframe thead tr:only-child th {\n",
       "        text-align: right;\n",
       "    }\n",
       "\n",
       "    .dataframe thead th {\n",
       "        text-align: left;\n",
       "    }\n",
       "\n",
       "    .dataframe tbody tr th {\n",
       "        vertical-align: top;\n",
       "    }\n",
       "</style>\n",
       "<table border=\"1\" class=\"dataframe\">\n",
       "  <thead>\n",
       "    <tr style=\"text-align: right;\">\n",
       "      <th></th>\n",
       "      <th>item_id</th>\n",
       "      <th>cat_id</th>\n",
       "      <th>seller_id</th>\n",
       "      <th>brand_id</th>\n",
       "      <th>time_stamp</th>\n",
       "      <th>action_type</th>\n",
       "    </tr>\n",
       "  </thead>\n",
       "  <tbody>\n",
       "    <tr>\n",
       "      <th>count</th>\n",
       "      <td>5.492533e+07</td>\n",
       "      <td>5.492533e+07</td>\n",
       "      <td>5.492533e+07</td>\n",
       "      <td>5.483432e+07</td>\n",
       "      <td>5.492533e+07</td>\n",
       "      <td>5.492533e+07</td>\n",
       "    </tr>\n",
       "    <tr>\n",
       "      <th>mean</th>\n",
       "      <td>5.538613e+05</td>\n",
       "      <td>8.770308e+02</td>\n",
       "      <td>2.470941e+03</td>\n",
       "      <td>4.153348e+03</td>\n",
       "      <td>9.230953e+02</td>\n",
       "      <td>2.854458e-01</td>\n",
       "    </tr>\n",
       "    <tr>\n",
       "      <th>std</th>\n",
       "      <td>3.221459e+05</td>\n",
       "      <td>4.486269e+02</td>\n",
       "      <td>1.473310e+03</td>\n",
       "      <td>2.397679e+03</td>\n",
       "      <td>1.954305e+02</td>\n",
       "      <td>8.075806e-01</td>\n",
       "    </tr>\n",
       "    <tr>\n",
       "      <th>min</th>\n",
       "      <td>1.000000e+00</td>\n",
       "      <td>1.000000e+00</td>\n",
       "      <td>1.000000e+00</td>\n",
       "      <td>1.000000e+00</td>\n",
       "      <td>5.110000e+02</td>\n",
       "      <td>0.000000e+00</td>\n",
       "    </tr>\n",
       "    <tr>\n",
       "      <th>25%</th>\n",
       "      <td>2.731680e+05</td>\n",
       "      <td>5.550000e+02</td>\n",
       "      <td>1.151000e+03</td>\n",
       "      <td>2.027000e+03</td>\n",
       "      <td>7.300000e+02</td>\n",
       "      <td>0.000000e+00</td>\n",
       "    </tr>\n",
       "    <tr>\n",
       "      <th>50%</th>\n",
       "      <td>5.555290e+05</td>\n",
       "      <td>8.210000e+02</td>\n",
       "      <td>2.459000e+03</td>\n",
       "      <td>4.065000e+03</td>\n",
       "      <td>1.010000e+03</td>\n",
       "      <td>0.000000e+00</td>\n",
       "    </tr>\n",
       "    <tr>\n",
       "      <th>75%</th>\n",
       "      <td>8.306890e+05</td>\n",
       "      <td>1.252000e+03</td>\n",
       "      <td>3.760000e+03</td>\n",
       "      <td>6.196000e+03</td>\n",
       "      <td>1.109000e+03</td>\n",
       "      <td>0.000000e+00</td>\n",
       "    </tr>\n",
       "    <tr>\n",
       "      <th>max</th>\n",
       "      <td>1.113166e+06</td>\n",
       "      <td>1.671000e+03</td>\n",
       "      <td>4.995000e+03</td>\n",
       "      <td>8.477000e+03</td>\n",
       "      <td>1.112000e+03</td>\n",
       "      <td>3.000000e+00</td>\n",
       "    </tr>\n",
       "  </tbody>\n",
       "</table>\n",
       "</div>"
      ],
      "text/plain": [
       "            item_id        cat_id     seller_id      brand_id    time_stamp  \\\n",
       "count  5.492533e+07  5.492533e+07  5.492533e+07  5.483432e+07  5.492533e+07   \n",
       "mean   5.538613e+05  8.770308e+02  2.470941e+03  4.153348e+03  9.230953e+02   \n",
       "std    3.221459e+05  4.486269e+02  1.473310e+03  2.397679e+03  1.954305e+02   \n",
       "min    1.000000e+00  1.000000e+00  1.000000e+00  1.000000e+00  5.110000e+02   \n",
       "25%    2.731680e+05  5.550000e+02  1.151000e+03  2.027000e+03  7.300000e+02   \n",
       "50%    5.555290e+05  8.210000e+02  2.459000e+03  4.065000e+03  1.010000e+03   \n",
       "75%    8.306890e+05  1.252000e+03  3.760000e+03  6.196000e+03  1.109000e+03   \n",
       "max    1.113166e+06  1.671000e+03  4.995000e+03  8.477000e+03  1.112000e+03   \n",
       "\n",
       "        action_type  \n",
       "count  5.492533e+07  \n",
       "mean   2.854458e-01  \n",
       "std    8.075806e-01  \n",
       "min    0.000000e+00  \n",
       "25%    0.000000e+00  \n",
       "50%    0.000000e+00  \n",
       "75%    0.000000e+00  \n",
       "max    3.000000e+00  "
      ]
     },
     "execution_count": 10,
     "metadata": {},
     "output_type": "execute_result"
    }
   ],
   "source": [
    "data_train_logs.describe()"
   ]
  },
  {
   "cell_type": "code",
   "execution_count": 11,
   "metadata": {},
   "outputs": [
    {
     "name": "stdout",
     "output_type": "stream",
     "text": [
      "<class 'pandas.core.frame.DataFrame'>\n",
      "Int64Index: 54925330 entries, 328862 to 208016\n",
      "Data columns (total 6 columns):\n",
      "item_id        int64\n",
      "cat_id         int64\n",
      "seller_id      int64\n",
      "brand_id       float64\n",
      "time_stamp     int64\n",
      "action_type    int64\n",
      "dtypes: float64(1), int64(5)\n",
      "memory usage: 2.9 GB\n"
     ]
    }
   ],
   "source": [
    "data_train_logs.info()"
   ]
  },
  {
   "cell_type": "markdown",
   "metadata": {},
   "source": [
    "## Data sampling  >>>>> ToDo\n",
    "- Sample data by time (month, day or hour?/ especially for 11.11)"
   ]
  },
  {
   "cell_type": "code",
   "execution_count": 18,
   "metadata": {
    "collapsed": true
   },
   "outputs": [],
   "source": [
    "data_train_logs['time_stamp'] = data_train_logs['time_stamp'].apply(lambda x: datetime.datetime.fromtimestamp(x).isoformat())"
   ]
  },
  {
   "cell_type": "code",
   "execution_count": 19,
   "metadata": {},
   "outputs": [
    {
     "data": {
      "text/html": [
       "<div>\n",
       "<style scoped>\n",
       "    .dataframe tbody tr th:only-of-type {\n",
       "        vertical-align: middle;\n",
       "    }\n",
       "\n",
       "    .dataframe tbody tr th {\n",
       "        vertical-align: top;\n",
       "    }\n",
       "\n",
       "    .dataframe thead th {\n",
       "        text-align: right;\n",
       "    }\n",
       "</style>\n",
       "<table border=\"1\" class=\"dataframe\">\n",
       "  <thead>\n",
       "    <tr style=\"text-align: right;\">\n",
       "      <th></th>\n",
       "      <th>user_id</th>\n",
       "      <th>item_id</th>\n",
       "      <th>cat_id</th>\n",
       "      <th>seller_id</th>\n",
       "      <th>brand_id</th>\n",
       "      <th>time_stamp</th>\n",
       "      <th>action_type</th>\n",
       "    </tr>\n",
       "  </thead>\n",
       "  <tbody>\n",
       "    <tr>\n",
       "      <th>0</th>\n",
       "      <td>328862</td>\n",
       "      <td>323294</td>\n",
       "      <td>833</td>\n",
       "      <td>2882</td>\n",
       "      <td>2661.0</td>\n",
       "      <td>1970-01-01T01:13:49</td>\n",
       "      <td>0</td>\n",
       "    </tr>\n",
       "    <tr>\n",
       "      <th>1</th>\n",
       "      <td>328862</td>\n",
       "      <td>844400</td>\n",
       "      <td>1271</td>\n",
       "      <td>2882</td>\n",
       "      <td>2661.0</td>\n",
       "      <td>1970-01-01T01:13:49</td>\n",
       "      <td>0</td>\n",
       "    </tr>\n",
       "    <tr>\n",
       "      <th>2</th>\n",
       "      <td>328862</td>\n",
       "      <td>575153</td>\n",
       "      <td>1271</td>\n",
       "      <td>2882</td>\n",
       "      <td>2661.0</td>\n",
       "      <td>1970-01-01T01:13:49</td>\n",
       "      <td>0</td>\n",
       "    </tr>\n",
       "    <tr>\n",
       "      <th>3</th>\n",
       "      <td>328862</td>\n",
       "      <td>996875</td>\n",
       "      <td>1271</td>\n",
       "      <td>2882</td>\n",
       "      <td>2661.0</td>\n",
       "      <td>1970-01-01T01:13:49</td>\n",
       "      <td>0</td>\n",
       "    </tr>\n",
       "    <tr>\n",
       "      <th>4</th>\n",
       "      <td>328862</td>\n",
       "      <td>1086186</td>\n",
       "      <td>1271</td>\n",
       "      <td>1253</td>\n",
       "      <td>1049.0</td>\n",
       "      <td>1970-01-01T01:13:49</td>\n",
       "      <td>0</td>\n",
       "    </tr>\n",
       "  </tbody>\n",
       "</table>\n",
       "</div>"
      ],
      "text/plain": [
       "   user_id  item_id  cat_id  seller_id  brand_id           time_stamp  \\\n",
       "0   328862   323294     833       2882    2661.0  1970-01-01T01:13:49   \n",
       "1   328862   844400    1271       2882    2661.0  1970-01-01T01:13:49   \n",
       "2   328862   575153    1271       2882    2661.0  1970-01-01T01:13:49   \n",
       "3   328862   996875    1271       2882    2661.0  1970-01-01T01:13:49   \n",
       "4   328862  1086186    1271       1253    1049.0  1970-01-01T01:13:49   \n",
       "\n",
       "   action_type  \n",
       "0            0  \n",
       "1            0  \n",
       "2            0  \n",
       "3            0  \n",
       "4            0  "
      ]
     },
     "execution_count": 19,
     "metadata": {},
     "output_type": "execute_result"
    }
   ],
   "source": [
    "data_train_logs.head()"
   ]
  },
  {
   "cell_type": "code",
   "execution_count": null,
   "metadata": {
    "collapsed": true
   },
   "outputs": [],
   "source": []
  },
  {
   "cell_type": "code",
   "execution_count": null,
   "metadata": {
    "collapsed": true
   },
   "outputs": [],
   "source": []
  },
  {
   "cell_type": "code",
   "execution_count": null,
   "metadata": {
    "collapsed": true
   },
   "outputs": [],
   "source": []
  },
  {
   "cell_type": "markdown",
   "metadata": {},
   "source": [
    "## Statistics on each column - Total, Unique values, Missing >>> Todo\n",
    "\n",
    "- cf Mingxing's Table on Slack"
   ]
  },
  {
   "cell_type": "markdown",
   "metadata": {},
   "source": [
    "### User_Logs_Infos"
   ]
  },
  {
   "cell_type": "code",
   "execution_count": 23,
   "metadata": {},
   "outputs": [
    {
     "name": "stdout",
     "output_type": "stream",
     "text": [
      "item_id has  1090390   uniques values\n",
      "cat_id has  1658   uniques values\n",
      "seller_id has  4995   uniques values\n",
      "brand_id has  8444   uniques values\n",
      "time_stamp has  186   uniques values\n",
      "action_type has  4   uniques values\n"
     ]
    }
   ],
   "source": [
    "for c in data_train_logs.columns:\n",
    "    print(str(c) + ' has  ' + str(len(data_train_logs[c].unique())) + '   uniques values')"
   ]
  },
  {
   "cell_type": "markdown",
   "metadata": {},
   "source": [
    "### User_Info"
   ]
  },
  {
   "cell_type": "code",
   "execution_count": 31,
   "metadata": {},
   "outputs": [
    {
     "name": "stdout",
     "output_type": "stream",
     "text": [
      "age_range has  10   uniques values\n",
      "gender has  4   uniques values\n"
     ]
    }
   ],
   "source": [
    "for c in data_train_user.columns:\n",
    "    print(str(c) + ' has  ' + str(len(data_train_user[c].unique())) + '   uniques values')"
   ]
  },
  {
   "cell_type": "markdown",
   "metadata": {},
   "source": [
    "## Merchant info"
   ]
  },
  {
   "cell_type": "code",
   "execution_count": 51,
   "metadata": {},
   "outputs": [
    {
     "name": "stdout",
     "output_type": "stream",
     "text": [
      "merchant_id has  1993   uniques values\n",
      "label has  2   uniques values\n"
     ]
    }
   ],
   "source": [
    "for c in data_train.columns:\n",
    "    print(str(c) + ' has  ' + str(len(data_train[c].unique())) + '   uniques values')"
   ]
  },
  {
   "cell_type": "markdown",
   "metadata": {},
   "source": [
    "# <span style=\"color:#00925B\"> Part 1 - Data Visualization </span>\n",
    "\n",
    "- Firstly, we try to visualize by using all data. (Mariam)"
   ]
  },
  {
   "cell_type": "markdown",
   "metadata": {},
   "source": [
    "ToDo :\n",
    "\n",
    " - First DataSampling - What is the best way ? Criterion ? Random/Uniform over days ?\n",
    "    - Ask the right questions - What to we want to oulier ? >> Make Specific dataviz\n",
    "    - Do some Stats : Total, Unique, Top values of each features\n",
    "    - Example of questons : For each customer, compute the frequence of visit merchant shop, Focus on Top freuqence ?\n",
    "\n"
   ]
  },
  {
   "cell_type": "markdown",
   "metadata": {},
   "source": [
    "## Function to plot 2 fetaures_Count"
   ]
  },
  {
   "cell_type": "code",
   "execution_count": 12,
   "metadata": {
    "collapsed": true
   },
   "outputs": [],
   "source": [
    "def plot_crosstab_count(data, X_axis, Y_axis):\n",
    "   '''Input : the dataframe data and the name of the two columns to represent\n",
    "   Output : Plot the number of observations (crosstab) of two given features'''\n",
    "   import matplotlib.pyplot as plt\n",
    "   plt.rc('font', size=13)\n",
    "   fig = plt.figure(figsize=(15, 70))\n",
    "   ax1 = plt.subplot2grid((10,1), (0,0))\n",
    "   temp=pd.crosstab(data[str(X_axis)], data[str(Y_axis)])\n",
    "   temp.plot(kind='bar', stacked=True,grid=False,ax=ax1) # barplot\n",
    "   ax1.set_ylabel('Count')\n",
    "   ax1.set_xlabel(str(X_axis))\n",
    "   plt.legend(loc='best')"
   ]
  },
  {
   "cell_type": "markdown",
   "metadata": {},
   "source": [
    "### Dataviz on Users Dataset"
   ]
  },
  {
   "cell_type": "code",
   "execution_count": 4,
   "metadata": {},
   "outputs": [
    {
     "data": {
      "text/html": [
       "<div>\n",
       "<style>\n",
       "    .dataframe thead tr:only-child th {\n",
       "        text-align: right;\n",
       "    }\n",
       "\n",
       "    .dataframe thead th {\n",
       "        text-align: left;\n",
       "    }\n",
       "\n",
       "    .dataframe tbody tr th {\n",
       "        vertical-align: top;\n",
       "    }\n",
       "</style>\n",
       "<table border=\"1\" class=\"dataframe\">\n",
       "  <thead>\n",
       "    <tr style=\"text-align: right;\">\n",
       "      <th></th>\n",
       "      <th>age_range</th>\n",
       "      <th>gender</th>\n",
       "    </tr>\n",
       "    <tr>\n",
       "      <th>user_id</th>\n",
       "      <th></th>\n",
       "      <th></th>\n",
       "    </tr>\n",
       "  </thead>\n",
       "  <tbody>\n",
       "    <tr>\n",
       "      <th>376517</th>\n",
       "      <td>6.0</td>\n",
       "      <td>1.0</td>\n",
       "    </tr>\n",
       "    <tr>\n",
       "      <th>234512</th>\n",
       "      <td>5.0</td>\n",
       "      <td>0.0</td>\n",
       "    </tr>\n",
       "    <tr>\n",
       "      <th>344532</th>\n",
       "      <td>5.0</td>\n",
       "      <td>0.0</td>\n",
       "    </tr>\n",
       "    <tr>\n",
       "      <th>186135</th>\n",
       "      <td>5.0</td>\n",
       "      <td>0.0</td>\n",
       "    </tr>\n",
       "    <tr>\n",
       "      <th>30230</th>\n",
       "      <td>5.0</td>\n",
       "      <td>0.0</td>\n",
       "    </tr>\n",
       "  </tbody>\n",
       "</table>\n",
       "</div>"
      ],
      "text/plain": [
       "         age_range  gender\n",
       "user_id                   \n",
       "376517         6.0     1.0\n",
       "234512         5.0     0.0\n",
       "344532         5.0     0.0\n",
       "186135         5.0     0.0\n",
       "30230          5.0     0.0"
      ]
     },
     "execution_count": 4,
     "metadata": {},
     "output_type": "execute_result"
    }
   ],
   "source": [
    "data_train_user.head()"
   ]
  },
  {
   "cell_type": "code",
   "execution_count": 10,
   "metadata": {
    "collapsed": true
   },
   "outputs": [
    {
     "data": {
      "text/html": [
       "<div>\n",
       "<style>\n",
       "    .dataframe thead tr:only-child th {\n",
       "        text-align: right;\n",
       "    }\n",
       "\n",
       "    .dataframe thead th {\n",
       "        text-align: left;\n",
       "    }\n",
       "\n",
       "    .dataframe tbody tr th {\n",
       "        vertical-align: top;\n",
       "    }\n",
       "</style>\n",
       "<table border=\"1\" class=\"dataframe\">\n",
       "  <thead>\n",
       "    <tr style=\"text-align: right;\">\n",
       "      <th></th>\n",
       "      <th>age_range</th>\n",
       "      <th>gender</th>\n",
       "    </tr>\n",
       "    <tr>\n",
       "      <th>user_id</th>\n",
       "      <th></th>\n",
       "      <th></th>\n",
       "    </tr>\n",
       "  </thead>\n",
       "  <tbody>\n",
       "    <tr>\n",
       "      <th>376517</th>\n",
       "      <td>6.0</td>\n",
       "      <td>1.0</td>\n",
       "    </tr>\n",
       "    <tr>\n",
       "      <th>234512</th>\n",
       "      <td>5.0</td>\n",
       "      <td>0.0</td>\n",
       "    </tr>\n",
       "    <tr>\n",
       "      <th>344532</th>\n",
       "      <td>5.0</td>\n",
       "      <td>0.0</td>\n",
       "    </tr>\n",
       "    <tr>\n",
       "      <th>186135</th>\n",
       "      <td>5.0</td>\n",
       "      <td>0.0</td>\n",
       "    </tr>\n",
       "    <tr>\n",
       "      <th>30230</th>\n",
       "      <td>5.0</td>\n",
       "      <td>0.0</td>\n",
       "    </tr>\n",
       "    <tr>\n",
       "      <th>272389</th>\n",
       "      <td>6.0</td>\n",
       "      <td>1.0</td>\n",
       "    </tr>\n",
       "    <tr>\n",
       "      <th>281071</th>\n",
       "      <td>4.0</td>\n",
       "      <td>0.0</td>\n",
       "    </tr>\n",
       "    <tr>\n",
       "      <th>139859</th>\n",
       "      <td>7.0</td>\n",
       "      <td>0.0</td>\n",
       "    </tr>\n",
       "    <tr>\n",
       "      <th>198411</th>\n",
       "      <td>5.0</td>\n",
       "      <td>1.0</td>\n",
       "    </tr>\n",
       "    <tr>\n",
       "      <th>67037</th>\n",
       "      <td>4.0</td>\n",
       "      <td>1.0</td>\n",
       "    </tr>\n",
       "    <tr>\n",
       "      <th>149002</th>\n",
       "      <td>5.0</td>\n",
       "      <td>2.0</td>\n",
       "    </tr>\n",
       "    <tr>\n",
       "      <th>7468</th>\n",
       "      <td>4.0</td>\n",
       "      <td>0.0</td>\n",
       "    </tr>\n",
       "    <tr>\n",
       "      <th>94292</th>\n",
       "      <td>4.0</td>\n",
       "      <td>0.0</td>\n",
       "    </tr>\n",
       "    <tr>\n",
       "      <th>347414</th>\n",
       "      <td>6.0</td>\n",
       "      <td>1.0</td>\n",
       "    </tr>\n",
       "    <tr>\n",
       "      <th>191719</th>\n",
       "      <td>4.0</td>\n",
       "      <td>0.0</td>\n",
       "    </tr>\n",
       "    <tr>\n",
       "      <th>391524</th>\n",
       "      <td>5.0</td>\n",
       "      <td>1.0</td>\n",
       "    </tr>\n",
       "    <tr>\n",
       "      <th>153790</th>\n",
       "      <td>6.0</td>\n",
       "      <td>0.0</td>\n",
       "    </tr>\n",
       "    <tr>\n",
       "      <th>349112</th>\n",
       "      <td>3.0</td>\n",
       "      <td>1.0</td>\n",
       "    </tr>\n",
       "    <tr>\n",
       "      <th>344766</th>\n",
       "      <td>6.0</td>\n",
       "      <td>0.0</td>\n",
       "    </tr>\n",
       "    <tr>\n",
       "      <th>81816</th>\n",
       "      <td>5.0</td>\n",
       "      <td>0.0</td>\n",
       "    </tr>\n",
       "    <tr>\n",
       "      <th>307304</th>\n",
       "      <td>5.0</td>\n",
       "      <td>0.0</td>\n",
       "    </tr>\n",
       "    <tr>\n",
       "      <th>78617</th>\n",
       "      <td>4.0</td>\n",
       "      <td>1.0</td>\n",
       "    </tr>\n",
       "    <tr>\n",
       "      <th>234232</th>\n",
       "      <td>5.0</td>\n",
       "      <td>0.0</td>\n",
       "    </tr>\n",
       "    <tr>\n",
       "      <th>57005</th>\n",
       "      <td>4.0</td>\n",
       "      <td>1.0</td>\n",
       "    </tr>\n",
       "    <tr>\n",
       "      <th>284893</th>\n",
       "      <td>6.0</td>\n",
       "      <td>1.0</td>\n",
       "    </tr>\n",
       "    <tr>\n",
       "      <th>366342</th>\n",
       "      <td>4.0</td>\n",
       "      <td>0.0</td>\n",
       "    </tr>\n",
       "    <tr>\n",
       "      <th>256174</th>\n",
       "      <td>4.0</td>\n",
       "      <td>1.0</td>\n",
       "    </tr>\n",
       "    <tr>\n",
       "      <th>208701</th>\n",
       "      <td>5.0</td>\n",
       "      <td>0.0</td>\n",
       "    </tr>\n",
       "    <tr>\n",
       "      <th>171799</th>\n",
       "      <td>0.0</td>\n",
       "      <td>1.0</td>\n",
       "    </tr>\n",
       "    <tr>\n",
       "      <th>288275</th>\n",
       "      <td>5.0</td>\n",
       "      <td>1.0</td>\n",
       "    </tr>\n",
       "    <tr>\n",
       "      <th>...</th>\n",
       "      <td>...</td>\n",
       "      <td>...</td>\n",
       "    </tr>\n",
       "    <tr>\n",
       "      <th>147037</th>\n",
       "      <td>0.0</td>\n",
       "      <td>-1.0</td>\n",
       "    </tr>\n",
       "    <tr>\n",
       "      <th>35866</th>\n",
       "      <td>0.0</td>\n",
       "      <td>-1.0</td>\n",
       "    </tr>\n",
       "    <tr>\n",
       "      <th>262091</th>\n",
       "      <td>2.0</td>\n",
       "      <td>0.0</td>\n",
       "    </tr>\n",
       "    <tr>\n",
       "      <th>277791</th>\n",
       "      <td>3.0</td>\n",
       "      <td>-1.0</td>\n",
       "    </tr>\n",
       "    <tr>\n",
       "      <th>171983</th>\n",
       "      <td>2.0</td>\n",
       "      <td>1.0</td>\n",
       "    </tr>\n",
       "    <tr>\n",
       "      <th>255516</th>\n",
       "      <td>0.0</td>\n",
       "      <td>0.0</td>\n",
       "    </tr>\n",
       "    <tr>\n",
       "      <th>237302</th>\n",
       "      <td>0.0</td>\n",
       "      <td>1.0</td>\n",
       "    </tr>\n",
       "    <tr>\n",
       "      <th>58800</th>\n",
       "      <td>2.0</td>\n",
       "      <td>0.0</td>\n",
       "    </tr>\n",
       "    <tr>\n",
       "      <th>279052</th>\n",
       "      <td>3.0</td>\n",
       "      <td>1.0</td>\n",
       "    </tr>\n",
       "    <tr>\n",
       "      <th>65154</th>\n",
       "      <td>-1.0</td>\n",
       "      <td>-1.0</td>\n",
       "    </tr>\n",
       "    <tr>\n",
       "      <th>172846</th>\n",
       "      <td>5.0</td>\n",
       "      <td>1.0</td>\n",
       "    </tr>\n",
       "    <tr>\n",
       "      <th>225225</th>\n",
       "      <td>0.0</td>\n",
       "      <td>0.0</td>\n",
       "    </tr>\n",
       "    <tr>\n",
       "      <th>197548</th>\n",
       "      <td>-1.0</td>\n",
       "      <td>-1.0</td>\n",
       "    </tr>\n",
       "    <tr>\n",
       "      <th>110382</th>\n",
       "      <td>0.0</td>\n",
       "      <td>1.0</td>\n",
       "    </tr>\n",
       "    <tr>\n",
       "      <th>263342</th>\n",
       "      <td>0.0</td>\n",
       "      <td>0.0</td>\n",
       "    </tr>\n",
       "    <tr>\n",
       "      <th>280570</th>\n",
       "      <td>0.0</td>\n",
       "      <td>1.0</td>\n",
       "    </tr>\n",
       "    <tr>\n",
       "      <th>64169</th>\n",
       "      <td>0.0</td>\n",
       "      <td>1.0</td>\n",
       "    </tr>\n",
       "    <tr>\n",
       "      <th>388969</th>\n",
       "      <td>-1.0</td>\n",
       "      <td>-1.0</td>\n",
       "    </tr>\n",
       "    <tr>\n",
       "      <th>312626</th>\n",
       "      <td>2.0</td>\n",
       "      <td>0.0</td>\n",
       "    </tr>\n",
       "    <tr>\n",
       "      <th>145760</th>\n",
       "      <td>0.0</td>\n",
       "      <td>1.0</td>\n",
       "    </tr>\n",
       "    <tr>\n",
       "      <th>97195</th>\n",
       "      <td>-1.0</td>\n",
       "      <td>-1.0</td>\n",
       "    </tr>\n",
       "    <tr>\n",
       "      <th>54826</th>\n",
       "      <td>3.0</td>\n",
       "      <td>1.0</td>\n",
       "    </tr>\n",
       "    <tr>\n",
       "      <th>156155</th>\n",
       "      <td>0.0</td>\n",
       "      <td>1.0</td>\n",
       "    </tr>\n",
       "    <tr>\n",
       "      <th>306498</th>\n",
       "      <td>4.0</td>\n",
       "      <td>1.0</td>\n",
       "    </tr>\n",
       "    <tr>\n",
       "      <th>297789</th>\n",
       "      <td>0.0</td>\n",
       "      <td>1.0</td>\n",
       "    </tr>\n",
       "    <tr>\n",
       "      <th>395814</th>\n",
       "      <td>3.0</td>\n",
       "      <td>1.0</td>\n",
       "    </tr>\n",
       "    <tr>\n",
       "      <th>245950</th>\n",
       "      <td>0.0</td>\n",
       "      <td>1.0</td>\n",
       "    </tr>\n",
       "    <tr>\n",
       "      <th>208016</th>\n",
       "      <td>-1.0</td>\n",
       "      <td>-1.0</td>\n",
       "    </tr>\n",
       "    <tr>\n",
       "      <th>272535</th>\n",
       "      <td>6.0</td>\n",
       "      <td>1.0</td>\n",
       "    </tr>\n",
       "    <tr>\n",
       "      <th>18031</th>\n",
       "      <td>3.0</td>\n",
       "      <td>1.0</td>\n",
       "    </tr>\n",
       "  </tbody>\n",
       "</table>\n",
       "<p>424170 rows × 2 columns</p>\n",
       "</div>"
      ],
      "text/plain": [
       "         age_range  gender\n",
       "user_id                   \n",
       "376517         6.0     1.0\n",
       "234512         5.0     0.0\n",
       "344532         5.0     0.0\n",
       "186135         5.0     0.0\n",
       "30230          5.0     0.0\n",
       "272389         6.0     1.0\n",
       "281071         4.0     0.0\n",
       "139859         7.0     0.0\n",
       "198411         5.0     1.0\n",
       "67037          4.0     1.0\n",
       "149002         5.0     2.0\n",
       "7468           4.0     0.0\n",
       "94292          4.0     0.0\n",
       "347414         6.0     1.0\n",
       "191719         4.0     0.0\n",
       "391524         5.0     1.0\n",
       "153790         6.0     0.0\n",
       "349112         3.0     1.0\n",
       "344766         6.0     0.0\n",
       "81816          5.0     0.0\n",
       "307304         5.0     0.0\n",
       "78617          4.0     1.0\n",
       "234232         5.0     0.0\n",
       "57005          4.0     1.0\n",
       "284893         6.0     1.0\n",
       "366342         4.0     0.0\n",
       "256174         4.0     1.0\n",
       "208701         5.0     0.0\n",
       "171799         0.0     1.0\n",
       "288275         5.0     1.0\n",
       "...            ...     ...\n",
       "147037         0.0    -1.0\n",
       "35866          0.0    -1.0\n",
       "262091         2.0     0.0\n",
       "277791         3.0    -1.0\n",
       "171983         2.0     1.0\n",
       "255516         0.0     0.0\n",
       "237302         0.0     1.0\n",
       "58800          2.0     0.0\n",
       "279052         3.0     1.0\n",
       "65154         -1.0    -1.0\n",
       "172846         5.0     1.0\n",
       "225225         0.0     0.0\n",
       "197548        -1.0    -1.0\n",
       "110382         0.0     1.0\n",
       "263342         0.0     0.0\n",
       "280570         0.0     1.0\n",
       "64169          0.0     1.0\n",
       "388969        -1.0    -1.0\n",
       "312626         2.0     0.0\n",
       "145760         0.0     1.0\n",
       "97195         -1.0    -1.0\n",
       "54826          3.0     1.0\n",
       "156155         0.0     1.0\n",
       "306498         4.0     1.0\n",
       "297789         0.0     1.0\n",
       "395814         3.0     1.0\n",
       "245950         0.0     1.0\n",
       "208016        -1.0    -1.0\n",
       "272535         6.0     1.0\n",
       "18031          3.0     1.0\n",
       "\n",
       "[424170 rows x 2 columns]"
      ]
     },
     "execution_count": 10,
     "metadata": {},
     "output_type": "execute_result"
    }
   ],
   "source": [
    "data_train_user.fillna(value = -1) ## Fill na with -1"
   ]
  },
  {
   "cell_type": "code",
   "execution_count": 13,
   "metadata": {},
   "outputs": [
    {
     "data": {
      "image/png": "[encoded data removed]",
      "text/plain": [
       "<matplotlib.figure.Figure at 0x1d4c79a58>"
      ]
     },
     "metadata": {},
     "output_type": "display_data"
    }
   ],
   "source": [
    "plot_crosstab_count(data_train_user, 'age_range', 'gender')"
   ]
  },
  {
   "cell_type": "code",
   "execution_count": 44,
   "metadata": {},
   "outputs": [
    {
     "data": {
      "image/png": "[encoded data removed]",
      "text/plain": [
       "<matplotlib.figure.Figure at 0x11e067588>"
      ]
     },
     "metadata": {},
     "output_type": "display_data"
    }
   ],
   "source": [
    "plot_crosstab_count(data_train_user, 'gender', 'age_range')"
   ]
  },
  {
   "cell_type": "markdown",
   "metadata": {},
   "source": [
    "### DataViz on Merchands dataset"
   ]
  },
  {
   "cell_type": "code",
   "execution_count": 11,
   "metadata": {},
   "outputs": [
    {
     "data": {
      "text/html": [
       "<div>\n",
       "<style>\n",
       "    .dataframe thead tr:only-child th {\n",
       "        text-align: right;\n",
       "    }\n",
       "\n",
       "    .dataframe thead th {\n",
       "        text-align: left;\n",
       "    }\n",
       "\n",
       "    .dataframe tbody tr th {\n",
       "        vertical-align: top;\n",
       "    }\n",
       "</style>\n",
       "<table border=\"1\" class=\"dataframe\">\n",
       "  <thead>\n",
       "    <tr style=\"text-align: right;\">\n",
       "      <th></th>\n",
       "      <th>merchant_id</th>\n",
       "      <th>label</th>\n",
       "    </tr>\n",
       "    <tr>\n",
       "      <th>user_id</th>\n",
       "      <th></th>\n",
       "      <th></th>\n",
       "    </tr>\n",
       "  </thead>\n",
       "  <tbody>\n",
       "    <tr>\n",
       "      <th>34176</th>\n",
       "      <td>3906</td>\n",
       "      <td>0</td>\n",
       "    </tr>\n",
       "    <tr>\n",
       "      <th>34176</th>\n",
       "      <td>121</td>\n",
       "      <td>0</td>\n",
       "    </tr>\n",
       "    <tr>\n",
       "      <th>34176</th>\n",
       "      <td>4356</td>\n",
       "      <td>1</td>\n",
       "    </tr>\n",
       "    <tr>\n",
       "      <th>34176</th>\n",
       "      <td>2217</td>\n",
       "      <td>0</td>\n",
       "    </tr>\n",
       "    <tr>\n",
       "      <th>230784</th>\n",
       "      <td>4818</td>\n",
       "      <td>0</td>\n",
       "    </tr>\n",
       "  </tbody>\n",
       "</table>\n",
       "</div>"
      ],
      "text/plain": [
       "         merchant_id  label\n",
       "user_id                    \n",
       "34176           3906      0\n",
       "34176            121      0\n",
       "34176           4356      1\n",
       "34176           2217      0\n",
       "230784          4818      0"
      ]
     },
     "execution_count": 11,
     "metadata": {},
     "output_type": "execute_result"
    }
   ],
   "source": [
    "data_train.head()"
   ]
  },
  {
   "cell_type": "code",
   "execution_count": 43,
   "metadata": {},
   "outputs": [
    {
     "data": {
      "image/png": "[encoded data removed]",
      "text/plain": [
       "<matplotlib.figure.Figure at 0x11be06e10>"
      ]
     },
     "metadata": {},
     "output_type": "display_data"
    }
   ],
   "source": [
    "plot_crosstab_count(data_train[200:500], 'merchant_id', 'label')"
   ]
  },
  {
   "cell_type": "code",
   "execution_count": null,
   "metadata": {
    "collapsed": true
   },
   "outputs": [],
   "source": []
  },
  {
   "cell_type": "markdown",
   "metadata": {},
   "source": [
    "### Question : How can we exploit Merchand_id and User_id in dataviz ?? \n",
    "\n",
    ">> Compute Frequence/Ratio of Client_Id for merchant_id ?\n",
    "\n",
    "The data are uniform. There is NO TOP/Dominant Marchant_id or Customer_id.."
   ]
  },
  {
   "cell_type": "code",
   "execution_count": 14,
   "metadata": {},
   "outputs": [
    {
     "data": {
      "image/png": "[encoded data removed]",
      "text/plain": [
       "<matplotlib.figure.Figure at 0x11398be48>"
      ]
     },
     "metadata": {},
     "output_type": "display_data"
    }
   ],
   "source": [
    "plot_crosstab_count(data_train, 'merchant_id', 'label')"
   ]
  },
  {
   "cell_type": "code",
   "execution_count": 15,
   "metadata": {},
   "outputs": [
    {
     "data": {
      "image/png": "[encoded data removed]",
      "text/plain": [
       "<matplotlib.figure.Figure at 0x115789f98>"
      ]
     },
     "metadata": {},
     "output_type": "display_data"
    }
   ],
   "source": [
    "plot_crosstab_count(data_train[:100], 'merchant_id', 'label')"
   ]
  },
  {
   "cell_type": "code",
   "execution_count": 16,
   "metadata": {},
   "outputs": [
    {
     "data": {
      "image/png": "[encoded data removed]",
      "text/plain": [
       "<matplotlib.figure.Figure at 0x138c97e80>"
      ]
     },
     "metadata": {},
     "output_type": "display_data"
    }
   ],
   "source": [
    "plot_crosstab_count(data_train[200:300], 'merchant_id', 'label')"
   ]
  },
  {
   "cell_type": "code",
   "execution_count": null,
   "metadata": {
    "collapsed": true
   },
   "outputs": [],
   "source": []
  },
  {
   "cell_type": "code",
   "execution_count": null,
   "metadata": {
    "collapsed": true
   },
   "outputs": [],
   "source": []
  },
  {
   "cell_type": "markdown",
   "metadata": {},
   "source": [
    "## DataViz on info logs"
   ]
  },
  {
   "cell_type": "code",
   "execution_count": 14,
   "metadata": {},
   "outputs": [
    {
     "data": {
      "text/html": [
       "<div>\n",
       "<style>\n",
       "    .dataframe thead tr:only-child th {\n",
       "        text-align: right;\n",
       "    }\n",
       "\n",
       "    .dataframe thead th {\n",
       "        text-align: left;\n",
       "    }\n",
       "\n",
       "    .dataframe tbody tr th {\n",
       "        vertical-align: top;\n",
       "    }\n",
       "</style>\n",
       "<table border=\"1\" class=\"dataframe\">\n",
       "  <thead>\n",
       "    <tr style=\"text-align: right;\">\n",
       "      <th></th>\n",
       "      <th>item_id</th>\n",
       "      <th>cat_id</th>\n",
       "      <th>seller_id</th>\n",
       "      <th>brand_id</th>\n",
       "      <th>time_stamp</th>\n",
       "      <th>action_type</th>\n",
       "    </tr>\n",
       "    <tr>\n",
       "      <th>user_id</th>\n",
       "      <th></th>\n",
       "      <th></th>\n",
       "      <th></th>\n",
       "      <th></th>\n",
       "      <th></th>\n",
       "      <th></th>\n",
       "    </tr>\n",
       "  </thead>\n",
       "  <tbody>\n",
       "    <tr>\n",
       "      <th>328862</th>\n",
       "      <td>323294</td>\n",
       "      <td>833</td>\n",
       "      <td>2882</td>\n",
       "      <td>2661.0</td>\n",
       "      <td>829</td>\n",
       "      <td>0</td>\n",
       "    </tr>\n",
       "    <tr>\n",
       "      <th>328862</th>\n",
       "      <td>844400</td>\n",
       "      <td>1271</td>\n",
       "      <td>2882</td>\n",
       "      <td>2661.0</td>\n",
       "      <td>829</td>\n",
       "      <td>0</td>\n",
       "    </tr>\n",
       "    <tr>\n",
       "      <th>328862</th>\n",
       "      <td>575153</td>\n",
       "      <td>1271</td>\n",
       "      <td>2882</td>\n",
       "      <td>2661.0</td>\n",
       "      <td>829</td>\n",
       "      <td>0</td>\n",
       "    </tr>\n",
       "    <tr>\n",
       "      <th>328862</th>\n",
       "      <td>996875</td>\n",
       "      <td>1271</td>\n",
       "      <td>2882</td>\n",
       "      <td>2661.0</td>\n",
       "      <td>829</td>\n",
       "      <td>0</td>\n",
       "    </tr>\n",
       "    <tr>\n",
       "      <th>328862</th>\n",
       "      <td>1086186</td>\n",
       "      <td>1271</td>\n",
       "      <td>1253</td>\n",
       "      <td>1049.0</td>\n",
       "      <td>829</td>\n",
       "      <td>0</td>\n",
       "    </tr>\n",
       "  </tbody>\n",
       "</table>\n",
       "</div>"
      ],
      "text/plain": [
       "         item_id  cat_id  seller_id  brand_id  time_stamp  action_type\n",
       "user_id                                                               \n",
       "328862    323294     833       2882    2661.0         829            0\n",
       "328862    844400    1271       2882    2661.0         829            0\n",
       "328862    575153    1271       2882    2661.0         829            0\n",
       "328862    996875    1271       2882    2661.0         829            0\n",
       "328862   1086186    1271       1253    1049.0         829            0"
      ]
     },
     "execution_count": 14,
     "metadata": {},
     "output_type": "execute_result"
    }
   ],
   "source": [
    "data_train_logs.head()"
   ]
  },
  {
   "cell_type": "code",
   "execution_count": 22,
   "metadata": {},
   "outputs": [
    {
     "name": "stdout",
     "output_type": "stream",
     "text": [
      "Features   item_id has  1090390   uniques values\n",
      "Features   cat_id has  1658   uniques values\n",
      "Features   seller_id has  4995   uniques values\n",
      "Features   brand_id has  8444   uniques values\n",
      "Features   time_stamp has  186   uniques values\n",
      "Features   action_type has  4   uniques values\n"
     ]
    }
   ],
   "source": [
    "for c in data_train_logs.columns:\n",
    "    print('Features   ' + str(c) + ' has  ' + str(len(data_train_logs[c].unique())) + '   uniques values')"
   ]
  },
  {
   "cell_type": "markdown",
   "metadata": {},
   "source": [
    "## <span style=\"color:#00925B\"> Q : There are some outliers values in the above sampling plots. How can be exploit them ? </span>"
   ]
  },
  {
   "cell_type": "markdown",
   "metadata": {},
   "source": [
    "## Plot : Action_Type over Time ? >>ToDo>>  Extract the outliers values in the following plots.."
   ]
  },
  {
   "cell_type": "code",
   "execution_count": 38,
   "metadata": {},
   "outputs": [
    {
     "data": {
      "image/png": "[encoded data removed]",
      "text/plain": [
       "<matplotlib.figure.Figure at 0x11a94a7f0>"
      ]
     },
     "metadata": {},
     "output_type": "display_data"
    }
   ],
   "source": [
    "plot_crosstab_count(data_train_logs, 'time_stamp', 'action_type')"
   ]
  },
  {
   "cell_type": "code",
   "execution_count": 39,
   "metadata": {},
   "outputs": [
    {
     "data": {
      "image/png": "[encoded data removed]",
      "text/plain": [
       "<matplotlib.figure.Figure at 0x11b891da0>"
      ]
     },
     "metadata": {},
     "output_type": "display_data"
    }
   ],
   "source": [
    "plot_crosstab_count(data_train_logs[500000:], 'time_stamp', 'action_type')"
   ]
  },
  {
   "cell_type": "code",
   "execution_count": 40,
   "metadata": {},
   "outputs": [
    {
     "data": {
      "image/png": "[encoded data removed]",
      "text/plain": [
       "<matplotlib.figure.Figure at 0x11cb90358>"
      ]
     },
     "metadata": {},
     "output_type": "display_data"
    }
   ],
   "source": [
    "plot_crosstab_count(data_train_logs[300:500], 'time_stamp', 'action_type')"
   ]
  },
  {
   "cell_type": "markdown",
   "metadata": {},
   "source": [
    "## ToDo >>> Fixe TimeStamp format and Exploit Date for Resampling and DataViz"
   ]
  },
  {
   "cell_type": "code",
   "execution_count": null,
   "metadata": {
    "collapsed": true
   },
   "outputs": [],
   "source": []
  },
  {
   "cell_type": "code",
   "execution_count": null,
   "metadata": {
    "collapsed": true
   },
   "outputs": [],
   "source": []
  },
  {
   "cell_type": "markdown",
   "metadata": {},
   "source": [
    "## Plot : Action_Type vs Features  ? >>ToDo>>  There are some outliers values in the sample plot... How to exploit these values"
   ]
  },
  {
   "cell_type": "code",
   "execution_count": 45,
   "metadata": {},
   "outputs": [
    {
     "data": {
      "image/png": "[encoded data removed]",
      "text/plain": [
       "<matplotlib.figure.Figure at 0x11e1162b0>"
      ]
     },
     "metadata": {},
     "output_type": "display_data"
    }
   ],
   "source": [
    "plot_crosstab_count(data_train_logs, 'cat_id', 'action_type')"
   ]
  },
  {
   "cell_type": "code",
   "execution_count": 46,
   "metadata": {},
   "outputs": [
    {
     "data": {
      "image/png": "[encoded data removed]",
      "text/plain": [
       "<matplotlib.figure.Figure at 0x11c059668>"
      ]
     },
     "metadata": {},
     "output_type": "display_data"
    }
   ],
   "source": [
    "plot_crosstab_count(data_train_logs[200:300], 'cat_id', 'action_type')"
   ]
  },
  {
   "cell_type": "code",
   "execution_count": null,
   "metadata": {
    "collapsed": true
   },
   "outputs": [],
   "source": []
  },
  {
   "cell_type": "code",
   "execution_count": null,
   "metadata": {
    "collapsed": true
   },
   "outputs": [],
   "source": []
  },
  {
   "cell_type": "code",
   "execution_count": 48,
   "metadata": {},
   "outputs": [
    {
     "data": {
      "image/png": "[encoded data removed]",
      "text/plain": [
       "<matplotlib.figure.Figure at 0x11a07e860>"
      ]
     },
     "metadata": {},
     "output_type": "display_data"
    }
   ],
   "source": [
    "plot_crosstab_count(data_train_logs[200:300], 'seller_id', 'action_type')"
   ]
  },
  {
   "cell_type": "code",
   "execution_count": 52,
   "metadata": {},
   "outputs": [
    {
     "data": {
      "image/png": "[encoded data removed]",
      "text/plain": [
       "<matplotlib.figure.Figure at 0x11c19f780>"
      ]
     },
     "metadata": {},
     "output_type": "display_data"
    }
   ],
   "source": [
    "plot_crosstab_count(data_train_logs[200:300], 'brand_id', 'action_type')"
   ]
  },
  {
   "cell_type": "code",
   "execution_count": 49,
   "metadata": {},
   "outputs": [
    {
     "data": {
      "image/png": "[encoded data removed]",
      "text/plain": [
       "<matplotlib.figure.Figure at 0x1239a3550>"
      ]
     },
     "metadata": {},
     "output_type": "display_data"
    }
   ],
   "source": [
    "plot_crosstab_count(data_train_logs[800000:800900], 'seller_id', 'action_type')"
   ]
  },
  {
   "cell_type": "code",
   "execution_count": null,
   "metadata": {
    "collapsed": true
   },
   "outputs": [],
   "source": []
  },
  {
   "cell_type": "code",
   "execution_count": null,
   "metadata": {
    "collapsed": true
   },
   "outputs": [],
   "source": []
  },
  {
   "cell_type": "code",
   "execution_count": null,
   "metadata": {
    "collapsed": true
   },
   "outputs": [],
   "source": []
  },
  {
   "cell_type": "markdown",
   "metadata": {
    "collapsed": true
   },
   "source": [
    "## ToDo>>> Make dataset TIDY ? Try to Merge the 3 dataset into 1 relevant tidy data\n",
    "\n",
    "## ToDo >>> need to have for each customer_id,  [Age, Genre, Label, Action_Type and Marchand_id] in 1 row => InterestingDataViz"
   ]
  },
  {
   "cell_type": "code",
   "execution_count": null,
   "metadata": {
    "collapsed": true
   },
   "outputs": [],
   "source": []
  },
  {
   "cell_type": "code",
   "execution_count": null,
   "metadata": {
    "collapsed": true
   },
   "outputs": [],
   "source": []
  },
  {
   "cell_type": "code",
   "execution_count": null,
   "metadata": {
    "collapsed": true
   },
   "outputs": [],
   "source": []
  },
  {
   "cell_type": "markdown",
   "metadata": {},
   "source": [
    "\n",
    "# <span style=\"color:#00925B\"> Part 2 - Baseline Model"
   ]
  },
  {
   "cell_type": "code",
   "execution_count": null,
   "metadata": {
    "collapsed": true
   },
   "outputs": [],
   "source": []
  },
  {
   "cell_type": "code",
   "execution_count": null,
   "metadata": {
    "collapsed": true
   },
   "outputs": [],
   "source": []
  },
  {
   "cell_type": "markdown",
   "metadata": {},
   "source": [
    "# <span style=\"color:#00925B\"> Part 3 - RAMP WORKFLOM"
   ]
  },
  {
   "cell_type": "code",
   "execution_count": null,
   "metadata": {
    "collapsed": true
   },
   "outputs": [],
   "source": []
  }
 ],
 "metadata": {
  "kernelspec": {
   "display_name": "Python 3",
   "language": "python",
   "name": "python3"
  },
  "language_info": {
   "codemirror_mode": {
    "name": "ipython",
    "version": 3
   },
   "file_extension": ".py",
   "mimetype": "text/x-python",
   "name": "python",
   "nbconvert_exporter": "python",
   "pygments_lexer": "ipython3",
   "version": "3.5.4"
  }
 },
 "nbformat": 4,
 "nbformat_minor": 2
}
