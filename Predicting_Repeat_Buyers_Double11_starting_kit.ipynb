{
 "cells": [
  {
   "cell_type": "markdown",
   "metadata": {},
   "source": [
    "#  <a style=\"color:#00925B\"> DataCamp Project - Tmall/Double11 - Predict the repeat buyers </a>\n",
    "\n",
    "### Authors  : Ling JIN - Mingxing DU - Rui YUAN - Mariam BARRY - Yu LI - Yanlin DU\n",
    "\n",
    " M2 DataScience - Université ParisScalay\n",
    " \n",
    "Professors :  Alexandre GRAMFORT & Balazs KEGL\n"
   ]
  },
  {
   "cell_type": "markdown",
   "metadata": {},
   "source": [
    "##  <a style=\"color:#00925B\"> 1. Business case</a>\n",
    "\n",
    "- Introduction\n",
    "- China 'Double 11' single day promotion \n",
    "- Business model, Metric\n",
    "- Data description"
   ]
  },
  {
   "cell_type": "markdown",
   "metadata": {},
   "source": [
    "\n",
    "## <a style=\"color:#00925B\">2. Exploratory data analysis</a>\n",
    "\n",
    "- Overall statistics \n",
    "- Data visualization\n"
   ]
  },
  {
   "cell_type": "markdown",
   "metadata": {},
   "source": [
    "##  <a style=\"color:#00925B\">3. Baseline model</a>\n",
    "\n",
    "- Features engineering\n",
    "- Baseline Classifier (Neural Network, Incremental Learning)"
   ]
  },
  {
   "cell_type": "markdown",
   "metadata": {},
   "source": [
    "##  <a style=\"color:#00925B\">4. Submit on RAMP</a>"
   ]
  },
  {
   "cell_type": "markdown",
   "metadata": {},
   "source": [
    "##  <a style=\"color:#00925B\">5. Hints for features engineering and classifier</a>\n",
    "\n",
    "A KDD reserach paper related to our business-case.\n",
    "http://www.kdd.org/kdd2016/papers/files/adf0160-liuA.pdf"
   ]
  },
  {
   "cell_type": "markdown",
   "metadata": {},
   "source": [
    "# <a style=\"color:#00925B\"> 1. Business case </a>\n"
   ]
  },
  {
   "cell_type": "markdown",
   "metadata": {},
   "source": [
    "##  <span style=\"color:#00925B\"> 1.1 Introduction  </span> \n",
    "\n",
    "Merchants sometimes run big promotions (e.g., discounts or cash coupons) on particular dates (e.g., Boxing-day Sales, \"Black Friday\" or \"Double 11 (Nov 11th)”, in order to attract a large number of new buyers. Unfortunately, many of the attracted buyers are one-time deal hunters, and these promotions may have little long lasting impact on sales. What's more, Tmall.com as the creator of Chinese shopping carnival \"Double 11 (Nov 11th)” is threatening by other e-commercial companies like Jingdong, Suning, which resluts in an increasingly high customer churn rate. As more and more customers involving in this shopping festival and more and more competitions appearing in the market, Tmall.com has to reinforce user loyalty to avoid customer loss.\n",
    "\n",
    "\n",
    "It is well known that in the field of **online advertising, customer targeting is extremely challenging, especially for fresh buyers**. However, with the long-term user behavior log accumulated by Tmall.com, we may be able to solve this problem using Machine learning models.\n"
   ]
  },
  {
   "cell_type": "markdown",
   "metadata": {},
   "source": [
    "##  <span style=\"color:#00925B\"> 1.2 China 'Double 11' single day promotion  </span> \n",
    "\n",
    "On Singles' Day 2017 (Double 11), Alibaba earned US dollar 25.3 billion in 24 hours and set a world record for most payment transactions during the festival. Its mobile wallet app Alipay processed 256,000 payment transactions per second. A total of 1.48 billion transactions were processed by Alipay in the entire 24 hours and at least 331 million packages were handled by Chinese postal and courier companies on Saturday, 31.5% more than the same day last year, the State Post Bureau said. And 90% of total sales this year were made on mobile devices, up from 82% in 2016, Alibaba said. With the first 52 seconds of November 12th 2016, the turnover on Tmall arrived at 150 million US$. A first delivery even closed in 13 minutes. In 2017, total sales on Tmall Double 11 Shopping Festival reached 26.6 billion US dolar in 2017 from 225 countries and regions, 90% from mobile and 167 merchants each has total transactions of over 15.8 million US dollar. \n",
    "\n",
    "\n",
    "Read more: https://www.chinainternetwatch.com/22791/double-11-2017/#ixzz54tyFBb6a\n",
    "\n",
    "Here's a look at how much sales have grown for Alibaba on the shopping holiday over the years, in comparison to Cyber Monday and Black Friday's online sales. "
   ]
  },
  {
   "cell_type": "code",
   "execution_count": 1,
   "metadata": {},
   "outputs": [
    {
     "data": {
      "text/html": [
       "<img src=\"http://static6.businessinsider.com/image/5818df74b28a64a26a8b4dd8-1022/screen%20shot%202016-11-01%20at%202.30.01%20pm.png\" width=\"700\" height=\"200\"/>"
      ],
      "text/plain": [
       "<IPython.core.display.Image object>"
      ]
     },
     "execution_count": 1,
     "metadata": {},
     "output_type": "execute_result"
    }
   ],
   "source": [
    "## Source http://www.businessinsider.fr/us/singles-day-is-chinas-cyber-monday-2016-11/\n",
    "from IPython.display import Image\n",
    "source = 'http://static6.businessinsider.com/image/5818df74b28a64a26a8b4dd8-1022/screen%20shot%202016-11-01%20at%202.30.01%20pm.png'\n",
    "Image(url = source, width=700, height=200)\n"
   ]
  },
  {
   "cell_type": "markdown",
   "metadata": {},
   "source": [
    "##  <span style=\"color:#00925B\"> 1.3 Business model  </span> \n",
    "\n",
    "### Business problem\n",
    "\n",
    "As more and more customers involving in this shopping festival (double 11 promotion) and more and more competitions appearing in the market, Tmall.com has to reinforce user loyalty to avoid customer loss. Both the merchants and Tmall.com have make great efforts on the promotion day. The merchants offer a great discount on all the products to attract new clients on that special day. But the most important is to make them become repeated customers so as to increase the profit in a long term. But the problem is after the big promotion, not many new customers would stay and be transfered to repeat buyers. To alleviate this problem, **it is important for merchants to provide personalized service and promotion to different clients**. \n",
    "\n",
    "On the one hand, it's necessary to identify early who is at risk to leave so as to segment the campaigns to re-engage these clients effectively and in time because it is more expensive and time-consuming acquiring new customers than retaining old ones. This approach is significant for e-commerce companies. Getting new customers always demand a lot of marketing efforts, the merchant has to show trustworthy to potential consumers before they think of clicking the “buy it” button. It generally takes time. Old customers are familiar with the store, they have all the convenience of coming back there without the need of registering on the website or find the store among millions stores since they have already gone through it on their first purchase.\n",
    "\n",
    "On the other hand, It's also important to identify who can be converted into repeat buyers. **By targeting on these potential loyal and repeat customers, merchants can greatly reduce the promotion cost and enhance the return on investment (ROI)**.\n",
    "By analysing and modeling on customers' behavior dataset, Tmall.com aims to segment potential repeat buyers and buyers who are going to leave in order to increase user loyalty and prevent customer churn.\n",
    "\n",
    "### User of our solution \n",
    "\n",
    "Our model is aimed to the merchants on the platform Tmall.com. According to statistic results, there are more than 18 millions stores on Tmall.com in 2017.\n",
    "\n",
    "Note that our prediction model might be adapted to others business-case.\n",
    "\n",
    "### Source of income of the clients:\n",
    "\n",
    "The income of our merchants is from the profits of selling goods online. The merchants tend to choose the strategy of providing promotions to attract new customers, in which way, it is expected to achieve the mode of small profits and quick returns. And once new customers become loyal to some shop, the merchants will even profit more at ordinay times without promotion. \n",
    "\n",
    "\n",
    "### Prediction task\n",
    "\n",
    "We provide a set of merchants and their corresponding new buyers acquired during the promotion on the \"Double 11\" day. Your task is to predict for given merchants, which new buyers will not repurchase, while which new buyers will become loyal customers in the future. In other words, you need to predict whether these new buyers would purchase items from the same merchants again within 6 months. The goal is to do customer segmentation. To classfier new clients to potential repeat buyers and potential churned customers. The result may lead to a better distribution of promotion resource for each store, thus each store can better choose target clients. **This case is a binary classification problem where, given a pair of merchant and client, the target is to predict whether this given client is a repeated buyer for this specific merchant or not.**\n",
    "\n",
    "\n",
    "### Hypotheses\n",
    "\n",
    "- Potential loyal clients will reperchase at least once in the next six month. Suppose that merchandises continue to make promotions during the year, precise and accurate target loyal clients can garantee revenues and even stimulate more their interest of shopping. For those potential repeat buyers, the merchants can reduce their future discount  since they will repurchase after all. They can accumulate the amount that a client has bought in the store, then tranfer those with an amout above a certain level to VIP customers. While for those one-time deal buyers, merchantises should aujust promotion strategies which is different from that for loyal clients, such as giving coupons for the next purchase or a higher discount rate.\n",
    "\n",
    "\n",
    "- Promotion cost: The merchants apply to the platform to participate in the pomotion, which is also a commitment to give discount on the articles. Suppose that for a round of promotion, the cost depends on the number of clients applied to. \n",
    "\n",
    "\n",
    "### Business metrics \n",
    "\n",
    "\n",
    "**True Positive**: Succeffsully identifying those who will repurchase, preventing unnecessary investment on those buyers.\n",
    "\n",
    "**True Negative**: Successfully identifying those who are possible to leave, the merchant makes a better distribution of promotion resource so as to make those clients stay and maximize profits.\n",
    "\n",
    "**False Positive**: Wrongly identifying a client as repeat buyer while he/she is going to leave the store, causing potential loss of clients.\n",
    "\n",
    "**False Negative**: Wrongly identifying a repeated client as a potential churn client, causing unnecessary promotion, waste of resource.\n",
    "\n",
    "Suppose that a margin of a transformed client is 5, a promotion cost per client is 1. The transformation probability is 0.3. We define gains of each metric above:\n",
    "- cfn = FN * margin per client - FN * promotion per client\n",
    "- cfp = - FP * probability * margin per client\n",
    "- ctn = TN * probability*margin per client - TN * promotion per client\n",
    "- ctp = TP * margin per client\n",
    "\n",
    "$$\\text{business metric} = \\frac{cfp*FP + cfn*FN + ctp*TP + ctn*TN}{TP+TN+FP+FN}$$\n",
    "\n",
    "\n",
    "\n",
    "### Benefits of DataScience/Machine Learning solution\n",
    "\n",
    "- Exploit the huge amount of raw dataset to thrive the Business\n",
    "- Reinforce user loyalty to avoid customer loss\n",
    "- Implement the customer segmentation to better target relevant customers and then make the corresponding promotion  \n",
    "- Make the best use of promotion expenses which is constant in allocating the promotion ressources in order to get the maximum profits in the long term\n",
    "- Predictions will also determine the demand size which indicate the consumption trend so that the merchant will know how to stock the goods and won’t buy less or more than the customer demand\n",
    "- Update the stock and the store logistic ressources based on the prediction of customers behavior and sales\n"
   ]
  },
  {
   "cell_type": "markdown",
   "metadata": {},
   "source": [
    "### Data description\n",
    "\n",
    "The data set contains anonymized users' shopping logs in the past 6 months before and on the \"Double 11\" day, and the label information indicating whether they are repeat buyers. Due to privacy issue, data is sampled in a biased way, so the statistical result on this data set would deviate from the actual of Tmall.com. But it will not affect the applicability of the solution. The files for the training and testing data sets can be found in \"data_format2.zip\". Details of the data format can be found in the table below. **Due to the size of the original dataset, we resample the data from 'data_format2.zip'** as 'train.csv' and 'test.csv'.Then apply it in our baseline model. Based on these two '.csv' files, we do some transformation and get 'train.csv' and 'test.csv' in order to obtain the better analysis of data in the section of data visulization.\n",
    "\n",
    "**Data are downloaded from** a Chinese Kaggle website.\n",
    "Source : https://tianchi.aliyun.com/getStart/information.htm?spm=5176.100067.5678.2.274d6bb1eahGbL&raceId=231576"
   ]
  },
  {
   "cell_type": "code",
   "execution_count": 2,
   "metadata": {},
   "outputs": [
    {
     "data": {
      "text/html": [
       "<div>\n",
       "<style scoped>\n",
       "    .dataframe tbody tr th:only-of-type {\n",
       "        vertical-align: middle;\n",
       "    }\n",
       "\n",
       "    .dataframe tbody tr th {\n",
       "        vertical-align: top;\n",
       "    }\n",
       "\n",
       "    .dataframe thead th {\n",
       "        text-align: right;\n",
       "    }\n",
       "</style>\n",
       "<table border=\"1\" class=\"dataframe\">\n",
       "  <thead>\n",
       "    <tr style=\"text-align: right;\">\n",
       "      <th></th>\n",
       "      <th>user_id</th>\n",
       "      <th>age_range</th>\n",
       "      <th>gender</th>\n",
       "      <th>merchant_id</th>\n",
       "      <th>activity_log</th>\n",
       "      <th>label</th>\n",
       "    </tr>\n",
       "  </thead>\n",
       "  <tbody>\n",
       "    <tr>\n",
       "      <th>0</th>\n",
       "      <td>177329</td>\n",
       "      <td>4.0</td>\n",
       "      <td>0.0</td>\n",
       "      <td>2360</td>\n",
       "      <td>397865:1331:7711:1111:0#464621:1331:7711:1111:...</td>\n",
       "      <td>0</td>\n",
       "    </tr>\n",
       "    <tr>\n",
       "      <th>1</th>\n",
       "      <td>233930</td>\n",
       "      <td>4.0</td>\n",
       "      <td>0.0</td>\n",
       "      <td>2891</td>\n",
       "      <td>435117:1414:6371:1111:2#435117:1414:6371:1111:0</td>\n",
       "      <td>0</td>\n",
       "    </tr>\n",
       "    <tr>\n",
       "      <th>2</th>\n",
       "      <td>229696</td>\n",
       "      <td>0.0</td>\n",
       "      <td>0.0</td>\n",
       "      <td>798</td>\n",
       "      <td>30536:1657:385:1111:2#384969:1580:385:1111:2#2...</td>\n",
       "      <td>0</td>\n",
       "    </tr>\n",
       "    <tr>\n",
       "      <th>3</th>\n",
       "      <td>25126</td>\n",
       "      <td>3.0</td>\n",
       "      <td>0.0</td>\n",
       "      <td>4171</td>\n",
       "      <td>482515:1401:2828:1111:2#482515:1401:2828:1111:...</td>\n",
       "      <td>0</td>\n",
       "    </tr>\n",
       "    <tr>\n",
       "      <th>4</th>\n",
       "      <td>64312</td>\n",
       "      <td>0.0</td>\n",
       "      <td>0.0</td>\n",
       "      <td>3473</td>\n",
       "      <td>1029252:656:3305:1110:0#1029252:656:3305:1109:...</td>\n",
       "      <td>0</td>\n",
       "    </tr>\n",
       "  </tbody>\n",
       "</table>\n",
       "</div>"
      ],
      "text/plain": [
       "   user_id  age_range  gender  merchant_id  \\\n",
       "0   177329        4.0     0.0         2360   \n",
       "1   233930        4.0     0.0         2891   \n",
       "2   229696        0.0     0.0          798   \n",
       "3    25126        3.0     0.0         4171   \n",
       "4    64312        0.0     0.0         3473   \n",
       "\n",
       "                                        activity_log  label  \n",
       "0  397865:1331:7711:1111:0#464621:1331:7711:1111:...      0  \n",
       "1    435117:1414:6371:1111:2#435117:1414:6371:1111:0      0  \n",
       "2  30536:1657:385:1111:2#384969:1580:385:1111:2#2...      0  \n",
       "3  482515:1401:2828:1111:2#482515:1401:2828:1111:...      0  \n",
       "4  1029252:656:3305:1110:0#1029252:656:3305:1109:...      0  "
      ]
     },
     "execution_count": 2,
     "metadata": {},
     "output_type": "execute_result"
    }
   ],
   "source": [
    "import pandas as pd\n",
    "data = pd.read_csv('data/train.csv',sep=',')\n",
    "data.head()"
   ]
  },
  {
   "cell_type": "markdown",
   "metadata": {
    "collapsed": true
   },
   "source": [
    "**user_id:** a unique id for the shopper\n",
    "\n",
    "**age_range:** user' s age range represented as 9 types from 0 to 8, where 0 means that the age is unknown; 1 for $age<18$; 2 for $age\\in[18,24]$; 3 for $age\\in[25,29]$; 4 for $age\\in[30,34]$; 5 for $age\\in[35,39]$; 6 for $age\\in[40,49]$; 7 and 8 for $age\\geq 50$.  \n",
    "\n",
    "**gender:** user' s gender where 0 for female, 1 for male, 2 for unknown.\n",
    "\n",
    "**merchant_id:** a unique id for the merchant\n",
    "\n",
    "**activity_log:** set of interaction records between {user_id, merchant_id}, where each record is an action represented as 'item_id:category_id:brand_id:time_stamp:action_type' . ' #' is used to separate two neighbouring elements. Records are not sorted in any particular order. The action type is from {0, 1, 2, 3}, where 0 is for click, 1 is for add-to-cart, 2 is for purchase and 3 is for add-to-favourite.\n",
    "\n",
    "**label:** value from {0, 1}. ' 1' denotes ' user_id' is a repeat buyer for ' merchant_id' , while ' 0' is the opposite. "
   ]
  },
  {
   "cell_type": "markdown",
   "metadata": {
    "collapsed": true
   },
   "source": [
    "#  <a style=\"color:#00925B\"> 2.  Exploratory data analysis </a>\n",
    "\n"
   ]
  },
  {
   "cell_type": "markdown",
   "metadata": {},
   "source": [
    "## Data exploration"
   ]
  },
  {
   "cell_type": "markdown",
   "metadata": {},
   "source": [
    "### Import librairies"
   ]
  },
  {
   "cell_type": "code",
   "execution_count": 1,
   "metadata": {
    "collapsed": true
   },
   "outputs": [],
   "source": [
    "import pandas as pd\n",
    "import numpy as np\n",
    "import matplotlib.pyplot as plt\n",
    "import unicodedata\n",
    "%matplotlib inline\n",
    "import datetime"
   ]
  },
  {
   "cell_type": "markdown",
   "metadata": {},
   "source": [
    "### Load the training data\n",
    "\n",
    "- Each row is a record of the interactions between a pair of User and Merchant.\n",
    "- Each pair is unique.\n",
    "- Label 0 means this User is not a repeat buyer at this Merchant, Label 1 means this User is a repeat buyer at this Merchant.\n",
    "- Other columns will be detailly explained later."
   ]
  },
  {
   "cell_type": "code",
   "execution_count": 3,
   "metadata": {},
   "outputs": [
    {
     "data": {
      "text/html": [
       "<div>\n",
       "<style scoped>\n",
       "    .dataframe tbody tr th:only-of-type {\n",
       "        vertical-align: middle;\n",
       "    }\n",
       "\n",
       "    .dataframe tbody tr th {\n",
       "        vertical-align: top;\n",
       "    }\n",
       "\n",
       "    .dataframe thead th {\n",
       "        text-align: right;\n",
       "    }\n",
       "</style>\n",
       "<table border=\"1\" class=\"dataframe\">\n",
       "  <thead>\n",
       "    <tr style=\"text-align: right;\">\n",
       "      <th></th>\n",
       "      <th>user_id</th>\n",
       "      <th>age_range</th>\n",
       "      <th>gender</th>\n",
       "      <th>merchant_id</th>\n",
       "      <th>activity_log</th>\n",
       "      <th>label</th>\n",
       "    </tr>\n",
       "  </thead>\n",
       "  <tbody>\n",
       "    <tr>\n",
       "      <th>0</th>\n",
       "      <td>177329</td>\n",
       "      <td>4.0</td>\n",
       "      <td>0.0</td>\n",
       "      <td>2360</td>\n",
       "      <td>397865:1331:7711:1111:0#464621:1331:7711:1111:...</td>\n",
       "      <td>0</td>\n",
       "    </tr>\n",
       "    <tr>\n",
       "      <th>1</th>\n",
       "      <td>233930</td>\n",
       "      <td>4.0</td>\n",
       "      <td>0.0</td>\n",
       "      <td>2891</td>\n",
       "      <td>435117:1414:6371:1111:2#435117:1414:6371:1111:0</td>\n",
       "      <td>0</td>\n",
       "    </tr>\n",
       "    <tr>\n",
       "      <th>2</th>\n",
       "      <td>229696</td>\n",
       "      <td>0.0</td>\n",
       "      <td>0.0</td>\n",
       "      <td>798</td>\n",
       "      <td>30536:1657:385:1111:2#384969:1580:385:1111:2#2...</td>\n",
       "      <td>0</td>\n",
       "    </tr>\n",
       "    <tr>\n",
       "      <th>3</th>\n",
       "      <td>25126</td>\n",
       "      <td>3.0</td>\n",
       "      <td>0.0</td>\n",
       "      <td>4171</td>\n",
       "      <td>482515:1401:2828:1111:2#482515:1401:2828:1111:...</td>\n",
       "      <td>0</td>\n",
       "    </tr>\n",
       "    <tr>\n",
       "      <th>4</th>\n",
       "      <td>64312</td>\n",
       "      <td>0.0</td>\n",
       "      <td>0.0</td>\n",
       "      <td>3473</td>\n",
       "      <td>1029252:656:3305:1110:0#1029252:656:3305:1109:...</td>\n",
       "      <td>0</td>\n",
       "    </tr>\n",
       "  </tbody>\n",
       "</table>\n",
       "</div>"
      ],
      "text/plain": [
       "   user_id  age_range  gender  merchant_id  \\\n",
       "0   177329        4.0     0.0         2360   \n",
       "1   233930        4.0     0.0         2891   \n",
       "2   229696        0.0     0.0          798   \n",
       "3    25126        3.0     0.0         4171   \n",
       "4    64312        0.0     0.0         3473   \n",
       "\n",
       "                                        activity_log  label  \n",
       "0  397865:1331:7711:1111:0#464621:1331:7711:1111:...      0  \n",
       "1    435117:1414:6371:1111:2#435117:1414:6371:1111:0      0  \n",
       "2  30536:1657:385:1111:2#384969:1580:385:1111:2#2...      0  \n",
       "3  482515:1401:2828:1111:2#482515:1401:2828:1111:...      0  \n",
       "4  1029252:656:3305:1110:0#1029252:656:3305:1109:...      0  "
      ]
     },
     "execution_count": 3,
     "metadata": {},
     "output_type": "execute_result"
    }
   ],
   "source": [
    "data.head()"
   ]
  },
  {
   "cell_type": "code",
   "execution_count": 4,
   "metadata": {},
   "outputs": [
    {
     "data": {
      "text/plain": [
       "user_id           int64\n",
       "age_range       float64\n",
       "gender          float64\n",
       "merchant_id       int64\n",
       "activity_log     object\n",
       "label             int64\n",
       "dtype: object"
      ]
     },
     "execution_count": 4,
     "metadata": {},
     "output_type": "execute_result"
    }
   ],
   "source": [
    "data.dtypes"
   ]
  },
  {
   "cell_type": "code",
   "execution_count": 5,
   "metadata": {},
   "outputs": [
    {
     "data": {
      "text/plain": [
       "user_id           0\n",
       "age_range       236\n",
       "gender          724\n",
       "merchant_id       0\n",
       "activity_log      0\n",
       "label             0\n",
       "dtype: int64"
      ]
     },
     "execution_count": 5,
     "metadata": {},
     "output_type": "execute_result"
    }
   ],
   "source": [
    "# NA counts\n",
    "data.isnull().sum()"
   ]
  },
  {
   "cell_type": "markdown",
   "metadata": {},
   "source": [
    "#### Note that there are NA values for column age_range and gender. We fill the NA of age_range with 0, fill the NA of gender with 2. Because for column age_range 0 means unknown, for column gender 2 means unknown."
   ]
  },
  {
   "cell_type": "code",
   "execution_count": 6,
   "metadata": {},
   "outputs": [
    {
     "data": {
      "text/plain": [
       "user_id         0\n",
       "age_range       0\n",
       "gender          0\n",
       "merchant_id     0\n",
       "activity_log    0\n",
       "label           0\n",
       "dtype: int64"
      ]
     },
     "execution_count": 6,
     "metadata": {},
     "output_type": "execute_result"
    }
   ],
   "source": [
    "data['gender'] = data['gender'].fillna(2)\n",
    "data['age_range'] = data['age_range'].fillna(0)\n",
    "# NA counts\n",
    "data.isnull().sum()"
   ]
  },
  {
   "cell_type": "code",
   "execution_count": 10,
   "metadata": {},
   "outputs": [
    {
     "name": "stdout",
     "output_type": "stream",
     "text": [
      "Column Gender\n",
      "Unique value : [0. 1. 2.]\n",
      "Number of unique values : 3\n",
      "0: Female, 1: Male, 2: Unknown\n"
     ]
    },
    {
     "data": {
      "image/png": "[encoded data removed]",
      "text/plain": [
       "<matplotlib.figure.Figure at 0x104deed68>"
      ]
     },
     "metadata": {},
     "output_type": "display_data"
    }
   ],
   "source": [
    "print('Column Gender')\n",
    "print('Unique value : {}'.format(data['gender'].unique()))\n",
    "print('Number of unique values : {}'.format(len(np.unique(data['gender']))))\n",
    "print('0: Female, 1: Male, 2: Unknown')\n",
    "data.groupby('gender').count()[['label']].sort_values(\n",
    "    'label', ascending=False).reset_index().rename(\n",
    "    columns={'label': 'count'}).plot.bar(\n",
    "    x='gender', y='count', figsize=(16, 10), fontsize=18);"
   ]
  },
  {
   "cell_type": "code",
   "execution_count": 11,
   "metadata": {},
   "outputs": [
    {
     "name": "stdout",
     "output_type": "stream",
     "text": [
      "Column Age_range\n",
      "Unique value : [0. 1. 2. 3. 4. 5. 6. 7. 8.]\n",
      "Number of unique values : 9\n",
      "0: Unknown, 1: <18, 2: 18-24, 3: 25-29, 4: 30-34, 5: 35-39, 6: 40-49, 7&8: >=50\n"
     ]
    },
    {
     "data": {
      "image/png": "[encoded data removed]",
      "text/plain": [
       "<matplotlib.figure.Figure at 0x10878e240>"
      ]
     },
     "metadata": {},
     "output_type": "display_data"
    }
   ],
   "source": [
    "print('Column Age_range')\n",
    "print('Unique value : {}'.format(np.sort(data['age_range'].unique())))\n",
    "print('Number of unique values : {}'.format(len(np.unique(data['age_range']))))\n",
    "print('0: Unknown, 1: <18, 2: 18-24, 3: 25-29, 4: 30-34, 5: 35-39, 6: 40-49, 7&8: >=50')\n",
    "data.groupby('age_range').count()[['label']].sort_values(\n",
    "    'label', ascending=False).reset_index().rename(\n",
    "    columns={'label': 'count'}).plot.bar(\n",
    "    x='age_range', y='count', figsize=(16, 10), fontsize=18);"
   ]
  },
  {
   "cell_type": "code",
   "execution_count": 9,
   "metadata": {},
   "outputs": [
    {
     "name": "stdout",
     "output_type": "stream",
     "text": [
      "Column Label\n",
      "Unique value : [0 1]\n",
      "Number of unique values : 2\n",
      "0: One time buyer, 1: Repeat buyer\n"
     ]
    },
    {
     "data": {
      "image/png": "[encoded data removed]",
      "text/plain": [
       "<matplotlib.figure.Figure at 0x11b282a90>"
      ]
     },
     "metadata": {},
     "output_type": "display_data"
    }
   ],
   "source": [
    "print('Column Label')\n",
    "print('Unique value : {}'.format(np.sort(data['label'].unique())))\n",
    "print('Number of unique values : {}'.format(len(np.unique(data['label']))))\n",
    "print('0: One time buyer, 1: Repeat buyer')\n",
    "data.groupby('label').count()[['age_range']].sort_values(\n",
    "    'age_range', ascending=False).reset_index().rename(\n",
    "    columns={'age_range': 'count'}).plot.bar(\n",
    "    x='label', y='count', figsize=(16, 10), fontsize=18);"
   ]
  },
  {
   "cell_type": "markdown",
   "metadata": {},
   "source": [
    "$\\textbf{Important Note :}$ We can see that the dataset is highly unbalanced, more adapted classifier is needed."
   ]
  },
  {
   "cell_type": "markdown",
   "metadata": {},
   "source": [
    "### Activity_log,  <b><span style=\"color:red\">most informative part, and where feature engineering is needed</span></b>, it's the set of interaction records between {user, merchant}, where each record is an action represented as :\n",
    "- $\\textbf{item_id:category_id:brand_id:time_stamp:action_type}$ . \n",
    "- $\\textbf{'#'}$ is used to separate two neighbouring elements. Records are not sorted in any particular order.\n",
    "\n",
    "### To have a closer look at this log, let's first extract it into several columns : $[item\\_id, category\\_id, brand\\_id, time\\_stamp, action\\_type]$\n",
    "\n"
   ]
  },
  {
   "cell_type": "code",
   "execution_count": 59,
   "metadata": {},
   "outputs": [
    {
     "data": {
      "text/html": [
       "<div>\n",
       "<style scoped>\n",
       "    .dataframe tbody tr th:only-of-type {\n",
       "        vertical-align: middle;\n",
       "    }\n",
       "\n",
       "    .dataframe tbody tr th {\n",
       "        vertical-align: top;\n",
       "    }\n",
       "\n",
       "    .dataframe thead th {\n",
       "        text-align: right;\n",
       "    }\n",
       "</style>\n",
       "<table border=\"1\" class=\"dataframe\">\n",
       "  <thead>\n",
       "    <tr style=\"text-align: right;\">\n",
       "      <th></th>\n",
       "      <th>item_id</th>\n",
       "      <th>category_id</th>\n",
       "      <th>brand_id</th>\n",
       "      <th>time_stamp</th>\n",
       "      <th>action_type</th>\n",
       "      <th>label</th>\n",
       "    </tr>\n",
       "  </thead>\n",
       "  <tbody>\n",
       "    <tr>\n",
       "      <th>count</th>\n",
       "      <td>538694</td>\n",
       "      <td>538694</td>\n",
       "      <td>538694</td>\n",
       "      <td>538694</td>\n",
       "      <td>538694</td>\n",
       "      <td>538694</td>\n",
       "    </tr>\n",
       "    <tr>\n",
       "      <th>unique</th>\n",
       "      <td>74835</td>\n",
       "      <td>894</td>\n",
       "      <td>2623</td>\n",
       "      <td>185</td>\n",
       "      <td>4</td>\n",
       "      <td>2</td>\n",
       "    </tr>\n",
       "    <tr>\n",
       "      <th>top</th>\n",
       "      <td>191499</td>\n",
       "      <td>662</td>\n",
       "      <td>82</td>\n",
       "      <td>1111</td>\n",
       "      <td>0</td>\n",
       "      <td>0</td>\n",
       "    </tr>\n",
       "    <tr>\n",
       "      <th>freq</th>\n",
       "      <td>1426</td>\n",
       "      <td>29052</td>\n",
       "      <td>18094</td>\n",
       "      <td>315542</td>\n",
       "      <td>452861</td>\n",
       "      <td>488149</td>\n",
       "    </tr>\n",
       "  </tbody>\n",
       "</table>\n",
       "</div>"
      ],
      "text/plain": [
       "       item_id category_id brand_id time_stamp action_type   label\n",
       "count   538694      538694   538694     538694      538694  538694\n",
       "unique   74835         894     2623        185           4       2\n",
       "top     191499         662       82       1111           0       0\n",
       "freq      1426       29052    18094     315542      452861  488149"
      ]
     },
     "execution_count": 59,
     "metadata": {},
     "output_type": "execute_result"
    }
   ],
   "source": [
    "# extend act log into several columns\n",
    "act_log = []\n",
    "for i in range(len(data)):\n",
    "    logs = (list(data.loc[i])[4]).split('#')\n",
    "    label = data.loc[i][5]\n",
    "    for l in logs:\n",
    "        act_log.append(l.strip().split(':')+[label])\n",
    "act_log = pd.DataFrame(act_log, columns = ['item_id', 'category_id', 'brand_id', 'time_stamp', 'action_type', 'label'],\n",
    "                       dtype='category')\n",
    "act_log.describe()"
   ]
  },
  {
   "cell_type": "code",
   "execution_count": 13,
   "metadata": {},
   "outputs": [
    {
     "name": "stdout",
     "output_type": "stream",
     "text": [
      "Action_type summary\n",
      "Unique value : ['0' '1' '2' '3']\n",
      "Number of unique values : 4\n",
      "0 for click, 1 for add-to-cart, 2 for purchase, 3 for add-to-favourite\n"
     ]
    },
    {
     "data": {
      "image/png": "[encoded data removed]",
      "text/plain": [
       "<matplotlib.figure.Figure at 0x109011cc0>"
      ]
     },
     "metadata": {},
     "output_type": "display_data"
    }
   ],
   "source": [
    "print('Action_type summary')\n",
    "print('Unique value : {}'.format(np.sort(act_log['action_type'].unique())))\n",
    "print('Number of unique values : {}'.format(len(np.unique(act_log['action_type']))))\n",
    "print('0 for click, 1 for add-to-cart, 2 for purchase, 3 for add-to-favourite')\n",
    "act_log.groupby('action_type').count()[['time_stamp']].sort_values(\n",
    "    'time_stamp', ascending=False).reset_index().rename(\n",
    "    columns={'time_stamp': 'count'}).plot.bar(\n",
    "    x='action_type', y='count', figsize=(16, 10), fontsize=18);"
   ]
  },
  {
   "cell_type": "code",
   "execution_count": 36,
   "metadata": {},
   "outputs": [
    {
     "name": "stdout",
     "output_type": "stream",
     "text": [
      "Time_stamp summary\n",
      "Number of unique values : 185\n"
     ]
    },
    {
     "data": {
      "text/plain": [
       "1111    315542\n",
       "1110     64545\n",
       "1109     21718\n",
       "1108     14928\n",
       "1107     12183\n",
       "1106     11246\n",
       "1105      9404\n",
       "1104      7941\n",
       "1103      6342\n",
       "1102      6220\n",
       "1101      6064\n",
       "1031      4562\n",
       "1030      3774\n",
       "1029      2062\n",
       "1028      1738\n",
       "1027      1490\n",
       "1026      1264\n",
       "1024      1223\n",
       "1021      1150\n",
       "1022      1139\n",
       "1023      1100\n",
       "1025      1046\n",
       "1018       895\n",
       "1019       894\n",
       "1016       820\n",
       "1017       819\n",
       "1014       770\n",
       "1020       769\n",
       "0626       728\n",
       "0909       689\n",
       "         ...  \n",
       "0712       128\n",
       "0602       127\n",
       "0603       124\n",
       "0608       124\n",
       "0606       124\n",
       "0610       123\n",
       "0708       121\n",
       "0703       121\n",
       "0720       120\n",
       "0802       120\n",
       "0611       118\n",
       "0713       117\n",
       "0819       117\n",
       "0817       115\n",
       "0812       104\n",
       "0704       103\n",
       "0804       103\n",
       "0709        92\n",
       "0811        89\n",
       "0612        82\n",
       "0714        63\n",
       "0513        17\n",
       "0512        14\n",
       "0517        13\n",
       "0515        13\n",
       "0516        12\n",
       "0519        10\n",
       "0518        10\n",
       "0511         9\n",
       "0514         7\n",
       "Name: time_stamp, Length: 185, dtype: int64"
      ]
     },
     "execution_count": 36,
     "metadata": {},
     "output_type": "execute_result"
    },
    {
     "data": {
      "image/png": "[encoded data removed]",
      "text/plain": [
       "<matplotlib.figure.Figure at 0x11513a510>"
      ]
     },
     "metadata": {},
     "output_type": "display_data"
    }
   ],
   "source": [
    "print('Time_stamp summary')\n",
    "print('Number of unique values : {}'.format(len(np.unique(act_log['time_stamp']))))\n",
    "act_log.groupby('time_stamp').count()[['action_type']].sort_values(\n",
    "    'action_type', ascending=False).reset_index().rename(\n",
    "    columns={'action_type': 'count'}).plot.bar(\n",
    "    x='time_stamp', y='count', figsize=(16, 10), fontsize=18);\n",
    "act_log['time_stamp'].value_counts()"
   ]
  },
  {
   "cell_type": "code",
   "execution_count": 15,
   "metadata": {},
   "outputs": [
    {
     "name": "stdout",
     "output_type": "stream",
     "text": [
      "Category_id summary\n",
      "Number of unique values : 894\n"
     ]
    },
    {
     "data": {
      "text/plain": [
       "662     29052\n",
       "1142    26364\n",
       "389     24060\n",
       "656     19395\n",
       "737     14000\n",
       "602     13894\n",
       "664     10695\n",
       "1505    10253\n",
       "1095     9595\n",
       "1553     9570\n",
       "1438     9569\n",
       "1188     9123\n",
       "177      9098\n",
       "1611     8402\n",
       "898      8281\n",
       "946      7629\n",
       "1238     7618\n",
       "1577     7423\n",
       "420      7350\n",
       "1075     7301\n",
       "276      7153\n",
       "1023     7093\n",
       "1401     6846\n",
       "351      6645\n",
       "1389     6528\n",
       "1181     5811\n",
       "748      5784\n",
       "1213     5781\n",
       "1112     5314\n",
       "407      5199\n",
       "        ...  \n",
       "1281        1\n",
       "127         1\n",
       "1266        1\n",
       "1176        1\n",
       "1178        1\n",
       "1241        1\n",
       "124         1\n",
       "1217        1\n",
       "1555        1\n",
       "1556        1\n",
       "161         1\n",
       "1623        1\n",
       "501         1\n",
       "470         1\n",
       "406         1\n",
       "397         1\n",
       "379         1\n",
       "342         1\n",
       "251         1\n",
       "248         1\n",
       "234         1\n",
       "221         1\n",
       "214         1\n",
       "21          1\n",
       "207         1\n",
       "201         1\n",
       "1125        1\n",
       "174         1\n",
       "1671        1\n",
       "258         1\n",
       "Name: category_id, Length: 894, dtype: int64"
      ]
     },
     "execution_count": 15,
     "metadata": {},
     "output_type": "execute_result"
    },
    {
     "data": {
      "image/png": "[encoded data removed]",
      "text/plain": [
       "<matplotlib.figure.Figure at 0x10909f8d0>"
      ]
     },
     "metadata": {},
     "output_type": "display_data"
    }
   ],
   "source": [
    "print('Category_id summary')\n",
    "print('Number of unique values : {}'.format(len(np.unique(act_log['category_id']))))\n",
    "act_log.groupby('category_id').count()[['action_type']].sort_values(\n",
    "    'action_type', ascending=False).reset_index().rename(\n",
    "    columns={'action_type': 'count'}).plot.bar(\n",
    "    x='category_id', y='count', figsize=(16, 10), fontsize=18);\n",
    "act_log['category_id'].value_counts()"
   ]
  },
  {
   "cell_type": "code",
   "execution_count": 16,
   "metadata": {},
   "outputs": [
    {
     "name": "stdout",
     "output_type": "stream",
     "text": [
      "Brand_id summary\n",
      "Number of unique values : 2623\n"
     ]
    },
    {
     "data": {
      "text/plain": [
       "82      18094\n",
       "1214    14300\n",
       "1446    14127\n",
       "5376    11020\n",
       "6585     7529\n",
       "4705     7118\n",
       "6143     6413\n",
       "7892     5872\n",
       "376      5613\n",
       "4290     4183\n",
       "2045     4129\n",
       "385      3902\n",
       "8351     3869\n",
       "8417     3473\n",
       "2337     3376\n",
       "7995     3360\n",
       "4014     3358\n",
       "247      3354\n",
       "5735     3207\n",
       "3614     2911\n",
       "6109     2872\n",
       "6445     2832\n",
       "7931     2690\n",
       "3091     2538\n",
       "2240     2503\n",
       "6595     2498\n",
       "4276     2471\n",
       "2276     2468\n",
       "7606     2466\n",
       "8235     2464\n",
       "        ...  \n",
       "8220        1\n",
       "5036        1\n",
       "7965        1\n",
       "6564        1\n",
       "23          1\n",
       "6529        1\n",
       "2269        1\n",
       "2225        1\n",
       "6486        1\n",
       "8023        1\n",
       "647         1\n",
       "2155        1\n",
       "2124        1\n",
       "4799        1\n",
       "6428        1\n",
       "6424        1\n",
       "6413        1\n",
       "2012        1\n",
       "4878        1\n",
       "4881        1\n",
       "6395        1\n",
       "4906        1\n",
       "6373        1\n",
       "1951        1\n",
       "1931        1\n",
       "1926        1\n",
       "635         1\n",
       "8161        1\n",
       "8194        1\n",
       "6504        1\n",
       "Name: brand_id, Length: 2623, dtype: int64"
      ]
     },
     "execution_count": 16,
     "metadata": {},
     "output_type": "execute_result"
    },
    {
     "data": {
      "image/png": "[encoded data removed]",
      "text/plain": [
       "<matplotlib.figure.Figure at 0x1090dbef0>"
      ]
     },
     "metadata": {},
     "output_type": "display_data"
    }
   ],
   "source": [
    "print('Brand_id summary')\n",
    "print('Number of unique values : {}'.format(len(np.unique(act_log['brand_id']))))\n",
    "act_log.groupby('brand_id').count()[['action_type']].sort_values(\n",
    "    'action_type', ascending=False).reset_index().rename(\n",
    "    columns={'action_type': 'count'}).plot.bar(\n",
    "    x='brand_id', y='count', figsize=(16, 10), fontsize=18);\n",
    "act_log['brand_id'].value_counts()"
   ]
  },
  {
   "cell_type": "markdown",
   "metadata": {},
   "source": [
    "### From above counts and plots, we can observe:\n",
    "- $item\\_id$ are abandant, it might be more informative to take category and brand into account.\n",
    "- $time\\_stamp$, $brand\\_id$ and $category\\_id$ have tail distribution, meaning that most of the elements have extremly low frequent. This implies that we could group those elements, since a such single element is meaningless.\n",
    "\n"
   ]
  },
  {
   "cell_type": "markdown",
   "metadata": {},
   "source": [
    "#  <a style=\"color:#00925B\"> 3. Baseline model</a>\n",
    "\n"
   ]
  },
  {
   "cell_type": "markdown",
   "metadata": {
    "collapsed": true
   },
   "source": [
    "## Features extractor\n",
    "\n",
    "To begin with the problem, below is the list of features we have build :\n",
    "\n",
    "- **age_range** : dummy coding for age_range\n",
    "- **gender** : dummy coding for gender\n",
    "- **merchant_return_rate** : for a merchant we calculate his total return rate of clients (to indicate if the clients are more likely to comeback in this merchant store)\n",
    "- **user_return_rate** : for a user we calculate his return rate (to indicate if the client is more likely to be a repeat buyer)\n",
    "- **log_features** : These features are **generated from the activity_log column where the most effort is needed for features engineering**. We propose following features which correspond about 300 columns \n",
    "    - binary features which indicate if a given brand or category are more likely to have repeat buyers \n",
    "    - counts of different action types along different months and different days.\n",
    "    \n"
   ]
  },
  {
   "cell_type": "code",
   "execution_count": 10,
   "metadata": {},
   "outputs": [
    {
     "name": "stdout",
     "output_type": "stream",
     "text": [
      "Overwriting submissions/starting_kit/feature_extractor.py\n"
     ]
    }
   ],
   "source": [
    "%%file submissions/starting_kit/feature_extractor.py\n",
    "import pandas as pd\n",
    "import numpy as np\n",
    "from collections import defaultdict\n",
    "\n",
    "def fill_na(X_df):\n",
    "    X_df['gender'].fillna(2)\n",
    "    X_df['age_range'].fillna(0)\n",
    "    return X_df\n",
    "\n",
    "def compute_positive_rate(X, col, MIN_COUNT):\n",
    "    ''' MIN_COUNT: we compute the rate for at least MIN_COUNT occurrences, \n",
    "    since if an item appears only once and it's a repeat buyer, we can hardly say the return rate is 100% '''\n",
    "    # approximately 150 seconds\n",
    "    group = X.groupby(col)\n",
    "    group_count = group.count()['label']\n",
    "    min_count = group_count < MIN_COUNT\n",
    "    group_count[min_count] = 1.0\n",
    "    group_posi = group.sum()['label']\n",
    "    group_posi[min_count] = 0.5\n",
    "    #return defaultdict(lambda:0.5, [(str(index), group_posi[index]/group_count[index]) for index in group_posi.index])\n",
    "    return group_posi / group_count\n",
    "    \n",
    "def compute_index(rate, TOP=20):\n",
    "    LAST = 100 - TOP\n",
    "    rate_index = list(rate.sort_values(ascending=False).index)\n",
    "    rate_index = dict(zip(rate_index[0:TOP] + rate_index[-LAST:], np.arange(100)))\n",
    "    return rate_index\n",
    "\n",
    "def expand_act_log(X_df):\n",
    "    act_log = []\n",
    "    for i in range(len(X_df)):\n",
    "        logs = X_df.loc[i][4].split('#')\n",
    "        label = X_df.loc[i][5]\n",
    "        user_id = X_df.loc[i][0]\n",
    "        merchant_id = X_df.loc[i][3]\n",
    "        for l in logs:\n",
    "            act_log.append([user_id]+[merchant_id]+l.strip().split(':')+[label])\n",
    "    act_log = pd.DataFrame(act_log, columns = ['user_id', 'merchant_id', 'item_id', 'category_id', 'brand_id', 'time_stamp', 'action_type', 'label'],\n",
    "                       dtype='category')\n",
    "    return act_log\n",
    "\n",
    "def log2feature(act_log, rate_brand_index, rate_cate_index, index_dates):\n",
    "    n = len(act_log)\n",
    "    p = len(rate_brand_index)\n",
    "    q = len(rate_cate_index) # by default p+q it's 200\n",
    "    features = np.zeros((n,p+q + 68)) # 68=17*4, corresponding to 6 months and 11 days of November, each date has 4 action types \n",
    "    brand_keys = rate_brand_index.keys()\n",
    "    cate_keys = rate_cate_index.keys()\n",
    "    dates_keys = index_dates.keys()\n",
    "    for i, log in enumerate(act_log):\n",
    "        acts = log.split('#')\n",
    "        for act in acts:\n",
    "            _, cate, brand, date, act_type = act.strip().split(':')\n",
    "            if str(brand) in brand_keys:\n",
    "                features[i][rate_brand_index[str(brand)]] +=1\n",
    "            if str(cate) in cate_keys:\n",
    "                features[i][p+rate_cate_index[str(cate)]] +=1\n",
    "            if str(date) in dates_keys:\n",
    "                features[i][p+q+index_dates[str(date)]+int(act_type)] +=1 \n",
    "    return features\n",
    "\n",
    "def generate_dates():\n",
    "    months = ['05', '06', '07', '08', '09', '10'] # we can observe that data begins from May until 11 November \n",
    "    index_dates = {}\n",
    "    for i,m in enumerate(months):\n",
    "        for j in range(31):\n",
    "            index_dates[m + str(j+1).zfill(2)] = i*4\n",
    "    for i in range(11):\n",
    "        index_dates['11'+ str(i+1).zfill(2)] = (6+i)*4\n",
    "    return index_dates\n",
    "        \n",
    "    \n",
    "class FeatureExtractor():\n",
    "    def __init__(self, MIN_COUNT=6):\n",
    "        self.merchant_return_rate = None # return rate for each merchant, eg: for a merchant i, the percentage of repeated client\n",
    "        self.user_return_rate = None # return rate for each client, eg: for a client i, the percentage of being a repeated client\n",
    "        self.rate_brand_index = None # top return rate brands, eg: the first brand is the one which has a highest percentage of repeated client\n",
    "        self.rate_cate_index = None # top return rate categorys, eg: the first category is the one which has a highest percentage of repeated client\n",
    "        self.act_log = None # extract the act log from the raw data\n",
    "        self.age_dummy = None # dummy coding age_range\n",
    "        self.gender_dummy = None # dummy coding gender_range\n",
    "        self.index_dates = None # we count the different action types for different dates\n",
    "        self.MIN_COUNT = MIN_COUNT # minimum counts for a reliable return rate, eg: if one has only 1 count, and it is a repeated client,\n",
    "    # we can't draw a conclusion that the return rate is 100%, instead we take 50% (equal chance).\n",
    "\n",
    "    def fit(self, X_df, y=None):\n",
    "        X_df = fill_na(X_df).reset_index(drop=True)\n",
    "        X_df['label'] = y\n",
    "        self.act_log = expand_act_log(X_df)\n",
    "        self.index_dates = generate_dates()\n",
    "        rate = compute_positive_rate(X_df, ['merchant_id'], self.MIN_COUNT)\n",
    "        self.merchant_return_rate = defaultdict(lambda:0.5, \n",
    "                                                [(str(index), rate[index]) for index in rate.index])\n",
    "        rate = compute_positive_rate(X_df, ['user_id'], self.MIN_COUNT)\n",
    "        self.user_return_rate = defaultdict(lambda:0.5, \n",
    "                                                [(str(index), rate[index]) for index in rate.index])\n",
    "        self.rate_brand_index = compute_index( compute_positive_rate(self.act_log, ['brand_id'], self.MIN_COUNT), \n",
    "                                              TOP=50)\n",
    "        self.rate_cate_index = compute_index( compute_positive_rate(self.act_log, ['category_id'], self.MIN_COUNT), \n",
    "                                             TOP=10)\n",
    "        self.age_dummy = pd.get_dummies(X_df['age_range'].astype('category')).columns\n",
    "        self.gender_dummy = pd.get_dummies(X_df['gender'].astype('category')).columns\n",
    "\n",
    "    def transform(self, X_df):\n",
    "        '''\n",
    "        Feature engineering: you can do your own feature engineering here \n",
    "        '''\n",
    "        age = pd.get_dummies(X_df['age_range'].astype('category')).reindex(columns = self.age_dummy, fill_value = 0).as_matrix()\n",
    "        gender = pd.get_dummies(X_df['gender'].astype('category')).reindex(columns = self.gender_dummy, fill_value = 0).as_matrix()\n",
    "        merchant_return_rate = np.array([self.merchant_return_rate[str(id_)] for id_ in X_df['merchant_id']]).reshape(-1,1)\n",
    "        user_return_rate = np.array([self.user_return_rate[str(id_)] for id_ in X_df['user_id']]).reshape(-1,1)\n",
    "        log_features = log2feature(X_df['activity_log'], self.rate_brand_index, self.rate_cate_index, self.index_dates)\n",
    "        \n",
    "        X = np.hstack((age, gender, merchant_return_rate, user_return_rate, log_features))\n",
    "        return X"
   ]
  },
  {
   "cell_type": "markdown",
   "metadata": {
    "collapsed": true
   },
   "source": [
    "## Classifier\n",
    "- Given this dataset is **highly unbalanced**, traditional classifiers won't perform properly, for example, with some classical method, one might have a prediction of all 0, since the great majority of the dataset have a label of 0.\n",
    "\n",
    "- To give a baseline, we **propose a simple neural network** with **downsample training strategy**, meaning that each time we downsample a more or less balanced dataset for training.\n",
    "\n",
    "- For the **metrics**, one might already notice that, accuracy is meaningless, since even predicting all 0, one can still get an accuracy of 93%, to have a more meaningful metric, we **introduce ROC AUC score** from sklearn, which gives a more reasonable evaluation of our model. Note that our model is sensitive to False Negative while Precision and Recall both ignore False Negatives, so Precision, Recall and F1 are also not recommanded."
   ]
  },
  {
   "cell_type": "code",
   "execution_count": 17,
   "metadata": {},
   "outputs": [
    {
     "name": "stdout",
     "output_type": "stream",
     "text": [
      "Overwriting submissions/starting_kit/classifier.py\n"
     ]
    }
   ],
   "source": [
    "%%file submissions/starting_kit/classifier.py\n",
    "import pandas as pd\n",
    "import numpy as np\n",
    "from keras.models import Sequential\n",
    "from keras.layers.core import Dense, Activation\n",
    "from keras import optimizers\n",
    "from keras.utils.np_utils import to_categorical\n",
    "import pdb\n",
    "\n",
    "\n",
    "def balance_batch(data, label):\n",
    "    num = int((label==1).sum()*1.5)\n",
    "    index_0 = np.random.choice(np.where(label==0)[0], num)\n",
    "    batch = []\n",
    "    batch_label = []\n",
    "    for i in range(len(data)): \n",
    "        if i in index_0 or label[i]==1:\n",
    "            batch.append(data[i])\n",
    "            batch_label.append(label[i])\n",
    "    return np.array(batch), np.array(batch_label)\n",
    "\n",
    "class Classifier(object):\n",
    "    \n",
    "    def __init__(self):\n",
    "        \n",
    "        self.model = Sequential()\n",
    "        self.model.add(Dense(units=64, activation='relu', input_dim=282))\n",
    "        self.model.add(Dense(units=64, activation='relu', input_dim=50))\n",
    "        self.model.add(Dense(1, activation='sigmoid'))\n",
    "        self.model.compile(loss='binary_crossentropy',\n",
    "                      optimizer='rmsprop',\n",
    "                      metrics=['accuracy'])\n",
    "    \n",
    "    def fit(self, X, y):\n",
    "        \n",
    "        print('Incremental training, each time we sample a balanced dataset for training:')\n",
    "        num_iterations = 15\n",
    "        for i in range(num_iterations):\n",
    "            batch_train, batch_label = balance_batch(X, y)\n",
    "            self.model.train_on_batch(batch_train, batch_label)\n",
    "    \n",
    "    def predict(self, X):\n",
    "        return (self.model.predict(X)>=0.49).astype(int)\n",
    "    \n",
    "    def predict_proba(self, X):\n",
    "        prob_1 = self.model.predict_proba(X)\n",
    "        prob_0 = 1 - self.model.predict_proba(X)\n",
    "        return np.concatenate((prob_0, prob_1), axis=1)"
   ]
  },
  {
   "cell_type": "markdown",
   "metadata": {},
   "source": [
    "#  <a style=\"color:#00925B\"> 4. Submit on RAMP </a>"
   ]
  },
  {
   "cell_type": "markdown",
   "metadata": {},
   "source": [
    "## The pipeline\n",
    "\n",
    "For submitting at the [RAMP site](http://ramp.studio), you will have to write two classes, saved in two different files:   \n",
    "* the class `FeatureExtractor`, which will be used to extract features for classification from the dataset and produce a numpy array of size (number of samples $\\times$ number of features). \n",
    "* a class `Classifier` to predict the target"
   ]
  },
  {
   "cell_type": "markdown",
   "metadata": {},
   "source": [
    "## Local testing (before submission)\n",
    "\n",
    "It is <b><span style=\"color:red\">important that you test your submission files before submitting them</span></b>. For this we provide a unit test. Note that the test runs on your files in [`submissions/starting_kit`](/tree/submissions/starting_kit), not on the classes defined in the cells of this notebook.\n",
    "\n",
    "First `pip install ramp-workflow` or install it from the [github repo](https://github.com/paris-saclay-cds/ramp-workflow). Make sure that the python files `classifier.py` and `feature_extractor.py` are in the  [`submissions/starting_kit`](/tree/submissions/starting_kit) folder, and the data `train.csv` and `test.csv` are in [`data`](/tree/data). Then run\n",
    "\n",
    "```ramp_test_submission```\n",
    "\n",
    "If it runs and print training and test errors on each fold, then you can submit the code."
   ]
  },
  {
   "cell_type": "code",
   "execution_count": 18,
   "metadata": {
    "scrolled": true
   },
   "outputs": [
    {
     "name": "stdout",
     "output_type": "stream",
     "text": [
      "\u001b[38;5;178m\u001b[1mTesting Taobao: Repeat Buyers Prediction\u001b[0m\n",
      "\u001b[38;5;178m\u001b[1mReading train and test files from ./data ...\u001b[0m\n",
      "\u001b[38;5;178m\u001b[1mReading cv ...\u001b[0m\n",
      "\u001b[38;5;178m\u001b[1mTraining ./submissions/starting_kit ...\u001b[0m\n",
      "/Users/lingjin/anaconda3/lib/python3.5/site-packages/h5py/__init__.py:34: FutureWarning: Conversion of the second argument of issubdtype from `float` to `np.floating` is deprecated. In future, it will be treated as `np.float64 == np.dtype(float).type`.\n",
      "  from ._conv import register_converters as _register_converters\n",
      "Using TensorFlow backend.\n",
      "Incremental training, each time we sample a balanced dataset for training:\n",
      "2018-01-30 18:50:11.081135: I tensorflow/core/platform/cpu_feature_guard.cc:137] Your CPU supports instructions that this TensorFlow binary was not compiled to use: SSE4.1 SSE4.2 AVX AVX2 FMA\n",
      "\u001b[38;5;178m\u001b[1mCV fold 0\u001b[0m\n",
      "\t\u001b[38;5;178m\u001b[1mscore  business_metric   acc    nll  roc_auc\u001b[0m\n",
      "\t\u001b[38;5;10m\u001b[1mtrain\u001b[0m        \u001b[38;5;10m\u001b[1m16751.403\u001b[0m  \u001b[38;5;150m0.91\u001b[0m  \u001b[38;5;150m0.572\u001b[0m    \u001b[38;5;150m0.587\u001b[0m\n",
      "\t\u001b[38;5;12m\u001b[1mvalid\u001b[0m         \u001b[38;5;12m\u001b[1m4157.674\u001b[0m  \u001b[38;5;105m0.91\u001b[0m  \u001b[38;5;105m0.577\u001b[0m    \u001b[38;5;105m0.537\u001b[0m\n",
      "\t\u001b[38;5;1m\u001b[1mtest\u001b[0m          \u001b[38;5;1m\u001b[1m4148.067\u001b[0m  \u001b[38;5;218m0.90\u001b[0m  \u001b[38;5;218m0.577\u001b[0m    \u001b[38;5;218m0.545\u001b[0m\n",
      "Incremental training, each time we sample a balanced dataset for training:\n",
      "\u001b[38;5;178m\u001b[1mCV fold 1\u001b[0m\n",
      "\t\u001b[38;5;178m\u001b[1mscore  business_metric  acc    nll  roc_auc\u001b[0m\n",
      "\t\u001b[38;5;10m\u001b[1mtrain\u001b[0m        \u001b[38;5;10m\u001b[1m16353.797\u001b[0m  \u001b[38;5;150m0.9\u001b[0m  \u001b[38;5;150m0.561\u001b[0m    \u001b[38;5;150m0.610\u001b[0m\n",
      "\t\u001b[38;5;12m\u001b[1mvalid\u001b[0m         \u001b[38;5;12m\u001b[1m4079.311\u001b[0m  \u001b[38;5;105m0.9\u001b[0m  \u001b[38;5;105m0.567\u001b[0m    \u001b[38;5;105m0.544\u001b[0m\n",
      "\t\u001b[38;5;1m\u001b[1mtest\u001b[0m          \u001b[38;5;1m\u001b[1m4061.387\u001b[0m  \u001b[38;5;218m0.9\u001b[0m  \u001b[38;5;218m0.566\u001b[0m    \u001b[38;5;218m0.558\u001b[0m\n",
      "Incremental training, each time we sample a balanced dataset for training:\n",
      "\u001b[38;5;178m\u001b[1mCV fold 2\u001b[0m\n",
      "\t\u001b[38;5;178m\u001b[1mscore  business_metric   acc    nll  roc_auc\u001b[0m\n",
      "\t\u001b[38;5;10m\u001b[1mtrain\u001b[0m        \u001b[38;5;10m\u001b[1m13038.134\u001b[0m  \u001b[38;5;150m0.84\u001b[0m  \u001b[38;5;150m0.628\u001b[0m    \u001b[38;5;150m0.595\u001b[0m\n",
      "\t\u001b[38;5;12m\u001b[1mvalid\u001b[0m         \u001b[38;5;12m\u001b[1m3169.555\u001b[0m  \u001b[38;5;105m0.83\u001b[0m  \u001b[38;5;105m0.634\u001b[0m    \u001b[38;5;105m0.585\u001b[0m\n",
      "\t\u001b[38;5;1m\u001b[1mtest\u001b[0m          \u001b[38;5;1m\u001b[1m3217.420\u001b[0m  \u001b[38;5;218m0.83\u001b[0m  \u001b[38;5;218m0.635\u001b[0m    \u001b[38;5;218m0.561\u001b[0m\n",
      "Incremental training, each time we sample a balanced dataset for training:\n",
      "\u001b[38;5;178m\u001b[1mCV fold 3\u001b[0m\n",
      "\t\u001b[38;5;178m\u001b[1mscore  business_metric   acc    nll  roc_auc\u001b[0m\n",
      "\t\u001b[38;5;10m\u001b[1mtrain\u001b[0m        \u001b[38;5;10m\u001b[1m15423.517\u001b[0m  \u001b[38;5;150m0.88\u001b[0m  \u001b[38;5;150m0.597\u001b[0m    \u001b[38;5;150m0.594\u001b[0m\n",
      "\t\u001b[38;5;12m\u001b[1mvalid\u001b[0m         \u001b[38;5;12m\u001b[1m3838.192\u001b[0m  \u001b[38;5;105m0.88\u001b[0m  \u001b[38;5;105m0.600\u001b[0m    \u001b[38;5;105m0.563\u001b[0m\n",
      "\t\u001b[38;5;1m\u001b[1mtest\u001b[0m          \u001b[38;5;1m\u001b[1m3821.915\u001b[0m  \u001b[38;5;218m0.88\u001b[0m  \u001b[38;5;218m0.602\u001b[0m    \u001b[38;5;218m0.556\u001b[0m\n",
      "Incremental training, each time we sample a balanced dataset for training:\n",
      "\u001b[38;5;178m\u001b[1mCV fold 4\u001b[0m\n",
      "\t\u001b[38;5;178m\u001b[1mscore  business_metric   acc    nll  roc_auc\u001b[0m\n",
      "\t\u001b[38;5;10m\u001b[1mtrain\u001b[0m        \u001b[38;5;10m\u001b[1m17403.981\u001b[0m  \u001b[38;5;150m0.92\u001b[0m  \u001b[38;5;150m0.551\u001b[0m    \u001b[38;5;150m0.563\u001b[0m\n",
      "\t\u001b[38;5;12m\u001b[1mvalid\u001b[0m         \u001b[38;5;12m\u001b[1m4360.015\u001b[0m  \u001b[38;5;105m0.92\u001b[0m  \u001b[38;5;105m0.555\u001b[0m    \u001b[38;5;105m0.532\u001b[0m\n",
      "\t\u001b[38;5;1m\u001b[1mtest\u001b[0m          \u001b[38;5;1m\u001b[1m4365.609\u001b[0m  \u001b[38;5;218m0.92\u001b[0m  \u001b[38;5;218m0.556\u001b[0m    \u001b[38;5;218m0.512\u001b[0m\n",
      "Incremental training, each time we sample a balanced dataset for training:\n",
      "\u001b[38;5;178m\u001b[1mCV fold 5\u001b[0m\n",
      "\t\u001b[38;5;178m\u001b[1mscore  business_metric   acc    nll  roc_auc\u001b[0m\n",
      "\t\u001b[38;5;10m\u001b[1mtrain\u001b[0m        \u001b[38;5;10m\u001b[1m15221.278\u001b[0m  \u001b[38;5;150m0.88\u001b[0m  \u001b[38;5;150m0.582\u001b[0m    \u001b[38;5;150m0.601\u001b[0m\n",
      "\t\u001b[38;5;12m\u001b[1mvalid\u001b[0m         \u001b[38;5;12m\u001b[1m3794.281\u001b[0m  \u001b[38;5;105m0.88\u001b[0m  \u001b[38;5;105m0.584\u001b[0m    \u001b[38;5;105m0.581\u001b[0m\n",
      "\t\u001b[38;5;1m\u001b[1mtest\u001b[0m          \u001b[38;5;1m\u001b[1m3768.136\u001b[0m  \u001b[38;5;218m0.87\u001b[0m  \u001b[38;5;218m0.586\u001b[0m    \u001b[38;5;218m0.562\u001b[0m\n",
      "Incremental training, each time we sample a balanced dataset for training:\n",
      "\u001b[38;5;178m\u001b[1mCV fold 6\u001b[0m\n",
      "\t\u001b[38;5;178m\u001b[1mscore  business_metric  acc    nll  roc_auc\u001b[0m\n",
      "\t\u001b[38;5;10m\u001b[1mtrain\u001b[0m        \u001b[38;5;10m\u001b[1m16362.771\u001b[0m  \u001b[38;5;150m0.9\u001b[0m  \u001b[38;5;150m\u001b[38;5;150m0.580\u001b[0m\u001b[0m    \u001b[38;5;150m\u001b[38;5;150m0.580\u001b[0m\u001b[0m\n",
      "\t\u001b[38;5;12m\u001b[1mvalid\u001b[0m         \u001b[38;5;12m\u001b[1m4051.817\u001b[0m  \u001b[38;5;105m0.9\u001b[0m  \u001b[38;5;105m0.586\u001b[0m    \u001b[38;5;105m0.545\u001b[0m\n",
      "\t\u001b[38;5;1m\u001b[1mtest\u001b[0m          \u001b[38;5;1m\u001b[1m4108.401\u001b[0m  \u001b[38;5;218m0.9\u001b[0m  \u001b[38;5;218m0.585\u001b[0m    \u001b[38;5;218m0.530\u001b[0m\n",
      "Incremental training, each time we sample a balanced dataset for training:\n",
      "\u001b[38;5;178m\u001b[1mCV fold 7\u001b[0m\n",
      "\t\u001b[38;5;178m\u001b[1mscore  business_metric  acc    nll  roc_auc\u001b[0m\n",
      "\t\u001b[38;5;10m\u001b[1mtrain\u001b[0m        \u001b[38;5;10m\u001b[1m16322.647\u001b[0m  \u001b[38;5;150m0.9\u001b[0m  \u001b[38;5;150m\u001b[38;5;150m0.570\u001b[0m\u001b[0m    \u001b[38;5;150m\u001b[38;5;150m0.570\u001b[0m\u001b[0m\n",
      "\t\u001b[38;5;12m\u001b[1mvalid\u001b[0m         \u001b[38;5;12m\u001b[1m4069.383\u001b[0m  \u001b[38;5;105m0.9\u001b[0m  \u001b[38;5;105m0.573\u001b[0m    \u001b[38;5;105m0.549\u001b[0m\n",
      "\t\u001b[38;5;1m\u001b[1mtest\u001b[0m          \u001b[38;5;1m\u001b[1m4058.771\u001b[0m  \u001b[38;5;218m0.9\u001b[0m  \u001b[38;5;218m0.573\u001b[0m    \u001b[38;5;218m0.534\u001b[0m\n",
      "\u001b[38;5;178m\u001b[1m----------------------------\u001b[0m\n",
      "\u001b[38;5;178m\u001b[1mMean CV scores\u001b[0m\n",
      "\u001b[38;5;178m\u001b[1m----------------------------\u001b[0m\n",
      "\t\u001b[38;5;178m\u001b[1mscore        business_metric           acc             nll         roc_auc\u001b[0m\n",
      "\t\u001b[38;5;10m\u001b[1mtrain\u001b[0m  \u001b[38;5;10m\u001b[1m15859.691\u001b[0m \u001b[38;5;150m\u001b[38;5;150m\u001b[38;5;150m\u001b[38;5;150m±\u001b[0m\u001b[0m\u001b[0m\u001b[0m \u001b[38;5;150m1247.5247\u001b[0m  \u001b[38;5;150m0.89\u001b[0m \u001b[38;5;150m\u001b[38;5;150m\u001b[38;5;150m\u001b[38;5;150m±\u001b[0m\u001b[0m\u001b[0m\u001b[0m \u001b[38;5;150m0.025\u001b[0m   \u001b[38;5;150m0.58\u001b[0m \u001b[38;5;150m\u001b[38;5;150m\u001b[38;5;150m\u001b[38;5;150m±\u001b[0m\u001b[0m\u001b[0m\u001b[0m \u001b[38;5;150m0.0222\u001b[0m  \u001b[38;5;150m0.58\u001b[0m7 \u001b[38;5;150m\u001b[38;5;150m\u001b[38;5;150m\u001b[38;5;150m±\u001b[0m\u001b[0m\u001b[0m\u001b[0m \u001b[38;5;150m0.0147\u001b[0m\n",
      "\t\u001b[38;5;12m\u001b[1mvalid\u001b[0m     \u001b[38;5;12m\u001b[1m3940.028\u001b[0m \u001b[38;5;105m\u001b[38;5;105m\u001b[38;5;105m\u001b[38;5;105m±\u001b[0m\u001b[0m\u001b[0m\u001b[0m \u001b[38;5;105m334.968\u001b[0m  \u001b[38;5;105m0.89\u001b[0m \u001b[38;5;105m\u001b[38;5;105m\u001b[38;5;105m\u001b[38;5;105m±\u001b[0m\u001b[0m\u001b[0m\u001b[0m \u001b[38;5;105m0.027\u001b[0m  \u001b[38;5;105m0.584\u001b[0m \u001b[38;5;105m\u001b[38;5;105m\u001b[38;5;105m\u001b[38;5;105m±\u001b[0m\u001b[0m\u001b[0m\u001b[0m \u001b[38;5;105m0.0226\u001b[0m  \u001b[38;5;105m0.555\u001b[0m \u001b[38;5;105m\u001b[38;5;105m\u001b[38;5;105m\u001b[38;5;105m±\u001b[0m\u001b[0m\u001b[0m\u001b[0m \u001b[38;5;105m0.0186\u001b[0m\n",
      "\t\u001b[38;5;1m\u001b[1mtest\u001b[0m      \u001b[38;5;1m\u001b[1m3943.713\u001b[0m \u001b[38;5;218m\u001b[38;5;218m\u001b[38;5;218m\u001b[38;5;218m±\u001b[0m\u001b[0m\u001b[0m\u001b[0m \u001b[38;5;218m325.409\u001b[0m  \u001b[38;5;218m0.89\u001b[0m \u001b[38;5;218m\u001b[38;5;218m\u001b[38;5;218m\u001b[38;5;218m±\u001b[0m\u001b[0m\u001b[0m\u001b[0m \u001b[38;5;218m0.026\u001b[0m  \u001b[38;5;218m0.585\u001b[0m \u001b[38;5;218m\u001b[38;5;218m\u001b[38;5;218m\u001b[38;5;218m±\u001b[0m\u001b[0m\u001b[0m\u001b[0m \u001b[38;5;218m0.0229\u001b[0m   \u001b[38;5;218m0.545\u001b[0m \u001b[38;5;218m\u001b[38;5;218m\u001b[38;5;218m\u001b[38;5;218m±\u001b[0m\u001b[0m\u001b[0m\u001b[0m \u001b[38;5;218m0.017\u001b[0m\n",
      "\u001b[38;5;178m\u001b[1m----------------------------\u001b[0m\n",
      "\u001b[38;5;178m\u001b[1mBagged scores\u001b[0m\n",
      "\u001b[38;5;178m\u001b[1m----------------------------\u001b[0m\n",
      "\t\u001b[38;5;178m\u001b[1mscore  business_metric\u001b[0m\n",
      "\t\u001b[38;5;12m\u001b[1mvalid\u001b[0m         \u001b[38;5;12m\u001b[1m16725.76\u001b[0m\n",
      "\t\u001b[38;5;1m\u001b[1mtest\u001b[0m           \u001b[38;5;1m\u001b[1m4137.12\u001b[0m\n"
     ]
    }
   ],
   "source": [
    "!ramp_test_submission"
   ]
  },
  {
   "cell_type": "markdown",
   "metadata": {
    "collapsed": true
   },
   "source": [
    "## Submitting to [ramp.studio](http://ramp.studio)\n",
    "\n",
    "Once you found a good feature extractor and classifier, you can submit them to [ramp.studio](http://www.ramp.studio). First, if it is your first time using RAMP, [sign up](http://www.ramp.studio/sign_up), otherwise [log in](http://www.ramp.studio/login).  Sign up for the event. Both signups are controled by RAMP administrators, so there **can be a delay between asking for signup and being able to submit**.\n",
    "\n",
    "If there is an error (despite having tested your submission locally with `ramp_test_submission`), it will show up in the \"Failed submissions\" table in [my submissions]. You can click on the error to see part of the trace.\n",
    "\n",
    "After submission, do not forget to give credits to the previous submissions you reused or integrated into your submission.\n",
    "\n",
    "The data set we use at the backend is usually different from what you find in the starting kit, so the score may be different.\n",
    "\n",
    "The usual way to work with RAMP is to explore solutions, add feature transformations, select models, perhaps do some AutoML/hyperopt, etc., _locally_, and checking them with `ramp_test_submission`. The script prints mean cross-validation scores \n",
    "```\n",
    "----------------------------\n",
    "train auc = 0.85 ± 0.005\n",
    "train acc = 0.81 ± 0.006\n",
    "train nll = 0.45 ± 0.007\n",
    "valid auc = 0.87 ± 0.023\n",
    "valid acc = 0.81 ± 0.02\n",
    "valid nll = 0.44 ± 0.024\n",
    "test auc = 0.83 ± 0.006\n",
    "test acc = 0.76 ± 0.003\n",
    "test nll = 0.5 ± 0.005\n",
    "```\n",
    " When the score is good enough, you can submit it at the RAMP."
   ]
  },
  {
   "cell_type": "markdown",
   "metadata": {},
   "source": [
    "#  <a style=\"color:#00925B\"> 5. Hints for features engineering and classifier </a>\n",
    "\n",
    "This Dataset is a quite complex business case because of the raw data structure and the prediction task and it is a famous challenge which has been tried by various data scientists. We give below some hints for further users of the Starting_kit to improve the score.\n",
    "\n",
    "\n",
    "- Consider other relevent metrics than F1 or accuracy due to the nature of dataset which is very unballanced\n",
    "\n",
    "- Consider downsampling methods or outlier detection classifier\n",
    "\n",
    "** Furthers hints - A dedicated KDD paper by a team of Singapore **\n",
    "\n",
    "A team of Singapore from Institute of Infocomm Researd (Data analytics department) and Development Bank has published a paper on KDD related to this kind of business-case 'Repeat Buyer Prediction for E-Commerce' and this Double_11 dataset in particular. They have build relevent features engineering structure which as shown below and the results are satisfactionary. \n",
    "http://www.kdd.org/kdd2016/papers/files/adf0160-liuA.pdf"
   ]
  },
  {
   "cell_type": "code",
   "execution_count": 80,
   "metadata": {},
   "outputs": [
    {
     "data": {
      "text/html": [
       "<img src=\"https://ai2-s2-public.s3.amazonaws.com/figures/2017-08-08/ad4e5ab490886e5c9d4beddc435767923fc2d526/3-Figure1-1.png\" width=\"800\" height=\"300\"/>"
      ],
      "text/plain": [
       "<IPython.core.display.Image object>"
      ]
     },
     "execution_count": 80,
     "metadata": {},
     "output_type": "execute_result"
    }
   ],
   "source": [
    "from IPython.display import Image\n",
    "source = 'https://ai2-s2-public.s3.amazonaws.com/figures/2017-08-08/ad4e5ab490886e5c9d4beddc435767923fc2d526/3-Figure1-1.png'\n",
    "Image(url = source, width=800, height=300)"
   ]
  }
 ],
 "metadata": {
  "kernelspec": {
   "display_name": "Python 2",
   "language": "python",
   "name": "python2"
  },
  "language_info": {
   "codemirror_mode": {
    "name": "ipython",
    "version": 2
   },
   "file_extension": ".py",
   "mimetype": "text/x-python",
   "name": "python",
   "nbconvert_exporter": "python",
   "pygments_lexer": "ipython2",
   "version": "2.7.14"
  }
 },
 "nbformat": 4,
 "nbformat_minor": 2
}
